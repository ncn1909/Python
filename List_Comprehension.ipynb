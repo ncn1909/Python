{
 "cells": [
  {
   "cell_type": "markdown",
   "metadata": {
    "colab_type": "text",
    "id": "q66aIvbZXXN1"
   },
   "source": [
    "## List Comprehension"
   ]
  },
  {
   "cell_type": "markdown",
   "metadata": {
    "colab_type": "text",
    "id": "eAKvED-Jn10Y"
   },
   "source": [
    "- List comprehension là một cách viết ngắn ngọn để tạo một list dựa trên một list khác\n",
    "- `[expresion for_loop_one_or_more condition]`"
   ]
  },
  {
   "cell_type": "markdown",
   "metadata": {
    "colab_type": "text",
    "id": "20yBZc9Io0aM"
   },
   "source": [
    "### Iterating through a string"
   ]
  },
  {
   "cell_type": "code",
   "execution_count": null,
   "metadata": {},
   "outputs": [],
   "source": [
    "s = 'hello'\n",
    "chars = []\n",
    "for element in s:\n",
    "    chars.append(element.upper())\n",
    "print(chars)"
   ]
  },
  {
   "cell_type": "code",
   "execution_count": 1,
   "metadata": {
    "colab": {
     "base_uri": "https://localhost:8080/",
     "height": 35
    },
    "colab_type": "code",
    "id": "tqrlzQpmo9zD",
    "outputId": "aef365fc-0dbb-4153-a759-3d15c9dded66"
   },
   "outputs": [
    {
     "name": "stdout",
     "output_type": "stream",
     "text": [
      "['H', 'E', 'L', 'L', 'O']\n"
     ]
    }
   ],
   "source": [
    "s = 'hello'\n",
    "chars = [element.upper() for element in s]\n",
    "print(chars)"
   ]
  },
  {
   "cell_type": "markdown",
   "metadata": {
    "colab_type": "text",
    "id": "Thuu33BLoeMq"
   },
   "source": [
    "### Apply an operation on each items in a list"
   ]
  },
  {
   "cell_type": "code",
   "execution_count": null,
   "metadata": {
    "colab": {
     "base_uri": "https://localhost:8080/",
     "height": 52
    },
    "colab_type": "code",
    "id": "o7D8poTcovCL",
    "outputId": "2002870a-7183-40e4-e8d4-ac0584d833e8"
   },
   "outputs": [],
   "source": [
    "list_1 = ['hom', 'nay', 'troi', 'dep', 'qua']\n",
    "\n",
    "### Using for loop\n",
    "list_2 = []\n",
    "for i in list_1:\n",
    "    item = i.upper()\n",
    "    list_2.append(item)\n",
    "print('For loop version:', list_2)\n",
    "\n",
    "### List Comprehension version\n",
    "list_3 = [i.upper() for i in list_1]\n",
    "print('List Comprehension Version:', list_3)"
   ]
  },
  {
   "cell_type": "code",
   "execution_count": null,
   "metadata": {
    "colab": {
     "base_uri": "https://localhost:8080/",
     "height": 51
    },
    "colab_type": "code",
    "id": "gTXbo9VPXbV4",
    "outputId": "44323a81-1728-486b-a5ae-dcb77b3ce057"
   },
   "outputs": [],
   "source": [
    "l = [7,24,12,16,9]\n",
    "\n",
    "# Using for loop\n",
    "l_double_for = []\n",
    "for element in l:\n",
    "    l_double_for.append(element * 2)\n",
    "print('For loop version:', l_double_for)\n",
    "\n",
    "# Using list comprehension\n",
    "l_double = [element * 2 for element in l]\n",
    "print('List comprehension version:', l_double_for)"
   ]
  },
  {
   "cell_type": "markdown",
   "metadata": {
    "colab_type": "text",
    "id": "4osBY1rdZBO1"
   },
   "source": [
    "### Filtering with list comprehension"
   ]
  },
  {
   "cell_type": "code",
   "execution_count": 2,
   "metadata": {
    "colab": {
     "base_uri": "https://localhost:8080/",
     "height": 34
    },
    "colab_type": "code",
    "id": "LCle3P3mY1Ha",
    "outputId": "c05e6316-58fb-4352-aa85-17be09c6d1cf"
   },
   "outputs": [
    {
     "name": "stdout",
     "output_type": "stream",
     "text": [
      "List commprehension version: [7, 8, 10, 12]\n"
     ]
    }
   ],
   "source": [
    "l = [1,2,4,5,7,8,10,12]\n",
    "\n",
    "filtered = [element for element in l if element > 5]\n",
    "print('List commprehension version:', filtered)"
   ]
  },
  {
   "cell_type": "markdown",
   "metadata": {
    "colab_type": "text",
    "id": "Zr72ZadBqmzr"
   },
   "source": [
    "### Changing elements with condition in list comprehension"
   ]
  },
  {
   "cell_type": "code",
   "execution_count": null,
   "metadata": {
    "colab": {
     "base_uri": "https://localhost:8080/",
     "height": 34
    },
    "colab_type": "code",
    "id": "3bnCuLOomnGy",
    "outputId": "c0611d7a-08be-48a2-a7b1-b384bda61f68"
   },
   "outputs": [],
   "source": [
    "l = [0,1,2,3,4,5,6,7,8,9]\n",
    "result = ['Odd' if element %2 !=0 else 'Even' for element in l if element > 5]\n",
    "print(result)"
   ]
  },
  {
   "cell_type": "markdown",
   "metadata": {
    "colab_type": "text",
    "id": "DxjGvpUpyn1n"
   },
   "source": [
    "### Nested loop with list comprehension"
   ]
  },
  {
   "cell_type": "code",
   "execution_count": 3,
   "metadata": {
    "colab": {
     "base_uri": "https://localhost:8080/",
     "height": 52
    },
    "colab_type": "code",
    "id": "n58YPBMuyrKD",
    "outputId": "29d18672-06c1-4a9c-8107-8b1cb85d6e0b"
   },
   "outputs": [
    {
     "name": "stdout",
     "output_type": "stream",
     "text": [
      "[[0, 0, 0], [1, 1, 1], [2, 2, 2]]\n",
      "[[0, 0, 0], [2, 2, 2], [4, 4, 4]]\n"
     ]
    }
   ],
   "source": [
    "matrix = [\n",
    "     [0, 0, 0],\n",
    "     [1, 1, 1],\n",
    "     [2, 2, 2],\n",
    "]\n",
    "flat = [row for row in matrix]\n",
    "flat2 = [[ele * 2 for ele in row] for row in matrix]\n",
    "print(flat)\n",
    "print(flat2)"
   ]
  },
  {
   "cell_type": "markdown",
   "metadata": {
    "colab_type": "text",
    "id": "8UN90six5VDj"
   },
   "source": [
    "### Set Comprehension"
   ]
  },
  {
   "cell_type": "code",
   "execution_count": null,
   "metadata": {
    "colab": {
     "base_uri": "https://localhost:8080/",
     "height": 34
    },
    "colab_type": "code",
    "id": "TlCbBHlp5YlU",
    "outputId": "b1643407-2d19-407b-ad98-cf5324bd723a"
   },
   "outputs": [],
   "source": [
    "# syntax for set comprehension\n",
    "# {expression for item in iterable}\n",
    "numbers = (1, 34, 5, 8, 10, 12, 3, 90, 70, 70, 90)\n",
    "unique_even_numbers = {number for number in numbers if number%2 == 0}\n",
    "unique_even_numbers\n",
    "{34, 70, 8, 10, 12, 90}"
   ]
  },
  {
   "cell_type": "markdown",
   "metadata": {
    "colab_type": "text",
    "id": "XWMVDSTT54rG"
   },
   "source": [
    "### Dictionary Comprehension"
   ]
  },
  {
   "cell_type": "code",
   "execution_count": 5,
   "metadata": {
    "colab": {
     "base_uri": "https://localhost:8080/",
     "height": 69
    },
    "colab_type": "code",
    "id": "rfvNnOEd6ClC",
    "outputId": "0d65b7ee-0567-4d1f-e469-cd3e4728b7ae"
   },
   "outputs": [
    {
     "name": "stdout",
     "output_type": "stream",
     "text": [
      "{'hom': 3, 'nay': 3, 'troi': 4, 'dep': 3, 'qua': 3}\n"
     ]
    }
   ],
   "source": [
    "# syntax for dict comprehension\n",
    "# {key_expression : value_expression for item in iterable}\n",
    "words = ('hom', 'nay', 'troi', 'dep', 'qua')\n",
    "d = {}\n",
    "for w in words:\n",
    "    d[w] = len(w)\n",
    "print(d)\n",
    "\n",
    "len_words = {word : len(word) for word in words}\n",
    "#print(len_words)\n",
    "\n",
    "len_words_p = {word : len(word) for word in words if word.startswith('h')}\n",
    "#print(len_words_p)"
   ]
  },
  {
   "cell_type": "markdown",
   "metadata": {
    "colab_type": "text",
    "id": "gu7afkQaruWj"
   },
   "source": [
    "### Notes\n",
    "- List comprehension is generally more compact and faster than normal functions and loops for creating list.\n",
    "- Avoid writing very long list comprehensions to ensure user-friendly\n",
    "- Every list comprehension can be rewritten in for loop, but every for loop can’t be rewritten in the form of list comprehension."
   ]
  }
 ],
 "metadata": {
  "colab": {
   "collapsed_sections": [],
   "name": "Python_List_Comprehension.ipynb",
   "provenance": []
  },
  "kernelspec": {
   "display_name": "Python 3",
   "language": "python",
   "name": "python3"
  },
  "language_info": {
   "codemirror_mode": {
    "name": "ipython",
    "version": 3
   },
   "file_extension": ".py",
   "mimetype": "text/x-python",
   "name": "python",
   "nbconvert_exporter": "python",
   "pygments_lexer": "ipython3",
   "version": "3.7.10"
  }
 },
 "nbformat": 4,
 "nbformat_minor": 4
}
