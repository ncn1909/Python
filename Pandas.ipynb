{
 "cells": [
  {
   "cell_type": "markdown",
   "metadata": {
    "colab_type": "text",
    "id": "3HCTzyzkKYp_"
   },
   "source": [
    "## Install Pandas"
   ]
  },
  {
   "cell_type": "code",
   "execution_count": null,
   "metadata": {
    "colab": {
     "base_uri": "https://localhost:8080/",
     "height": 122
    },
    "colab_type": "code",
    "id": "RxY5P8tEKfkD",
    "outputId": "d8cc9bda-e609-480f-afd8-3ba8c3dd520c"
   },
   "outputs": [],
   "source": [
    "!pip install pandas"
   ]
  },
  {
   "cell_type": "markdown",
   "metadata": {
    "colab_type": "text",
    "id": "-OchD5U7Kn1e"
   },
   "source": [
    "## Import Pandas"
   ]
  },
  {
   "cell_type": "code",
   "execution_count": null,
   "metadata": {
    "colab": {},
    "colab_type": "code",
    "id": "qzPNUEeyKj7L"
   },
   "outputs": [],
   "source": [
    "import pandas as pd"
   ]
  },
  {
   "cell_type": "markdown",
   "metadata": {
    "colab_type": "text",
    "id": "xvLUzt2pL4nx"
   },
   "source": [
    "## Load data into Pandas"
   ]
  },
  {
   "cell_type": "markdown",
   "metadata": {
    "colab_type": "text",
    "id": "D-bqzYrnNhNr"
   },
   "source": [
    "### From CSV files"
   ]
  },
  {
   "cell_type": "markdown",
   "metadata": {
    "colab_type": "text",
    "id": "41MQa4XRNpct"
   },
   "source": [
    "### From Excel files"
   ]
  },
  {
   "cell_type": "code",
   "execution_count": null,
   "metadata": {
    "colab": {},
    "colab_type": "code",
    "id": "E1GWXe6WLhZk"
   },
   "outputs": [],
   "source": [
    "df = pd.read_csv('./pokemon_data.csv')"
   ]
  },
  {
   "cell_type": "code",
   "execution_count": null,
   "metadata": {
    "colab": {
     "base_uri": "https://localhost:8080/",
     "height": 197
    },
    "colab_type": "code",
    "id": "Dvbaz_Lz87Ji",
    "outputId": "07b247d2-2ac6-4e99-8336-76fec853adc7"
   },
   "outputs": [],
   "source": [
    "df.head()"
   ]
  },
  {
   "cell_type": "code",
   "execution_count": null,
   "metadata": {
    "colab": {},
    "colab_type": "code",
    "id": "j62RjQwENgHJ"
   },
   "outputs": [],
   "source": [
    "df_excel = pd.read_excel('./pokemon_data.xlsx')"
   ]
  },
  {
   "cell_type": "markdown",
   "metadata": {
    "colab_type": "text",
    "id": "77Vxj0TDN83p"
   },
   "source": [
    "### From text files"
   ]
  },
  {
   "cell_type": "code",
   "execution_count": null,
   "metadata": {
    "colab": {},
    "colab_type": "code",
    "id": "wx5i-ywdODLj"
   },
   "outputs": [],
   "source": [
    "df_txt = pd.read_csv('./pokemon_data.txt', delimiter='\\t')\n",
    "df_txt.tail()\n"
   ]
  },
  {
   "cell_type": "code",
   "execution_count": null,
   "metadata": {},
   "outputs": [],
   "source": [
    "df_txt.columns"
   ]
  },
  {
   "cell_type": "code",
   "execution_count": null,
   "metadata": {},
   "outputs": [],
   "source": [
    "len(df_txt)"
   ]
  },
  {
   "cell_type": "code",
   "execution_count": null,
   "metadata": {},
   "outputs": [],
   "source": [
    "df_txt.shape"
   ]
  },
  {
   "cell_type": "markdown",
   "metadata": {
    "colab_type": "text",
    "id": "U10iXMCAND2O"
   },
   "source": [
    "## Read data"
   ]
  },
  {
   "cell_type": "markdown",
   "metadata": {
    "colab_type": "text",
    "id": "0phjJIPcNUpa"
   },
   "source": [
    "### Read only a few first rows of a dataframe"
   ]
  },
  {
   "cell_type": "code",
   "execution_count": null,
   "metadata": {
    "colab": {
     "base_uri": "https://localhost:8080/",
     "height": 178
    },
    "colab_type": "code",
    "id": "Tsl_5Jc4M58i",
    "outputId": "aee3684c-d70a-4d9c-9676-c98d012101d1"
   },
   "outputs": [],
   "source": [
    "df.head(3)"
   ]
  },
  {
   "cell_type": "code",
   "execution_count": null,
   "metadata": {
    "colab": {
     "base_uri": "https://localhost:8080/",
     "height": 158
    },
    "colab_type": "code",
    "id": "hrjx5Ag-Ncqs",
    "outputId": "9d715bd2-2127-4204-c7d0-a87c1a72f116"
   },
   "outputs": [],
   "source": [
    "df_excel.head(3)"
   ]
  },
  {
   "cell_type": "code",
   "execution_count": null,
   "metadata": {
    "colab": {
     "base_uri": "https://localhost:8080/",
     "height": 158
    },
    "colab_type": "code",
    "id": "0vj_JqsCOyiQ",
    "outputId": "a6854692-4dc7-449b-8e6b-7e809ddb27c5"
   },
   "outputs": [],
   "source": [
    "df_txt.head(3)"
   ]
  },
  {
   "cell_type": "markdown",
   "metadata": {
    "colab_type": "text",
    "id": "r0aZqk3tPCtu"
   },
   "source": [
    "### Read a few last rows of a dataframe"
   ]
  },
  {
   "cell_type": "code",
   "execution_count": null,
   "metadata": {
    "colab": {
     "base_uri": "https://localhost:8080/",
     "height": 261
    },
    "colab_type": "code",
    "id": "3rT541rPPH7Z",
    "outputId": "746935f5-5dce-4653-9f82-7b2a160bced7"
   },
   "outputs": [],
   "source": [
    "df.tail(4)"
   ]
  },
  {
   "cell_type": "markdown",
   "metadata": {
    "colab_type": "text",
    "id": "ni6CiSv-POzq"
   },
   "source": [
    "### Read a few random rows"
   ]
  },
  {
   "cell_type": "code",
   "execution_count": null,
   "metadata": {
    "colab": {
     "base_uri": "https://localhost:8080/",
     "height": 301
    },
    "colab_type": "code",
    "id": "NoglrNPHPMO-",
    "outputId": "82ed19d4-2143-433c-a888-92cde558b96b"
   },
   "outputs": [],
   "source": [
    "df.sample(7)"
   ]
  },
  {
   "cell_type": "markdown",
   "metadata": {
    "colab_type": "text",
    "id": "HuI3AwS7f2sL"
   },
   "source": [
    "### Read unique values of a column"
   ]
  },
  {
   "cell_type": "code",
   "execution_count": null,
   "metadata": {
    "colab": {
     "base_uri": "https://localhost:8080/",
     "height": 35
    },
    "colab_type": "code",
    "id": "cVxN1UtlEFuO",
    "outputId": "cd71879d-940f-42e3-bddf-b6268dddd669"
   },
   "outputs": [],
   "source": [
    "df.shape"
   ]
  },
  {
   "cell_type": "code",
   "execution_count": null,
   "metadata": {
    "colab": {
     "base_uri": "https://localhost:8080/",
     "height": 69
    },
    "colab_type": "code",
    "id": "bU2aJ8Sff-C9",
    "outputId": "69d9e70d-8210-4516-eeb1-55f6de572b53"
   },
   "outputs": [],
   "source": [
    "df['Type 1'].unique()"
   ]
  },
  {
   "cell_type": "markdown",
   "metadata": {
    "colab_type": "text",
    "id": "xPNqLFSpPy0E"
   },
   "source": [
    "### Read headers of a dataframe"
   ]
  },
  {
   "cell_type": "code",
   "execution_count": null,
   "metadata": {
    "colab": {
     "base_uri": "https://localhost:8080/",
     "height": 69
    },
    "colab_type": "code",
    "id": "57nOjiMRPXJx",
    "outputId": "b9f32601-17aa-40f2-d7e8-00fc72a50514"
   },
   "outputs": [],
   "source": [
    "df.columns"
   ]
  },
  {
   "cell_type": "code",
   "execution_count": null,
   "metadata": {},
   "outputs": [],
   "source": [
    "len(df.columns)"
   ]
  },
  {
   "cell_type": "markdown",
   "metadata": {
    "colab_type": "text",
    "id": "7sRI1L2BQLBv"
   },
   "source": [
    "### Read a specific column"
   ]
  },
  {
   "cell_type": "code",
   "execution_count": null,
   "metadata": {
    "colab": {
     "base_uri": "https://localhost:8080/",
     "height": 225
    },
    "colab_type": "code",
    "id": "ypAYvagsEcI1",
    "outputId": "22333555-9767-41da-fdc5-b1c31e161df0"
   },
   "outputs": [],
   "source": [
    "df['Name']"
   ]
  },
  {
   "cell_type": "code",
   "execution_count": null,
   "metadata": {
    "colab": {
     "base_uri": "https://localhost:8080/",
     "height": 104
    },
    "colab_type": "code",
    "id": "uSL5SEqcP4zx",
    "outputId": "15459894-7a1b-4b3e-c32f-20e61cf66c56"
   },
   "outputs": [],
   "source": [
    "df['Name'][-2:-1]"
   ]
  },
  {
   "cell_type": "code",
   "execution_count": null,
   "metadata": {
    "colab": {},
    "colab_type": "code",
    "id": "vYe51YNaQUAZ"
   },
   "outputs": [],
   "source": [
    "df[['Name']][2:6]"
   ]
  },
  {
   "cell_type": "code",
   "execution_count": null,
   "metadata": {
    "colab": {
     "base_uri": "https://localhost:8080/",
     "height": 191
    },
    "colab_type": "code",
    "id": "4RKJVvRDEwVC",
    "outputId": "da39c1ed-9942-4075-857d-962d6f9a4509"
   },
   "outputs": [],
   "source": [
    "df['Defense'][2:11]"
   ]
  },
  {
   "cell_type": "markdown",
   "metadata": {
    "colab_type": "text",
    "id": "GjRaHAyTRa3h"
   },
   "source": [
    "### Read some columns"
   ]
  },
  {
   "cell_type": "code",
   "execution_count": null,
   "metadata": {
    "colab": {
     "base_uri": "https://localhost:8080/",
     "height": 415
    },
    "colab_type": "code",
    "id": "HUJSnnylQ6q0",
    "outputId": "37a631ef-8b23-4b1a-c735-3f9af114965f"
   },
   "outputs": [],
   "source": [
    "list_columns=['Name', 'HP', 'Type 2']\n",
    "df[list_columns]"
   ]
  },
  {
   "cell_type": "code",
   "execution_count": null,
   "metadata": {
    "colab": {
     "base_uri": "https://localhost:8080/",
     "height": 225
    },
    "colab_type": "code",
    "id": "V0jfwE8zFDcD",
    "outputId": "2d461314-dc8c-4b16-9f3e-8e23a7cf7b61"
   },
   "outputs": [],
   "source": [
    "df['Name']"
   ]
  },
  {
   "cell_type": "markdown",
   "metadata": {
    "colab_type": "text",
    "id": "E0l8gFBLSB5B"
   },
   "source": [
    "### Read a specific row"
   ]
  },
  {
   "cell_type": "code",
   "execution_count": null,
   "metadata": {
    "colab": {
     "base_uri": "https://localhost:8080/",
     "height": 260
    },
    "colab_type": "code",
    "id": "QTDi8721RkWB",
    "outputId": "658d58f8-0d48-48a5-b62b-ee4e3f9d1d87"
   },
   "outputs": [],
   "source": [
    "df.iloc[1,:]"
   ]
  },
  {
   "cell_type": "code",
   "execution_count": null,
   "metadata": {},
   "outputs": [],
   "source": [
    "df.iloc[1, 0:3]"
   ]
  },
  {
   "cell_type": "markdown",
   "metadata": {
    "colab_type": "text",
    "id": "r2izksSXSvcf"
   },
   "source": [
    "### Read a few rows"
   ]
  },
  {
   "cell_type": "code",
   "execution_count": null,
   "metadata": {
    "colab": {
     "base_uri": "https://localhost:8080/",
     "height": 195
    },
    "colab_type": "code",
    "id": "g8tX8YIWSQqy",
    "outputId": "5fdaea58-6f4d-4bc5-ead1-0849ca83963c"
   },
   "outputs": [],
   "source": [
    "df.iloc[1:4,:]"
   ]
  },
  {
   "cell_type": "code",
   "execution_count": null,
   "metadata": {},
   "outputs": [],
   "source": [
    "df.iloc[1:4]"
   ]
  },
  {
   "cell_type": "code",
   "execution_count": null,
   "metadata": {
    "colab": {
     "base_uri": "https://localhost:8080/",
     "height": 195
    },
    "colab_type": "code",
    "id": "ez56BEUqS-9F",
    "outputId": "8239e4df-22e2-46c7-ee1e-e6a32e1b9b48"
   },
   "outputs": [],
   "source": [
    "df[1:4]"
   ]
  },
  {
   "cell_type": "markdown",
   "metadata": {
    "colab_type": "text",
    "id": "WvizofJ6S0oH"
   },
   "source": [
    "### Read a specific cell"
   ]
  },
  {
   "cell_type": "code",
   "execution_count": null,
   "metadata": {
    "colab": {
     "base_uri": "https://localhost:8080/",
     "height": 35
    },
    "colab_type": "code",
    "id": "isJLcXhWSzW2",
    "outputId": "d6f6d72b-4985-49cb-f10a-36a430aea473"
   },
   "outputs": [],
   "source": [
    "df.iloc[1,1]"
   ]
  },
  {
   "cell_type": "markdown",
   "metadata": {
    "colab_type": "text",
    "id": "QFZgf8_ITvZ4"
   },
   "source": [
    "### Read a few cells"
   ]
  },
  {
   "cell_type": "code",
   "execution_count": null,
   "metadata": {
    "colab": {
     "base_uri": "https://localhost:8080/",
     "height": 141
    },
    "colab_type": "code",
    "id": "08Fwnbk7TVIO",
    "outputId": "eb7d620c-ccc0-471b-9db5-a7e3346509ce"
   },
   "outputs": [],
   "source": [
    "df.iloc[1:4, 1:3]"
   ]
  },
  {
   "cell_type": "code",
   "execution_count": null,
   "metadata": {
    "colab": {
     "base_uri": "https://localhost:8080/",
     "height": 141
    },
    "colab_type": "code",
    "id": "KY70OSVFTf9L",
    "outputId": "9bc5c32f-b47e-444d-d2e4-2b736987f140"
   },
   "outputs": [],
   "source": [
    "df[['Name', 'Type 1']][1:4]"
   ]
  },
  {
   "cell_type": "code",
   "execution_count": null,
   "metadata": {},
   "outputs": [],
   "source": [
    "A = ['Name', 'Type 1']"
   ]
  },
  {
   "cell_type": "code",
   "execution_count": null,
   "metadata": {},
   "outputs": [],
   "source": [
    "df[A]"
   ]
  },
  {
   "cell_type": "code",
   "execution_count": null,
   "metadata": {},
   "outputs": [],
   "source": [
    "df[A][1:4]"
   ]
  },
  {
   "cell_type": "markdown",
   "metadata": {
    "colab_type": "text",
    "id": "Ow2qP_gFUoro"
   },
   "source": [
    "## Describe data"
   ]
  },
  {
   "cell_type": "code",
   "execution_count": null,
   "metadata": {
    "colab": {
     "base_uri": "https://localhost:8080/",
     "height": 314
    },
    "colab_type": "code",
    "id": "ta6-ip01TnLa",
    "outputId": "316fd70e-30d3-4fb8-f31b-60e4532be369"
   },
   "outputs": [],
   "source": [
    "df.describe()"
   ]
  },
  {
   "cell_type": "markdown",
   "metadata": {
    "colab_type": "text",
    "id": "RZsYlYxEVW9S"
   },
   "source": [
    "## Sort data"
   ]
  },
  {
   "cell_type": "markdown",
   "metadata": {
    "colab_type": "text",
    "id": "ki3aLFigVsOg"
   },
   "source": [
    "### By 1 column"
   ]
  },
  {
   "cell_type": "code",
   "execution_count": null,
   "metadata": {
    "colab": {
     "base_uri": "https://localhost:8080/",
     "height": 487
    },
    "colab_type": "code",
    "id": "MVa3lG_DU8_n",
    "outputId": "70fa93ff-2d90-4782-9755-7eb08e780fcf"
   },
   "outputs": [],
   "source": [
    "df.sort_values(by='Name', ascending=True)"
   ]
  },
  {
   "cell_type": "markdown",
   "metadata": {
    "colab_type": "text",
    "id": "Q3Aib8HTVwQy"
   },
   "source": [
    "### By many columns"
   ]
  },
  {
   "cell_type": "code",
   "execution_count": null,
   "metadata": {
    "colab": {
     "base_uri": "https://localhost:8080/",
     "height": 410
    },
    "colab_type": "code",
    "id": "DpfGT20GVfiD",
    "outputId": "914f41ad-1809-4c40-d7b3-d388ccdf7572"
   },
   "outputs": [],
   "source": [
    "df.sort_values(by=['Type 1', 'HP'], ascending=[True, False])[:10]"
   ]
  },
  {
   "cell_type": "markdown",
   "metadata": {
    "colab_type": "text",
    "id": "i3LpkdYO7Q4f"
   },
   "source": [
    "## Make changes to the data"
   ]
  },
  {
   "cell_type": "markdown",
   "metadata": {
    "colab_type": "text",
    "id": "oFp0T9z29Pau"
   },
   "source": [
    "### Add columns"
   ]
  },
  {
   "cell_type": "code",
   "execution_count": null,
   "metadata": {
    "colab": {
     "base_uri": "https://localhost:8080/",
     "height": 257
    },
    "colab_type": "code",
    "id": "E6Wg30pAV_7-",
    "outputId": "ca011e56-820c-4967-b32d-d9d67a4b6d11"
   },
   "outputs": [],
   "source": [
    "df.head()"
   ]
  },
  {
   "cell_type": "code",
   "execution_count": null,
   "metadata": {
    "colab": {
     "base_uri": "https://localhost:8080/",
     "height": 69
    },
    "colab_type": "code",
    "id": "7vqTg6MQ8MZH",
    "outputId": "39ddf74b-995a-4c3b-ddc9-3e549a28a2fb"
   },
   "outputs": [],
   "source": [
    "df.columns"
   ]
  },
  {
   "cell_type": "code",
   "execution_count": null,
   "metadata": {
    "colab": {},
    "colab_type": "code",
    "id": "NXGEMkCs7y6C"
   },
   "outputs": [],
   "source": [
    "df['TOTAL'] = df['HP'] + df['Attack']"
   ]
  },
  {
   "cell_type": "code",
   "execution_count": null,
   "metadata": {},
   "outputs": [],
   "source": [
    "df['Name'] = df['HP'] + df['Attack']"
   ]
  },
  {
   "cell_type": "code",
   "execution_count": null,
   "metadata": {
    "colab": {
     "base_uri": "https://localhost:8080/",
     "height": 257
    },
    "colab_type": "code",
    "id": "jyAiSKpl8S8E",
    "outputId": "bd5e01d2-c92c-413a-f940-fa3d011fded1"
   },
   "outputs": [],
   "source": [
    "df.head()"
   ]
  },
  {
   "cell_type": "code",
   "execution_count": null,
   "metadata": {
    "colab": {
     "base_uri": "https://localhost:8080/",
     "height": 35
    },
    "colab_type": "code",
    "id": "aoLStA748UYo",
    "outputId": "9447c35f-5db8-462b-b6a9-062fdbba0a88"
   },
   "outputs": [],
   "source": [
    "45+49"
   ]
  },
  {
   "cell_type": "markdown",
   "metadata": {
    "colab_type": "text",
    "id": "6qRoARCd9UaC"
   },
   "source": [
    "### Drop columns"
   ]
  },
  {
   "cell_type": "code",
   "execution_count": null,
   "metadata": {
    "colab": {
     "base_uri": "https://localhost:8080/",
     "height": 69
    },
    "colab_type": "code",
    "id": "RZ6--X5U9nOW",
    "outputId": "44065969-f8bf-426f-d9b6-ff2ac66a28b5"
   },
   "outputs": [],
   "source": [
    "df.columns"
   ]
  },
  {
   "cell_type": "code",
   "execution_count": null,
   "metadata": {
    "colab": {
     "base_uri": "https://localhost:8080/",
     "height": 331
    },
    "colab_type": "code",
    "id": "GfG9qvjJ9Au1",
    "outputId": "02cdec0b-58da-4ddf-9bd4-d47f334a9a82"
   },
   "outputs": [],
   "source": [
    "df.drop(columns=['TOTAL'], inplace=True)"
   ]
  },
  {
   "cell_type": "code",
   "execution_count": null,
   "metadata": {},
   "outputs": [],
   "source": [
    "df"
   ]
  },
  {
   "cell_type": "code",
   "execution_count": null,
   "metadata": {
    "colab": {
     "base_uri": "https://localhost:8080/",
     "height": 69
    },
    "colab_type": "code",
    "id": "dNt6rZLI9ilK",
    "outputId": "c36a3611-3e7b-4caa-8518-b36423158e6f"
   },
   "outputs": [],
   "source": [
    "df.columns"
   ]
  },
  {
   "cell_type": "markdown",
   "metadata": {
    "colab_type": "text",
    "id": "qNITFVYgfi34"
   },
   "source": [
    "### Replace a specific value in a column"
   ]
  },
  {
   "cell_type": "code",
   "execution_count": null,
   "metadata": {
    "colab": {},
    "colab_type": "code",
    "id": "bUIuWDlifrmE"
   },
   "outputs": [],
   "source": [
    "df.head()"
   ]
  },
  {
   "cell_type": "code",
   "execution_count": null,
   "metadata": {
    "colab": {
     "base_uri": "https://localhost:8080/",
     "height": 69
    },
    "colab_type": "code",
    "id": "xjpp04rAgJv7",
    "outputId": "40de965b-6b17-4a85-f239-989788324f63"
   },
   "outputs": [],
   "source": [
    "df['Type 1'].unique()"
   ]
  },
  {
   "cell_type": "code",
   "execution_count": null,
   "metadata": {
    "colab": {
     "base_uri": "https://localhost:8080/",
     "height": 1000
    },
    "colab_type": "code",
    "id": "0UNZH7UNIOb6",
    "outputId": "0cea337b-d058-4c82-8180-7711d5bd1601"
   },
   "outputs": [],
   "source": [
    "df['Name'].unique()"
   ]
  },
  {
   "cell_type": "code",
   "execution_count": null,
   "metadata": {
    "colab": {},
    "colab_type": "code",
    "id": "XtUnrBV8gQ6u"
   },
   "outputs": [],
   "source": [
    "to_replace = {\n",
    "    'Type 1': 'Fairy',\n",
    "    'Name': 'Ivysaur'\n",
    "}\n",
    "value = {\n",
    "   'Type 1': 'FAIRY',\n",
    "   'Name': 'IVYSAUR' \n",
    "}\n",
    "replaced_df = df.replace(to_replace=to_replace, value=value)"
   ]
  },
  {
   "cell_type": "code",
   "execution_count": null,
   "metadata": {
    "colab": {
     "base_uri": "https://localhost:8080/",
     "height": 69
    },
    "colab_type": "code",
    "id": "izwba2kXg2Og",
    "outputId": "80a91694-7f1d-41b8-9bd0-ae7d8d2af94f"
   },
   "outputs": [],
   "source": [
    "replaced_df['Type 1'].unique()"
   ]
  },
  {
   "cell_type": "code",
   "execution_count": null,
   "metadata": {
    "colab": {
     "base_uri": "https://localhost:8080/",
     "height": 1000
    },
    "colab_type": "code",
    "id": "hDKkCQ_SiTvG",
    "outputId": "bed27920-8e0b-4eae-aed1-0caeef303cc7"
   },
   "outputs": [],
   "source": [
    "replaced_df['Name'].unique()"
   ]
  },
  {
   "cell_type": "markdown",
   "metadata": {
    "colab_type": "text",
    "id": "tjjnVbqm-x7Z"
   },
   "source": [
    "## Export dataframe to desired format"
   ]
  },
  {
   "cell_type": "code",
   "execution_count": null,
   "metadata": {
    "colab": {},
    "colab_type": "code",
    "id": "0g2ZUALb-7Pt"
   },
   "outputs": [],
   "source": [
    "df['Total'] = df['HP'] + df['Attack'] + df['Defense'] + df['Sp. Atk'] + df['Sp. Def'] + df['Speed']"
   ]
  },
  {
   "cell_type": "code",
   "execution_count": null,
   "metadata": {
    "colab": {},
    "colab_type": "code",
    "id": "Zfp_YRWh9j9T"
   },
   "outputs": [],
   "source": [
    "df.head()"
   ]
  },
  {
   "cell_type": "markdown",
   "metadata": {
    "colab_type": "text",
    "id": "8RoIAoY1_VhQ"
   },
   "source": [
    "### To csv files"
   ]
  },
  {
   "cell_type": "code",
   "execution_count": null,
   "metadata": {
    "colab": {},
    "colab_type": "code",
    "id": "QS6aDzah-9j9"
   },
   "outputs": [],
   "source": [
    "df.to_csv('Modified.csv', index=False)"
   ]
  },
  {
   "cell_type": "markdown",
   "metadata": {
    "colab_type": "text",
    "id": "FRSwNVhZ_ZyW"
   },
   "source": [
    "### To excel files\n",
    "\n"
   ]
  },
  {
   "cell_type": "code",
   "execution_count": null,
   "metadata": {
    "colab": {},
    "colab_type": "code",
    "id": "6Wx4XgDa_RAq"
   },
   "outputs": [],
   "source": [
    "df.to_excel('Modifiled.xlsx', index=False)"
   ]
  },
  {
   "cell_type": "markdown",
   "metadata": {
    "colab_type": "text",
    "id": "p3ymrEYM_-XO"
   },
   "source": [
    "### To text files"
   ]
  },
  {
   "cell_type": "code",
   "execution_count": null,
   "metadata": {
    "colab": {},
    "colab_type": "code",
    "id": "1VHQhz-c_7A8"
   },
   "outputs": [],
   "source": [
    "df.to_csv('Modified.txt', index=False, sep='\\t')"
   ]
  },
  {
   "cell_type": "markdown",
   "metadata": {
    "colab_type": "text",
    "id": "L7dzTt79A8ad"
   },
   "source": [
    "## Filter data"
   ]
  },
  {
   "cell_type": "markdown",
   "metadata": {
    "colab_type": "text",
    "id": "DIn3LWOuG1nC"
   },
   "source": [
    "### Filter columns by conditions"
   ]
  },
  {
   "cell_type": "code",
   "execution_count": null,
   "metadata": {
    "colab": {
     "base_uri": "https://localhost:8080/",
     "height": 470
    },
    "colab_type": "code",
    "id": "CEXNXYutAOow",
    "outputId": "1ca7900f-392c-4350-a837-3dcb5d16ec99"
   },
   "outputs": [],
   "source": [
    "df[df['Type 1'] == 'Grass']"
   ]
  },
  {
   "cell_type": "code",
   "execution_count": null,
   "metadata": {
    "colab": {
     "base_uri": "https://localhost:8080/",
     "height": 410
    },
    "colab_type": "code",
    "id": "6VtZBXG4EIdr",
    "outputId": "76d4063d-ccf6-49ef-c209-04cd87f34e83"
   },
   "outputs": [],
   "source": [
    "df[(df['Type 1'] == 'Grass') & (df['Type 2'] == 'Poison') & (df['HP'] > 50)]"
   ]
  },
  {
   "cell_type": "markdown",
   "metadata": {
    "colab_type": "text",
    "id": "qiIOurilE4nK"
   },
   "source": [
    "### Reset index"
   ]
  },
  {
   "cell_type": "code",
   "execution_count": null,
   "metadata": {
    "colab": {},
    "colab_type": "code",
    "id": "ya5U_s0MEXEG"
   },
   "outputs": [],
   "source": [
    "filtered_df = df[(df['Type 1'] == 'Grass') & (df['Type 2'] == 'Poison') & (df['HP'] > 50)]"
   ]
  },
  {
   "cell_type": "code",
   "execution_count": null,
   "metadata": {
    "colab": {
     "base_uri": "https://localhost:8080/",
     "height": 410
    },
    "colab_type": "code",
    "id": "bF9icbvRE-yR",
    "outputId": "86654b82-1de1-4d91-c6e1-d5676452bbbe"
   },
   "outputs": [],
   "source": [
    "filtered_df"
   ]
  },
  {
   "cell_type": "code",
   "execution_count": null,
   "metadata": {
    "colab": {},
    "colab_type": "code",
    "id": "Y8DTKVx7FjfP"
   },
   "outputs": [],
   "source": [
    "filtered_df.iloc[0]"
   ]
  },
  {
   "cell_type": "code",
   "execution_count": null,
   "metadata": {
    "colab": {},
    "colab_type": "code",
    "id": "akJShLXpFAO_"
   },
   "outputs": [],
   "source": [
    "filtered_df.reset_index(drop=True, inplace=True)"
   ]
  },
  {
   "cell_type": "code",
   "execution_count": null,
   "metadata": {
    "colab": {
     "base_uri": "https://localhost:8080/",
     "height": 410
    },
    "colab_type": "code",
    "id": "2DMSUQ8IKAEL",
    "outputId": "e33f32b3-34d6-41cc-ec93-8c6b2c41825f"
   },
   "outputs": [],
   "source": [
    "filtered_df"
   ]
  },
  {
   "cell_type": "markdown",
   "metadata": {
    "colab_type": "text",
    "id": "vz4SyWoDGOmk"
   },
   "source": [
    "### Filter rows that contain a specific value"
   ]
  },
  {
   "cell_type": "code",
   "execution_count": null,
   "metadata": {
    "colab": {
     "base_uri": "https://localhost:8080/",
     "height": 1000
    },
    "colab_type": "code",
    "id": "nJxjRJ1kGVpp",
    "outputId": "f6ee86c4-458d-41bc-bc80-799e5543ea29"
   },
   "outputs": [],
   "source": [
    "df[df['Name'].str.contains('Mega')]"
   ]
  },
  {
   "cell_type": "code",
   "execution_count": null,
   "metadata": {
    "colab": {},
    "colab_type": "code",
    "id": "veuIWADRHPHy"
   },
   "outputs": [],
   "source": [
    "df['Name'].str.contains('Mega')"
   ]
  },
  {
   "cell_type": "markdown",
   "metadata": {
    "colab_type": "text",
    "id": "8Vxdk5e9HnXD"
   },
   "source": [
    "### Filter rows NOT contain a specific value"
   ]
  },
  {
   "cell_type": "code",
   "execution_count": null,
   "metadata": {
    "colab": {
     "base_uri": "https://localhost:8080/",
     "height": 505
    },
    "colab_type": "code",
    "id": "wI7uL-k6HWzy",
    "outputId": "0c41f380-1106-475a-e8ee-a3f31662ef91"
   },
   "outputs": [],
   "source": [
    "df[~df['Name'].str.contains('Mega')]"
   ]
  },
  {
   "cell_type": "markdown",
   "metadata": {
    "colab_type": "text",
    "id": "h_RHOBlFcnvN"
   },
   "source": [
    "## Aggregate Statistics (Groupby)"
   ]
  },
  {
   "cell_type": "code",
   "execution_count": null,
   "metadata": {
    "colab": {
     "base_uri": "https://localhost:8080/",
     "height": 651
    },
    "colab_type": "code",
    "id": "ZExunIAJccRT",
    "outputId": "1b4b5f8c-fc9b-42ba-b1c9-8d6e6429becc"
   },
   "outputs": [],
   "source": [
    "df.groupby(by='Type1').mean()"
   ]
  },
  {
   "cell_type": "code",
   "execution_count": null,
   "metadata": {
    "colab": {
     "base_uri": "https://localhost:8080/",
     "height": 501
    },
    "colab_type": "code",
    "id": "tbnpi55HcyJL",
    "outputId": "ed45b803-b1c1-4525-bf8a-b3bbfd1cb46a"
   },
   "outputs": [],
   "source": [
    "df.groupby(by=['Type 1', 'Type 2']).count()"
   ]
  },
  {
   "cell_type": "code",
   "execution_count": null,
   "metadata": {
    "colab": {},
    "colab_type": "code",
    "id": "ApGjnia-dQoX"
   },
   "outputs": [],
   "source": [
    "list_conditions = (df[\"Type 1\"]==\"Bug\")  & (df[\"Type 2\"] == \"Electric\")\n",
    "df[list_conditions]"
   ]
  },
  {
   "cell_type": "code",
   "execution_count": null,
   "metadata": {},
   "outputs": [],
   "source": [
    "list_conditions = (df[\"Type 1\"==])\n",
    "df[list_conditions]"
   ]
  },
  {
   "cell_type": "code",
   "execution_count": null,
   "metadata": {},
   "outputs": [],
   "source": []
  }
 ],
 "metadata": {
  "colab": {
   "collapsed_sections": [
    "3HCTzyzkKYp_",
    "-OchD5U7Kn1e",
    "xvLUzt2pL4nx",
    "D-bqzYrnNhNr",
    "41MQa4XRNpct",
    "77Vxj0TDN83p",
    "0phjJIPcNUpa",
    "r0aZqk3tPCtu",
    "ni6CiSv-POzq",
    "7sRI1L2BQLBv",
    "GjRaHAyTRa3h",
    "E0l8gFBLSB5B",
    "r2izksSXSvcf",
    "WvizofJ6S0oH",
    "Ow2qP_gFUoro",
    "RZsYlYxEVW9S",
    "ki3aLFigVsOg",
    "Q3Aib8HTVwQy",
    "oFp0T9z29Pau",
    "DIn3LWOuG1nC",
    "qiIOurilE4nK",
    "vz4SyWoDGOmk"
   ],
   "name": "Pandas.ipynb",
   "provenance": [],
   "toc_visible": true
  },
  "kernelspec": {
   "display_name": "Python 3 (ipykernel)",
   "language": "python",
   "name": "python3"
  },
  "language_info": {
   "codemirror_mode": {
    "name": "ipython",
    "version": 3
   },
   "file_extension": ".py",
   "mimetype": "text/x-python",
   "name": "python",
   "nbconvert_exporter": "python",
   "pygments_lexer": "ipython3",
   "version": "3.9.7"
  }
 },
 "nbformat": 4,
 "nbformat_minor": 4
}
