{
 "cells": [
  {
   "cell_type": "markdown",
   "metadata": {},
   "source": [
    "### 1. Functions"
   ]
  },
  {
   "cell_type": "code",
   "execution_count": 1,
   "metadata": {},
   "outputs": [
    {
     "data": {
      "text/plain": [
       "10"
      ]
     },
     "execution_count": 1,
     "metadata": {},
     "output_type": "execute_result"
    }
   ],
   "source": [
    "# lambda function that one of available functions in Python\n",
    "double = lambda a: a * 2\n",
    "double(5)"
   ]
  },
  {
   "cell_type": "code",
   "execution_count": 2,
   "metadata": {},
   "outputs": [
    {
     "data": {
      "text/plain": [
       "10"
      ]
     },
     "execution_count": 2,
     "metadata": {},
     "output_type": "execute_result"
    }
   ],
   "source": [
    "# Function that created from user\n",
    "def double_(a):\n",
    " return a * 2\n",
    "double_(5)"
   ]
  },
  {
   "cell_type": "code",
   "execution_count": 3,
   "metadata": {},
   "outputs": [
    {
     "name": "stdout",
     "output_type": "stream",
     "text": [
      "[10, 8, 6, 2, 4]\n"
     ]
    }
   ],
   "source": [
    "# Apply \"lambda\" with \"filter\" functions\n",
    "list_goc = [10, 9, 8, 7, 6, 1, 2, 3, 4, 5]\n",
    "\n",
    "list_moi = list(filter(lambda a: (a%2 == 0) , list_goc))\n",
    "\n",
    "print(list_moi)"
   ]
  },
  {
   "cell_type": "code",
   "execution_count": 5,
   "metadata": {},
   "outputs": [
    {
     "name": "stdout",
     "output_type": "stream",
     "text": [
      "[20, 22, 50, 60, 80]\n"
     ]
    }
   ],
   "source": [
    "list_1 = [ 20,22,43,50,60,80]\n",
    "list_2 =list(filter(lambda a:(a%2 == 0),list_1))\n",
    "print(list_2)"
   ]
  },
  {
   "cell_type": "code",
   "execution_count": 13,
   "metadata": {},
   "outputs": [
    {
     "name": "stdout",
     "output_type": "stream",
     "text": [
      "[20, 18, 16, 14, 12, 2, 4, 6, 8, 10]\n"
     ]
    }
   ],
   "source": [
    "# Apply \"lambda\" with \"map\" functions\n",
    "list_goc = [10, 9, 8, 7, 6, 1, 2, 3, 4,5]\n",
    "list_moi = list(map(lambda a:  (a*2), list_goc))\n",
    "print(list_moi)"
   ]
  },
  {
   "cell_type": "markdown",
   "metadata": {},
   "source": [
    "### 2. Class"
   ]
  },
  {
   "cell_type": "code",
   "execution_count": 14,
   "metadata": {},
   "outputs": [],
   "source": [
    "#Create \"Student\" class\n",
    "class Student:\n",
    "    pass"
   ]
  },
  {
   "cell_type": "code",
   "execution_count": 17,
   "metadata": {},
   "outputs": [
    {
     "name": "stdout",
     "output_type": "stream",
     "text": [
      "<__main__.Student object at 0x7fd9085ea130>\n",
      "<__main__.Student object at 0x7fd9085ea0d0>\n"
     ]
    }
   ],
   "source": [
    "# Create 2 objects <a,b> from \"Student\" class\n",
    "a = Student()\n",
    "b = Student()\n",
    "a==b\n",
    "#print(a)\n",
    "#print(b)\n"
   ]
  },
  {
   "cell_type": "code",
   "execution_count": 18,
   "metadata": {},
   "outputs": [
    {
     "name": "stdout",
     "output_type": "stream",
     "text": [
      "<__main__.Student object at 0x7fd9085ea130>\n"
     ]
    }
   ],
   "source": [
    "print(a)"
   ]
  },
  {
   "cell_type": "code",
   "execution_count": 19,
   "metadata": {},
   "outputs": [
    {
     "data": {
      "text/plain": [
       "'<__main__.Student object at 0x7fd9085ea130>'"
      ]
     },
     "execution_count": 19,
     "metadata": {},
     "output_type": "execute_result"
    }
   ],
   "source": [
    "a.__str__()"
   ]
  },
  {
   "cell_type": "code",
   "execution_count": null,
   "metadata": {},
   "outputs": [],
   "source": [
    "print(b)"
   ]
  },
  {
   "cell_type": "code",
   "execution_count": null,
   "metadata": {},
   "outputs": [],
   "source": [
    "b.__str__()"
   ]
  },
  {
   "cell_type": "code",
   "execution_count": 20,
   "metadata": {},
   "outputs": [],
   "source": [
    "#Create \"Vehicle\" class\n",
    "class Vehicle:\n",
    "    pass\n",
    "# Create <c> object from \"Vehicle\" class\n",
    "c = Vehicle()"
   ]
  },
  {
   "cell_type": "code",
   "execution_count": 21,
   "metadata": {},
   "outputs": [
    {
     "data": {
      "text/plain": [
       "True"
      ]
     },
     "execution_count": 21,
     "metadata": {},
     "output_type": "execute_result"
    }
   ],
   "source": [
    "# Check whether <a> object is created from <Student> or not \n",
    "isinstance(a, Student)"
   ]
  },
  {
   "cell_type": "code",
   "execution_count": null,
   "metadata": {},
   "outputs": [],
   "source": [
    "# Check whether <c> object is created from <Student> or not \n",
    "isinstance(c, Student)"
   ]
  },
  {
   "cell_type": "code",
   "execution_count": 22,
   "metadata": {
    "id": "soWXypUsa-sX"
   },
   "outputs": [],
   "source": [
    "class Dog:\n",
    "    \"Create class from me\"\n",
    "    species = \"Canis familiaris\"\n",
    "    # Create contructor\n",
    "    def __init__(self, name, age):\n",
    "        self.name = name\n",
    "        self.age = age"
   ]
  },
  {
   "cell_type": "code",
   "execution_count": 23,
   "metadata": {},
   "outputs": [
    {
     "data": {
      "text/plain": [
       "'Create class from me'"
      ]
     },
     "execution_count": 23,
     "metadata": {},
     "output_type": "execute_result"
    }
   ],
   "source": [
    "# Print decription of \"Dog\" class\n",
    "Dog.__doc__"
   ]
  },
  {
   "cell_type": "code",
   "execution_count": 24,
   "metadata": {},
   "outputs": [
    {
     "name": "stdout",
     "output_type": "stream",
     "text": [
      "Help on class Dog in module __main__:\n",
      "\n",
      "class Dog(builtins.object)\n",
      " |  Dog(name, age)\n",
      " |  \n",
      " |  Create class from me\n",
      " |  \n",
      " |  Methods defined here:\n",
      " |  \n",
      " |  __init__(self, name, age)\n",
      " |      Initialize self.  See help(type(self)) for accurate signature.\n",
      " |  \n",
      " |  ----------------------------------------------------------------------\n",
      " |  Data descriptors defined here:\n",
      " |  \n",
      " |  __dict__\n",
      " |      dictionary for instance variables (if defined)\n",
      " |  \n",
      " |  __weakref__\n",
      " |      list of weak references to the object (if defined)\n",
      " |  \n",
      " |  ----------------------------------------------------------------------\n",
      " |  Data and other attributes defined here:\n",
      " |  \n",
      " |  species = 'Canis familiaris'\n",
      "\n"
     ]
    }
   ],
   "source": [
    "# Print more detail about \"Dog\" class\n",
    "help(Dog)"
   ]
  },
  {
   "cell_type": "code",
   "execution_count": 25,
   "metadata": {
    "colab": {
     "base_uri": "https://localhost:8080/"
    },
    "id": "tI_WP_u3a-se",
    "outputId": "b8be020b-cb9d-441f-b10c-540bf79b81ad"
   },
   "outputs": [
    {
     "name": "stdout",
     "output_type": "stream",
     "text": [
      "9\n"
     ]
    }
   ],
   "source": [
    "buddy = Dog(\"Buddy\", 9)\n",
    "# Access \"age\" instance attribute of \"buddy\" object\n",
    "print(buddy.age)"
   ]
  },
  {
   "cell_type": "code",
   "execution_count": 26,
   "metadata": {},
   "outputs": [
    {
     "name": "stdout",
     "output_type": "stream",
     "text": [
      "Buddy\n"
     ]
    }
   ],
   "source": [
    "buddy = Dog(\"Buddy\", 9)\n",
    "# Access \"name\" instance attribute of \"buddy\" object\n",
    "print(buddy.name)"
   ]
  },
  {
   "cell_type": "code",
   "execution_count": 28,
   "metadata": {
    "id": "rpzq7J5Ka-sg"
   },
   "outputs": [],
   "source": [
    "class Dog:\n",
    "    species = \"Canis familiaris\"\n",
    "    def __init__(self, name, age):\n",
    "        self.name = name\n",
    "        self.age = age\n",
    "     # Instance method\n",
    "    def description(self):\n",
    "        return f\"{self.name} is {self.age} years old\"\n",
    "\n",
    "    # Another instance method\n",
    "    def speak(self, sound):\n",
    "        return f\"{self.name} says {sound}\""
   ]
  },
  {
   "cell_type": "code",
   "execution_count": 29,
   "metadata": {
    "id": "_6T6EmCogh4i"
   },
   "outputs": [],
   "source": [
    "class Taxi:\n",
    "    numberOfTaxi = 0\n",
    "    def __init__(self, driver_name, on_duty, cities):\n",
    "        self.dname = driver_name\n",
    "        self.oduty = on_duty\n",
    "        self.cities = cities\n",
    "        self.num_passengers = 0\n",
    "        Taxi.numberOfTaxi = Taxi.numberOfTaxi + 1\n",
    "        \n",
    "    @classmethod\n",
    "    def how_many(cls):\n",
    "      \"\"\"return the current Taxi inventory\"\"\"\n",
    "      return cls.numberOfTaxi"
   ]
  },
  {
   "cell_type": "code",
   "execution_count": 32,
   "metadata": {
    "id": "dRf9qcEVhD5N"
   },
   "outputs": [],
   "source": [
    "first_tx = Taxi('Tien', True, ['HN', 'BN'])\n",
    "second_tx = Taxi('Bao', False, ['HCM', 'CM'])"
   ]
  },
  {
   "cell_type": "code",
   "execution_count": 33,
   "metadata": {
    "colab": {
     "base_uri": "https://localhost:8080/"
    },
    "id": "3fPlDJ6Nhpn0",
    "outputId": "ad691091-226e-4b37-ca24-f0fcc2d0467b"
   },
   "outputs": [
    {
     "name": "stdout",
     "output_type": "stream",
     "text": [
      "Tien is driving 0 passengers. Currently, we have: 4 taxis\n"
     ]
    }
   ],
   "source": [
    "print(f'{first_tx.dname} is driving {first_tx.num_passengers} passengers. Currently, we have: {Taxi.how_many()} taxis' )"
   ]
  },
  {
   "cell_type": "code",
   "execution_count": 34,
   "metadata": {
    "id": "18WSXpHhh_-E"
   },
   "outputs": [
    {
     "ename": "SyntaxError",
     "evalue": "invalid syntax (<ipython-input-34-2395a662f43e>, line 1)",
     "output_type": "error",
     "traceback": [
      "\u001b[0;36m  File \u001b[0;32m\"<ipython-input-34-2395a662f43e>\"\u001b[0;36m, line \u001b[0;32m1\u001b[0m\n\u001b[0;31m    https://www.slideshare.net/AleksanderFabijan/python-oop-class-2-inheritance\u001b[0m\n\u001b[0m          ^\u001b[0m\n\u001b[0;31mSyntaxError\u001b[0m\u001b[0;31m:\u001b[0m invalid syntax\n"
     ]
    }
   ],
   "source": [
    "https://www.slideshare.net/AleksanderFabijan/python-oop-class-2-inheritance"
   ]
  },
  {
   "cell_type": "markdown",
   "metadata": {
    "id": "3QPMPuIFPuU4"
   },
   "source": [
    "## inheritance"
   ]
  },
  {
   "cell_type": "code",
   "execution_count": 36,
   "metadata": {
    "id": "I3GbpWFPPvgI"
   },
   "outputs": [
    {
     "name": "stdout",
     "output_type": "stream",
     "text": [
      "This vehicle is driven by:  Tien and it has 4 wheels.\n"
     ]
    }
   ],
   "source": [
    "class Vehicle:\n",
    "  def __init__(self, driver_name, number_of_wheels, number_of_seats):\n",
    "    self.dname = driver_name\n",
    "    self.nwheels = number_of_wheels\n",
    "    self.nseats = number_of_seats\n",
    "  def __str__(self):\n",
    "    return f'This vehicle is driven by:  {self.dname} and it has {self.nwheels} wheels.'\n",
    "\n",
    "a = Vehicle('Tien', 4, 4)\n",
    "print(a)"
   ]
  },
  {
   "cell_type": "code",
   "execution_count": null,
   "metadata": {
    "id": "uDOyuEIfQXvC"
   },
   "outputs": [],
   "source": [
    "class Taxi(Vehicle):\n",
    "  def __init__(self, driver_name, number_of_wheels, number_of_seats, on_duty):\n",
    "    super().__init__(driver_name, number_of_wheels, number_of_seats)\n",
    "    self.oduty = on_duty\n",
    "  def __str__(self):\n",
    "    return f'Taxi: This vehicle is driven by:  {self.dname} and it has {self.nwheels} wheels.'"
   ]
  },
  {
   "cell_type": "code",
   "execution_count": null,
   "metadata": {
    "colab": {
     "base_uri": "https://localhost:8080/"
    },
    "id": "lWCAEwH5Y4Ow",
    "outputId": "19f525b0-0943-443c-ed7b-6a6a248e34bf"
   },
   "outputs": [],
   "source": [
    "vehicle_1st = Vehicle('Tien', 4, 4)\n",
    "print(vehicle_1st)"
   ]
  },
  {
   "cell_type": "code",
   "execution_count": null,
   "metadata": {
    "colab": {
     "base_uri": "https://localhost:8080/"
    },
    "id": "D42q322wccMR",
    "outputId": "464a1d8f-3668-49c6-d097-ef06323cc55f"
   },
   "outputs": [],
   "source": [
    "taxi_1st = Taxi('Tien tx', 4, 2, True)\n",
    "print(taxi_1st)"
   ]
  },
  {
   "cell_type": "code",
   "execution_count": null,
   "metadata": {
    "id": "4Tdwh0LlQywh"
   },
   "outputs": [],
   "source": [
    "class Bus(Vehicle):\n",
    "  def __init__(self, driver_name, number_of_wheels, number_of_seats, color):\n",
    "    super().__init__(driver_name, number_of_wheels, number_of_seats)\n",
    "    self.color = color\n",
    "  def __str__(self):\n",
    "    return f'Bus: This vehicle is driven by:  {self.dname} and it has {self.nwheels} wheels.'\n",
    "bus_1st = Bus('Hung tx', 4, 2, \"Red\")\n",
    "print(bus_1st)"
   ]
  },
  {
   "cell_type": "code",
   "execution_count": null,
   "metadata": {},
   "outputs": [],
   "source": [
    "bus_1st.color"
   ]
  },
  {
   "cell_type": "code",
   "execution_count": null,
   "metadata": {},
   "outputs": [],
   "source": [
    "bus_1st.__str__()"
   ]
  },
  {
   "cell_type": "markdown",
   "metadata": {
    "id": "yT-3at6tuWPA"
   },
   "source": [
    "# Object-relational mapping (ORM)\n"
   ]
  },
  {
   "cell_type": "code",
   "execution_count": null,
   "metadata": {
    "colab": {
     "base_uri": "https://localhost:8080/"
    },
    "id": "AkzyS9q9RFVh",
    "outputId": "47565ce8-fe42-416c-f7bf-812549eb427d"
   },
   "outputs": [],
   "source": [
    "!pip install peewee"
   ]
  },
  {
   "cell_type": "code",
   "execution_count": null,
   "metadata": {
    "id": "cnSrXDtPuV2O"
   },
   "outputs": [],
   "source": [
    "# We first import the ORM\n",
    "import peewee as pw\n",
    "\n",
    "# We set the name of the Sqlite database\n",
    "db = pw.SqliteDatabase('vehicle.db')"
   ]
  },
  {
   "cell_type": "code",
   "execution_count": null,
   "metadata": {
    "id": "zvPoX4xPuv85"
   },
   "outputs": [],
   "source": [
    "# Create the class for the \"Vehicle\" by inheriting from peewee.Model\n",
    "class Vehicle(pw.Model):\n",
    "  \"\"\"\n",
    "  ORM model of the Vehicle\n",
    "  \"\"\"\n",
    "  dname = pw.TextField()\n",
    "  nwheels = pw.IntegerField()\n",
    "  nseats = pw.IntegerField()\n",
    "  \n",
    "  class Meta:\n",
    "    '''\n",
    "    we connect the database to the models via the nested class\n",
    "    '''\n",
    "    database = db"
   ]
  },
  {
   "cell_type": "code",
   "execution_count": null,
   "metadata": {
    "id": "jsvGe-IxvpYi"
   },
   "outputs": [],
   "source": [
    "# Create the table for the class\n",
    "try:\n",
    "  Vehicle.create_table()\n",
    "except pw.OperationalError:\n",
    "  print('Vehicle table already exists')"
   ]
  },
  {
   "cell_type": "code",
   "execution_count": null,
   "metadata": {
    "colab": {
     "base_uri": "https://localhost:8080/"
    },
    "id": "2VPJVMgdwtgh",
    "outputId": "34c6a29d-e244-4445-a6b0-0ef41afdb078"
   },
   "outputs": [],
   "source": [
    "# Create a few instances of the \"Vehicle\"\n",
    "vh_1 = Vehicle(dname ='Tien A', nwheels=4, nseats=5)\n",
    "vh_2 = Vehicle(dname ='Tien B', nwheels=4, nseats=6)\n",
    "vh_3 = Vehicle(dname ='Tien C', nwheels=8, nseats=7)\n",
    "\n",
    "# Save them in the database\n",
    "vh_1.save()\n",
    "vh_2.save()\n",
    "vh_3.save()\n"
   ]
  },
  {
   "cell_type": "code",
   "execution_count": null,
   "metadata": {
    "colab": {
     "base_uri": "https://localhost:8080/",
     "height": 35
    },
    "id": "IlBowa7YxTTU",
    "outputId": "4f57d827-2d9e-4ff6-8639-af48982a694f"
   },
   "outputs": [],
   "source": [
    "# Query for items in a database by \"get()\"\n",
    "Vehicle.get(Vehicle.dname=='Tien C').dname"
   ]
  },
  {
   "cell_type": "code",
   "execution_count": null,
   "metadata": {},
   "outputs": [],
   "source": [
    "# Query for items in a database by \"get()\"\n",
    "Vehicle.get(Vehicle.dname=='Tien A').nseats"
   ]
  },
  {
   "cell_type": "code",
   "execution_count": null,
   "metadata": {
    "colab": {
     "base_uri": "https://localhost:8080/",
     "height": 35
    },
    "id": "AdyVfSf3ybhw",
    "outputId": "a3411c6f-244e-4efa-ab67-e2ea71059db0"
   },
   "outputs": [],
   "source": [
    "# Query for items in a database by \"select()\"\n",
    "vehicles = Vehicle.select().where(Vehicle.dname.contains('B'))\n",
    "vehicles.get().nwheels\n"
   ]
  },
  {
   "cell_type": "code",
   "execution_count": null,
   "metadata": {
    "colab": {
     "base_uri": "https://localhost:8080/",
     "height": 35
    },
    "id": "-pvz-WpVzG90",
    "outputId": "e447bbae-db33-4d61-890b-b53bd9ac091d"
   },
   "outputs": [],
   "source": [
    "# Query for items in a database by \"select()\"\n",
    "vehicles = Vehicle.select().where(Vehicle.dname.in_(['Tien A', 'Tien B']))\n",
    "vehicles.get().dname"
   ]
  },
  {
   "cell_type": "code",
   "execution_count": null,
   "metadata": {
    "id": "bMDW8EHYzOFD"
   },
   "outputs": [],
   "source": [
    "Vehicle._meta.fields"
   ]
  },
  {
   "cell_type": "code",
   "execution_count": null,
   "metadata": {},
   "outputs": [],
   "source": [
    "Vehicle._meta.primary_key"
   ]
  },
  {
   "cell_type": "code",
   "execution_count": null,
   "metadata": {},
   "outputs": [],
   "source": [
    "Vehicle._meta.database.get_tables"
   ]
  },
  {
   "cell_type": "markdown",
   "metadata": {},
   "source": [
    "Link: http://docs.peewee-orm.com/en/latest/peewee/models.html to more detail."
   ]
  }
 ],
 "metadata": {
  "colab": {
   "collapsed_sections": [],
   "name": "PYE_Session_4_OOP.ipynb",
   "provenance": [],
   "toc_visible": true
  },
  "kernelspec": {
   "display_name": "Python 3 (ipykernel)",
   "language": "python",
   "name": "python3"
  },
  "language_info": {
   "codemirror_mode": {
    "name": "ipython",
    "version": 3
   },
   "file_extension": ".py",
   "mimetype": "text/x-python",
   "name": "python",
   "nbconvert_exporter": "python",
   "pygments_lexer": "ipython3",
   "version": "3.9.7"
  }
 },
 "nbformat": 4,
 "nbformat_minor": 4
}
