{
 "cells": [
  {
   "cell_type": "code",
   "execution_count": 2,
   "metadata": {},
   "outputs": [],
   "source": [
    "import re\n",
    "import matplotlib.pyplot as plt\n",
    "import pandas as pd \n",
    "from bs4 import BeautifulSoup as bs\n",
    "import requests"
   ]
  },
  {
   "cell_type": "code",
   "execution_count": 4,
   "metadata": {},
   "outputs": [
    {
     "name": "stdout",
     "output_type": "stream",
     "text": [
      "http://s.cafef.vn/hose/FPT-cong-ty-co-phan-fpt.chn\n",
      "http://s.cafef.vn/hose/VJC-cong-ty-co-phan-hang-khong-vietjet.chn\n",
      "http://s.cafef.vn/hose/HVN-tong-cong-ty-hang-khong-viet-nam-ctcp.chn\n"
     ]
    },
    {
     "data": {
      "image/png": "[encoded data removed]",
      "text/plain": [
       "<Figure size 432x288 with 1 Axes>"
      ]
     },
     "metadata": {
      "needs_background": "light"
     },
     "output_type": "display_data"
    }
   ],
   "source": [
    "list_com_interests = [\n",
    "    {'symbol':'FPT','link':'FPT-cong-ty-co-phan-fpt.chn'},\n",
    "    {'symbol':'VJC','link':'VJC-cong-ty-co-phan-hang-khong-vietjet.chn'},\n",
    "    {'symbol':'HVN','link':'HVN-tong-cong-ty-hang-khong-viet-nam-ctcp.chn'}\n",
    "]\n",
    "\n",
    "\n",
    "\n",
    "symbol = []\n",
    "gtc = []\n",
    "gt = []\n",
    "gs = []\n",
    "gmc = []\n",
    "gcn = []\n",
    "gtn = []\n",
    "\n",
    "for com in list_com_interests:\n",
    "    row = com['symbol']\n",
    "    URL_INFO ='http://s.cafef.vn/hose/{}'.format(com['link'])\n",
    "    print(URL_INFO)\n",
    "    r = requests.get(URL_INFO)\n",
    "    soup = bs(r.text,'html.parser')\n",
    "    \n",
    "    div_dltl = soup.find('div','dltl-price')\n",
    "    for li_tag in div_dltl.select('ul > li'):\n",
    "        childs = li_tag.find_all('div')\n",
    "        if len(childs) == 2:\n",
    "            key = childs[0].text.strip()\n",
    "            value = re.sub(r'\\s+','',childs[1].text)\n",
    "            if key == 'Giá tham chiếu':\n",
    "                gtc.append(float(value))\n",
    "            elif key == \"Giá trần\":\n",
    "                gt.append(float(value))\n",
    "            elif key == \"Giá sàn\":\n",
    "                gs.append(float(value))\n",
    "            elif key == \"Giá mở cửa\":\n",
    "                gmc.append(float(value))\n",
    "            elif key == \"Giá cao nhất\":\n",
    "                gcn.append(float(value))\n",
    "            elif key == \"Giá thấp nhất\":\n",
    "                gtn.append(float(value))\n",
    "    symbol.append(row)\n",
    "    \n",
    "    \n",
    "df = pd.DataFrame()\n",
    "df['Giá tham chiếu'] = gtc\n",
    "df['Giá trần'] = gt\n",
    "df['Giá sàn'] = gs\n",
    "df['Giá mở cửa'] = gmc\n",
    "df['Gía cao nhất'] = gcn\n",
    "df['Giá thấp nhất']= gtn\n",
    "\n",
    "df.to_csv('data.csv')\n",
    "# Vẽ biểu đồ\n",
    "df.index = symbol\n",
    "df.plot.bar()\n",
    "plt.xlabel('Symbol')\n",
    "plt.show()\n",
    "        "
   ]
  },
  {
   "cell_type": "code",
   "execution_count": null,
   "metadata": {},
   "outputs": [],
   "source": []
  }
 ],
 "metadata": {
  "kernelspec": {
   "display_name": "Python 3 (ipykernel)",
   "language": "python",
   "name": "python3"
  },
  "language_info": {
   "codemirror_mode": {
    "name": "ipython",
    "version": 3
   },
   "file_extension": ".py",
   "mimetype": "text/x-python",
   "name": "python",
   "nbconvert_exporter": "python",
   "pygments_lexer": "ipython3",
   "version": "3.9.7"
  }
 },
 "nbformat": 4,
 "nbformat_minor": 4
}
