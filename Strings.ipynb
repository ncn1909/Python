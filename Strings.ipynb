{
 "cells": [
  {
   "cell_type": "markdown",
   "metadata": {
    "colab_type": "text",
    "id": "ZhrUrvu1JnW4"
   },
   "source": [
    "# Common methods of class str\n",
    "- Be invoked by a string\n",
    "- Ordered alphabetically in this notebook"
   ]
  },
  {
   "cell_type": "markdown",
   "metadata": {
    "colab_type": "text",
    "id": "MqlrvIPR7cy1"
   },
   "source": [
    "## `capitalize()`\n",
    "- it creates a new string filled with characters taken from the source string\n",
    "- if the first character inside the string is a letter (note: the first character is an element with an index equal to 0, not just the first visible character), it will be converted to upper-case;\n",
    "- all remaining letters from the string will be converted to lower-case.- "
   ]
  },
  {
   "cell_type": "code",
   "execution_count": 1,
   "metadata": {
    "colab": {
     "base_uri": "https://localhost:8080/",
     "height": 34
    },
    "colab_type": "code",
    "id": "VPGOTdx37f5d",
    "outputId": "53bcf98e-217a-4191-ee2f-e0e9476833df"
   },
   "outputs": [
    {
     "data": {
      "text/plain": [
       "'Abcd'"
      ]
     },
     "execution_count": 1,
     "metadata": {},
     "output_type": "execute_result"
    }
   ],
   "source": [
    "'abcd'.capitalize()"
   ]
  },
  {
   "cell_type": "code",
   "execution_count": 2,
   "metadata": {
    "colab": {
     "base_uri": "https://localhost:8080/",
     "height": 34
    },
    "colab_type": "code",
    "id": "J8BfxjOp7kUi",
    "outputId": "28c29aee-92a2-45fc-c46d-697a9c2fd29b"
   },
   "outputs": [
    {
     "data": {
      "text/plain": [
       "' abcd'"
      ]
     },
     "execution_count": 2,
     "metadata": {},
     "output_type": "execute_result"
    }
   ],
   "source": [
    "' abcd'.capitalize()"
   ]
  },
  {
   "cell_type": "markdown",
   "metadata": {
    "colab_type": "text",
    "id": "0Itnt78N8pAP"
   },
   "source": [
    "## `endswith()`\n",
    "The `endswith()` method checks if the given string ends with the specified argument and returns `True` or `False`, depending on the check result."
   ]
  },
  {
   "cell_type": "code",
   "execution_count": null,
   "metadata": {
    "colab": {
     "base_uri": "https://localhost:8080/",
     "height": 86
    },
    "colab_type": "code",
    "id": "uz9p6lvm7pAf",
    "outputId": "ff5c2525-6f78-4773-9359-959924a8481b"
   },
   "outputs": [],
   "source": [
    "t = \"zeta\"\n",
    "print(t.endswith(\"a\"))\n",
    "print(t.endswith(\"A\"))\n",
    "print(t.endswith(\"et\"))\n",
    "print(t.endswith(\"eta\"))"
   ]
  },
  {
   "cell_type": "markdown",
   "metadata": {
    "colab_type": "text",
    "id": "oBa8A8Z-9fv0"
   },
   "source": [
    "## `find()`\n",
    "The `find()` method is similar to `index()` - it looks for a substring and returns the index of first occurrence of this substring, but:\n",
    "- it's safer - it doesn't generate an error for an argument containing a non-existent substring (it returns -1 then)\n",
    "- it works with strings only - don't try to apply it to any other sequence.\n",
    "\n",
    "Note: don't use `find()` if you only want to check if a single character occurs within a string - use the `in` in this case"
   ]
  },
  {
   "cell_type": "code",
   "execution_count": null,
   "metadata": {
    "colab": {
     "base_uri": "https://localhost:8080/",
     "height": 86
    },
    "colab_type": "code",
    "id": "M3rVduxP9Y5Y",
    "outputId": "5cf53453-8efa-4774-857b-346361e176a9"
   },
   "outputs": [],
   "source": [
    "t = 'theta'\n",
    "print(t.find('eta'))\n",
    "print(t.find('et'))\n",
    "print(t.find('the'))\n",
    "print(t.find('ha'))"
   ]
  },
  {
   "cell_type": "markdown",
   "metadata": {
    "colab_type": "text",
    "id": "3YpR2KcP_EfR"
   },
   "source": [
    "Find all occurances of a substring"
   ]
  },
  {
   "cell_type": "code",
   "execution_count": null,
   "metadata": {
    "colab": {
     "base_uri": "https://localhost:8080/",
     "height": 103
    },
    "colab_type": "code",
    "id": "ANiEQx_M-C4W",
    "outputId": "021c63a8-ab97-4a27-f296-c68a68bdcb3e"
   },
   "outputs": [],
   "source": [
    "txt = \"\"\"A variation of the ordinary lorem ipsum\n",
    "text has been used in typesetting since the 1960s \n",
    "or earlier, when it was popularized by advertisements \n",
    "for Letraset transfer sheets. It was introduced to \n",
    "the Information Age in the mid-1980s by the Aldus Corporation, \n",
    "which employed it in graphics and word-processing templates\n",
    "for its desktop publishing program PageMaker (from Wikipedia)\"\"\"\n",
    "\n",
    "fnd = txt.find('the')\n",
    "while fnd != -1:\n",
    "    print(fnd)\n",
    "    fnd = txt.find('the', fnd + 1)"
   ]
  },
  {
   "cell_type": "markdown",
   "metadata": {
    "colab_type": "text",
    "id": "TuXSgvdU_eO4"
   },
   "source": [
    "## `isalnum()`\n",
    "The parameterless method named `isalnum()` checks if the string contains only **digits** or **alphabetical characters (letters)**, and returns `True` or `False` according to the result."
   ]
  },
  {
   "cell_type": "code",
   "execution_count": 3,
   "metadata": {
    "colab": {
     "base_uri": "https://localhost:8080/",
     "height": 120
    },
    "colab_type": "code",
    "id": "fzHHEaVM_Kbn",
    "outputId": "046bd218-7909-45d0-8b46-6838c9b95779"
   },
   "outputs": [
    {
     "name": "stdout",
     "output_type": "stream",
     "text": [
      "True\n",
      "True\n",
      "True\n",
      "False\n",
      "False\n",
      "False\n"
     ]
    }
   ],
   "source": [
    "print('lambda30'.isalnum())\n",
    "print('lambda'.isalnum())\n",
    "print('30'.isalnum())\n",
    "print('@'.isalnum())\n",
    "print('lambda_30'.isalnum())\n",
    "print(''.isalnum())"
   ]
  },
  {
   "cell_type": "markdown",
   "metadata": {
    "colab_type": "text",
    "id": "ncKzucLvAZKe"
   },
   "source": [
    "## `isalpha()`\n",
    "The `isalpha()` method is more specialized - it's interested in **letters only**."
   ]
  },
  {
   "cell_type": "code",
   "execution_count": 4,
   "metadata": {
    "colab": {
     "base_uri": "https://localhost:8080/",
     "height": 51
    },
    "colab_type": "code",
    "id": "KzuJbxOVAUWU",
    "outputId": "eb50de00-b9fc-49dc-9419-8b5c398c93b5"
   },
   "outputs": [
    {
     "name": "stdout",
     "output_type": "stream",
     "text": [
      "True\n",
      "False\n"
     ]
    }
   ],
   "source": [
    "print(\"Moooo\".isalpha())\n",
    "print('Mu40'.isalpha())"
   ]
  },
  {
   "cell_type": "markdown",
   "metadata": {
    "colab_type": "text",
    "id": "Vdd2iAG6ArsD"
   },
   "source": [
    "## `isdigit()`\n",
    "The `isdigit()` method looks at digits only - anything else produces False as the result."
   ]
  },
  {
   "cell_type": "code",
   "execution_count": null,
   "metadata": {
    "colab": {
     "base_uri": "https://localhost:8080/",
     "height": 51
    },
    "colab_type": "code",
    "id": "MLX5vPRRApWq",
    "outputId": "66ad6ba9-3875-4dba-d2a7-87a49060e3ae"
   },
   "outputs": [],
   "source": [
    "print('2018'.isdigit())\n",
    "print(\"Year2019\".isdigit())"
   ]
  },
  {
   "cell_type": "markdown",
   "metadata": {
    "colab_type": "text",
    "id": "u8-eEQY_HClM"
   },
   "source": [
    "## `isspace()`\n",
    "The `isspace()` method identifies whitespaces only - it disregards any other character (the result is False then)."
   ]
  },
  {
   "cell_type": "code",
   "execution_count": null,
   "metadata": {
    "colab": {
     "base_uri": "https://localhost:8080/",
     "height": 68
    },
    "colab_type": "code",
    "id": "WFT-etUyBKz-",
    "outputId": "1070927d-63ac-4477-c601-b7a8675a2837"
   },
   "outputs": [],
   "source": [
    "print(' \\n '.isspace())\n",
    "print(\" \".isspace())\n",
    "print(\"mooo mooo mooo\".isspace())"
   ]
  },
  {
   "cell_type": "markdown",
   "metadata": {
    "colab_type": "text",
    "id": "xFAnk21UIyvc"
   },
   "source": [
    "### `join()`\n",
    "- expects one argument as a list\n",
    "- all the list's elements must be strings - the method will raise a TypeError exception otherwise;\n",
    "- the string from which the method has been invoked is used as a separator"
   ]
  },
  {
   "cell_type": "code",
   "execution_count": null,
   "metadata": {
    "colab": {
     "base_uri": "https://localhost:8080/",
     "height": 34
    },
    "colab_type": "code",
    "id": "rpuvHHelJhRZ",
    "outputId": "f5b68d4b-3ee8-4862-ef65-5e74e3fbe1c3"
   },
   "outputs": [],
   "source": [
    "print(\"---\".join([\"a\", \"b\", \"c\"]))"
   ]
  },
  {
   "cell_type": "code",
   "execution_count": null,
   "metadata": {
    "colab": {
     "base_uri": "https://localhost:8080/",
     "height": 35
    },
    "colab_type": "code",
    "id": "Nft_DwJ4U1Ra",
    "outputId": "aacdd4db-2b9f-4ab1-9183-f9eec012167a"
   },
   "outputs": [],
   "source": [
    "''.join(['1','3', 'ab'])"
   ]
  },
  {
   "cell_type": "markdown",
   "metadata": {
    "colab_type": "text",
    "id": "HaedP1E-Jj90"
   },
   "source": [
    "### `startswith()`\n",
    "Checks if a given string starts with the specified substring."
   ]
  },
  {
   "cell_type": "code",
   "execution_count": 5,
   "metadata": {
    "colab": {
     "base_uri": "https://localhost:8080/",
     "height": 51
    },
    "colab_type": "code",
    "id": "JUWZtw3w24mb",
    "outputId": "109777b5-e020-4b82-82aa-c4230348f214"
   },
   "outputs": [
    {
     "name": "stdout",
     "output_type": "stream",
     "text": [
      "False\n",
      "True\n"
     ]
    }
   ],
   "source": [
    "print(\"omega\".startswith(\"meg\"))\n",
    "print(\"omega\".startswith(\"om\"))"
   ]
  },
  {
   "cell_type": "markdown",
   "metadata": {
    "colab_type": "text",
    "id": "xgBqqEf13FOG"
   },
   "source": [
    "### `strip()`\n",
    "Makes a new string lacking all the leading and trailing whitespaces"
   ]
  },
  {
   "cell_type": "code",
   "execution_count": null,
   "metadata": {
    "colab": {
     "base_uri": "https://localhost:8080/",
     "height": 34
    },
    "colab_type": "code",
    "id": "W0lQ3xGy3Hr7",
    "outputId": "762c5047-4e63-41a8-f187-c4b1a48a0963"
   },
   "outputs": [],
   "source": [
    "# Loại nỏ spacewhite đầu và cuối\n",
    "print(\"[\" + \"   aleph   \".strip() + \"]\")"
   ]
  },
  {
   "cell_type": "code",
   "execution_count": null,
   "metadata": {
    "colab": {
     "base_uri": "https://localhost:8080/",
     "height": 35
    },
    "colab_type": "code",
    "id": "uJNzWxfea_rz",
    "outputId": "9c80b4b0-f735-4ea3-99f6-df7ce5638dbc"
   },
   "outputs": [],
   "source": []
  },
  {
   "cell_type": "code",
   "execution_count": null,
   "metadata": {
    "colab": {},
    "colab_type": "code",
    "id": "MULzFGVjVu1u"
   },
   "outputs": [],
   "source": []
  }
 ],
 "metadata": {
  "colab": {
   "collapsed_sections": [],
   "name": "Python_Strings.ipynb",
   "provenance": []
  },
  "kernelspec": {
   "display_name": "Python 3",
   "language": "python",
   "name": "python3"
  },
  "language_info": {
   "codemirror_mode": {
    "name": "ipython",
    "version": 3
   },
   "file_extension": ".py",
   "mimetype": "text/x-python",
   "name": "python",
   "nbconvert_exporter": "python",
   "pygments_lexer": "ipython3",
   "version": "3.8.5"
  }
 },
 "nbformat": 4,
 "nbformat_minor": 4
}
