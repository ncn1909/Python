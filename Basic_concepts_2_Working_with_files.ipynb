{
 "cells": [
  {
   "cell_type": "markdown",
   "metadata": {
    "colab_type": "text",
    "id": "3GzaLCdUB3zH"
   },
   "source": [
    "# Python’s “with open(…) as …” Pattern"
   ]
  },
  {
   "cell_type": "markdown",
   "metadata": {
    "colab_type": "text",
    "id": "n2h_1Fx6CAe1"
   },
   "source": [
    "\n",
    "\n",
    "> Read file\n",
    "\n"
   ]
  },
  {
   "cell_type": "code",
   "execution_count": 12,
   "metadata": {
    "colab": {},
    "colab_type": "code",
    "id": "gmjGYjFmBXXv"
   },
   "outputs": [],
   "source": [
    "with open('data.txt', 'r') as f:\n",
    "    data = f.read()\n",
    "    "
   ]
  },
  {
   "cell_type": "markdown",
   "metadata": {
    "colab_type": "text",
    "id": "yx5o06g5CDK5"
   },
   "source": [
    "\n",
    "\n",
    "> Write data to a file\n",
    "\n"
   ]
  },
  {
   "cell_type": "code",
   "execution_count": 8,
   "metadata": {
    "colab": {},
    "colab_type": "code",
    "id": "qI_BZLJeB60R"
   },
   "outputs": [
    {
     "ename": "SyntaxError",
     "evalue": "unexpected EOF while parsing (<ipython-input-8-5425bf100674>, line 3)",
     "output_type": "error",
     "traceback": [
      "\u001b[0;36m  File \u001b[0;32m\"<ipython-input-8-5425bf100674>\"\u001b[0;36m, line \u001b[0;32m3\u001b[0m\n\u001b[0;31m    #f.write(data)\u001b[0m\n\u001b[0m                  ^\u001b[0m\n\u001b[0;31mSyntaxError\u001b[0m\u001b[0;31m:\u001b[0m unexpected EOF while parsing\n"
     ]
    }
   ],
   "source": [
    "with open('data.txt', 'w') as f:\n",
    "    data = 'some data to be written to the file'\n",
    "    f.write(data)"
   ]
  },
  {
   "cell_type": "markdown",
   "metadata": {
    "colab_type": "text",
    "id": "4G6eM1DyCozM"
   },
   "source": [
    "# Getting a Directory Listing"
   ]
  },
  {
   "cell_type": "markdown",
   "metadata": {
    "colab_type": "text",
    "id": "Yp3xZRUADLTM"
   },
   "source": [
    "## Directory Listing"
   ]
  },
  {
   "cell_type": "markdown",
   "metadata": {
    "colab_type": "text",
    "id": "ApAVW0DbD8Yw"
   },
   "source": [
    "Function|\tDescription|\n",
    "--------|---------------\n",
    "os.listdir() |\tReturns a list of all files and folders in a directory|\n",
    "os.scandir() |\tReturns an iterator of all the objects in a directory including file attribute information|"
   ]
  },
  {
   "cell_type": "code",
   "execution_count": 13,
   "metadata": {
    "colab": {},
    "colab_type": "code",
    "id": "HdsErYeYCp2g"
   },
   "outputs": [
    {
     "data": {
      "text/plain": [
       "['Session2_Basic_concepts_2_Working_with_files.ipynb',\n",
       " 'Session2_Basic_concepts_2 List-Tuple-Dict.ipynb',\n",
       " 'voca.txt',\n",
       " 'Session_2_Scope.ipynb',\n",
       " '.ipynb_checkpoints',\n",
       " 'data.txt']"
      ]
     },
     "execution_count": 13,
     "metadata": {},
     "output_type": "execute_result"
    }
   ],
   "source": [
    "import os\n",
    "entries = os.listdir('./')\n",
    "entries"
   ]
  },
  {
   "cell_type": "code",
   "execution_count": null,
   "metadata": {
    "colab": {
     "base_uri": "https://localhost:8080/",
     "height": 153
    },
    "colab_type": "code",
    "id": "cXyLAjVTDJ5o",
    "outputId": "3613aa80-d393-42a8-f26b-5f44a4497f27"
   },
   "outputs": [
    {
     "data": {
      "text/plain": [
       "['anscombe.json',\n",
       " 'README.md',\n",
       " 'test',\n",
       " '.ipynb_checkpoints',\n",
       " 'california_housing_test.csv',\n",
       " 'mnist_test.csv',\n",
       " 'mnist_train_small.csv',\n",
       " 'california_housing_train.csv']"
      ]
     },
     "execution_count": 21,
     "metadata": {
      "tags": []
     },
     "output_type": "execute_result"
    }
   ],
   "source": [
    "entries"
   ]
  },
  {
   "cell_type": "code",
   "execution_count": 9,
   "metadata": {
    "colab": {
     "base_uri": "https://localhost:8080/",
     "height": 153
    },
    "colab_type": "code",
    "id": "MR395AW1DVfo",
    "outputId": "cda38ed7-1a34-4fcc-e503-5fa1485b9669"
   },
   "outputs": [
    {
     "name": "stdout",
     "output_type": "stream",
     "text": [
      ".ipynb_checkpoints\n",
      "Session2_Basic_concepts_2 List-Tuple-Dict.ipynb\n",
      "Session2_Basic_concepts_2_Working_with_files.ipynb\n"
     ]
    }
   ],
   "source": [
    "with os.scandir('./') as entries_by_scandir:\n",
    "    for entry in entries_by_scandir:\n",
    "        print(entry.name)"
   ]
  },
  {
   "cell_type": "markdown",
   "metadata": {
    "colab_type": "text",
    "id": "f3wpqaclEi3a"
   },
   "source": [
    "## Listing All Files in a Directory"
   ]
  },
  {
   "cell_type": "code",
   "execution_count": 1,
   "metadata": {
    "colab": {
     "base_uri": "https://localhost:8080/",
     "height": 119
    },
    "colab_type": "code",
    "id": "eAOlakb3DvCp",
    "outputId": "48ffabff-fa1d-463b-9721-913dbf8788fb"
   },
   "outputs": [
    {
     "name": "stdout",
     "output_type": "stream",
     "text": [
      "Session2_Basic_concepts_2_Working_with_files.ipynb\n",
      "Session2_Basic_concepts_2 List-Tuple-Dict.ipynb\n",
      "voca.txt\n",
      "Session_2_Scope.ipynb\n",
      "data.txt\n"
     ]
    }
   ],
   "source": [
    "import os\n",
    "\n",
    "# List all files in a directory using os.listdir\n",
    "basepath = './'\n",
    "for entry in os.listdir(basepath):\n",
    "    if os.path.isfile(os.path.join(basepath, entry)):\n",
    "        print(entry)"
   ]
  },
  {
   "cell_type": "markdown",
   "metadata": {
    "colab_type": "text",
    "id": "HWcpXJdOFUJt"
   },
   "source": [
    "## Listing Subdirectories"
   ]
  },
  {
   "cell_type": "code",
   "execution_count": 11,
   "metadata": {
    "colab": {
     "base_uri": "https://localhost:8080/",
     "height": 51
    },
    "colab_type": "code",
    "id": "rY2U4YbWE6-Y",
    "outputId": "0fa841c1-9d33-4171-d572-89c8758b3fe9"
   },
   "outputs": [
    {
     "name": "stdout",
     "output_type": "stream",
     "text": [
      ".ipynb_checkpoints\n"
     ]
    }
   ],
   "source": [
    "import os\n",
    "\n",
    "# List all subdirectories using os.listdir\n",
    "basepath = './'\n",
    "for entry in os.listdir(basepath):\n",
    "    if os.path.isdir(os.path.join(basepath, entry)):\n",
    "        print(entry)"
   ]
  },
  {
   "cell_type": "markdown",
   "metadata": {
    "colab_type": "text",
    "id": "5LFHw9i7Fyrr"
   },
   "source": [
    "# Getting File Attributes"
   ]
  },
  {
   "cell_type": "code",
   "execution_count": 12,
   "metadata": {
    "colab": {
     "base_uri": "https://localhost:8080/",
     "height": 153
    },
    "colab_type": "code",
    "id": "ylfoYz3dFYUQ",
    "outputId": "df42a906-1fef-471a-d8e5-41a388d440ee"
   },
   "outputs": [
    {
     "name": "stdout",
     "output_type": "stream",
     "text": [
      "1617098821.3174593\n",
      "1617198802.3156812\n",
      "1617199432.3579218\n"
     ]
    }
   ],
   "source": [
    "import os\n",
    "with os.scandir('./') as dir_contents:\n",
    "    for entry in dir_contents:\n",
    "         info = entry.stat()\n",
    "         print(info.st_mtime)"
   ]
  },
  {
   "cell_type": "code",
   "execution_count": 15,
   "metadata": {
    "colab": {},
    "colab_type": "code",
    "id": "7MogvxyKF40Z"
   },
   "outputs": [],
   "source": [
    "from datetime import datetime\n",
    "from os import scandir\n",
    "\n",
    "def convert_date(timestamp):\n",
    "    d = datetime.utcfromtimestamp(timestamp)\n",
    "    formated_date = d.strftime('%d %b %Y')\n",
    "    return formated_date\n",
    "\n",
    "def get_files():\n",
    "    dir_entries = scandir('./')\n",
    "    for entry in dir_entries:\n",
    "        if entry.is_file():\n",
    "            info = entry.stat()\n",
    "            print(f'{entry.name}\\t Last Modified: {convert_date(info.st_mtime)}')"
   ]
  },
  {
   "cell_type": "code",
   "execution_count": 16,
   "metadata": {
    "colab": {
     "base_uri": "https://localhost:8080/",
     "height": 119
    },
    "colab_type": "code",
    "id": "uAPltLEgGIeR",
    "outputId": "1f86d0dc-efc1-4c21-dd98-2bf76e87fc9e"
   },
   "outputs": [
    {
     "name": "stdout",
     "output_type": "stream",
     "text": [
      "Session2_Basic_concepts_2 List-Tuple-Dict.ipynb\t Last Modified: 31 Mar 2021\n",
      "Session2_Basic_concepts_2_Working_with_files.ipynb\t Last Modified: 31 Mar 2021\n"
     ]
    }
   ],
   "source": [
    "get_files()"
   ]
  },
  {
   "cell_type": "markdown",
   "metadata": {
    "colab_type": "text",
    "id": "0HP0r_lLGce4"
   },
   "source": [
    "# Making Directories\n",
    "\n",
    "Function|\tDescription|\n",
    "---------|------------|\n",
    "os.mkdir()|\tCreates a single subdirectory|\n",
    "os.makedirs()|\tCreates multiple directories, including intermediate directories\n"
   ]
  },
  {
   "cell_type": "markdown",
   "metadata": {
    "colab_type": "text",
    "id": "Sfl03mMPGqp9"
   },
   "source": [
    "## Creating a Single Directory"
   ]
  },
  {
   "cell_type": "code",
   "execution_count": null,
   "metadata": {
    "colab": {},
    "colab_type": "code",
    "id": "91gvSiiPGLMh"
   },
   "outputs": [],
   "source": [
    "import os\n",
    "\n",
    "os.mkdir('sample_data/example_directory/')"
   ]
  },
  {
   "cell_type": "markdown",
   "metadata": {
    "colab_type": "text",
    "id": "VEIxf9MrG49z"
   },
   "source": [
    "## Creating Multiple Directories"
   ]
  },
  {
   "cell_type": "code",
   "execution_count": null,
   "metadata": {
    "colab": {},
    "colab_type": "code",
    "id": "C4fMqbksGYGI"
   },
   "outputs": [],
   "source": [
    "import os\n",
    "\n",
    "os.makedirs('sample_data/fpt/fa')"
   ]
  },
  {
   "cell_type": "markdown",
   "metadata": {
    "colab_type": "text",
    "id": "UeevGQrqIous"
   },
   "source": [
    "# Deleting Files and Directories"
   ]
  },
  {
   "cell_type": "markdown",
   "metadata": {
    "colab_type": "text",
    "id": "8zwscj6EIzCj"
   },
   "source": [
    "## Deleting Files in Python"
   ]
  },
  {
   "cell_type": "code",
   "execution_count": null,
   "metadata": {
    "colab": {},
    "colab_type": "code",
    "id": "o-5tbuKjG-0P"
   },
   "outputs": [],
   "source": [
    "import os\n",
    "\n",
    "data_file = '/content/sample_data/mnist_train_small.csv'\n",
    "os.remove(data_file)"
   ]
  },
  {
   "cell_type": "markdown",
   "metadata": {
    "colab_type": "text",
    "id": "VMFmz4-4JISa"
   },
   "source": [
    "## Deleting Directories\n"
   ]
  },
  {
   "cell_type": "code",
   "execution_count": null,
   "metadata": {
    "colab": {
     "base_uri": "https://localhost:8080/",
     "height": 34
    },
    "colab_type": "code",
    "id": "RyJE4ENqJAYZ",
    "outputId": "19d8a20e-52b4-42f2-db8d-a72708d3c151"
   },
   "outputs": [
    {
     "name": "stdout",
     "output_type": "stream",
     "text": [
      "Error: /content/sample_data/test : Directory not empty\n"
     ]
    }
   ],
   "source": [
    "import os\n",
    "\n",
    "trash_dir = '/content/sample_data/test'\n",
    "\n",
    "try:\n",
    "    os.rmdir(trash_dir)\n",
    "except OSError as e:\n",
    "    print(f'Error: {trash_dir} : {e.strerror}')"
   ]
  },
  {
   "cell_type": "markdown",
   "metadata": {
    "colab_type": "text",
    "id": "184dbyXTMWcw"
   },
   "source": [
    "## Deleting Entire Directory Trees"
   ]
  },
  {
   "cell_type": "code",
   "execution_count": null,
   "metadata": {
    "colab": {},
    "colab_type": "code",
    "id": "x8PUHL5DJRFJ"
   },
   "outputs": [],
   "source": [
    "import shutil\n",
    "\n",
    "trash_dir = '/content/sample_data/test'\n",
    "\n",
    "try:\n",
    "    shutil.rmtree(trash_dir)\n",
    "except OSError as e:\n",
    "    print(f'Error: {trash_dir} : {e.strerror}')"
   ]
  },
  {
   "cell_type": "markdown",
   "metadata": {
    "colab_type": "text",
    "id": "RTt4X2NRM-Vj"
   },
   "source": [
    "# Copying, Moving, and Renaming Files and Directories\n",
    "## Copying Files in Python"
   ]
  },
  {
   "cell_type": "code",
   "execution_count": null,
   "metadata": {
    "colab": {
     "base_uri": "https://localhost:8080/",
     "height": 35
    },
    "colab_type": "code",
    "id": "BC5HFfcDMjRR",
    "outputId": "48e7236c-a977-46bb-b872-f02ead71d6b2"
   },
   "outputs": [
    {
     "data": {
      "application/vnd.google.colaboratory.intrinsic+json": {
       "type": "string"
      },
      "text/plain": [
       "'/content/sample_data/fpt/fa/california_housing_train.csv'"
      ]
     },
     "execution_count": 36,
     "metadata": {
      "tags": []
     },
     "output_type": "execute_result"
    }
   ],
   "source": [
    "import shutil\n",
    "\n",
    "src = '/content/sample_data/california_housing_train.csv'\n",
    "dst = '/content/sample_data/fpt/fa'\n",
    "shutil.copy(src, dst)"
   ]
  },
  {
   "cell_type": "markdown",
   "metadata": {
    "colab_type": "text",
    "id": "8fwmXrDkNSSQ"
   },
   "source": [
    "## Copying Directories"
   ]
  },
  {
   "cell_type": "code",
   "execution_count": null,
   "metadata": {
    "colab": {
     "base_uri": "https://localhost:8080/",
     "height": 35
    },
    "colab_type": "code",
    "id": "m2MDxebHNOyA",
    "outputId": "03f6183d-1f77-4b7b-a714-0c2c13540084"
   },
   "outputs": [
    {
     "data": {
      "application/vnd.google.colaboratory.intrinsic+json": {
       "type": "string"
      },
      "text/plain": [
       "'data1_backup'"
      ]
     },
     "execution_count": 37,
     "metadata": {
      "tags": []
     },
     "output_type": "execute_result"
    }
   ],
   "source": [
    "import shutil\n",
    "shutil.copytree('/content/sample_data/fpt/fa', 'data1_backup')"
   ]
  },
  {
   "cell_type": "markdown",
   "metadata": {
    "colab_type": "text",
    "id": "IcoEd6Z2Nfup"
   },
   "source": [
    "## Moving Files and Directories"
   ]
  },
  {
   "cell_type": "code",
   "execution_count": null,
   "metadata": {
    "colab": {
     "base_uri": "https://localhost:8080/",
     "height": 35
    },
    "colab_type": "code",
    "id": "xpMayDN0NZF5",
    "outputId": "807781d0-7dbd-4900-bc30-d0bcf517f581"
   },
   "outputs": [
    {
     "data": {
      "application/vnd.google.colaboratory.intrinsic+json": {
       "type": "string"
      },
      "text/plain": [
       "'/content/fa'"
      ]
     },
     "execution_count": 38,
     "metadata": {
      "tags": []
     },
     "output_type": "execute_result"
    }
   ],
   "source": [
    "import shutil\n",
    "shutil.move('/content/sample_data/fpt/fa/', '/content/')"
   ]
  },
  {
   "cell_type": "markdown",
   "metadata": {
    "colab_type": "text",
    "id": "g5TdSBZjNsfP"
   },
   "source": [
    "## Renaming Files and Directories"
   ]
  },
  {
   "cell_type": "code",
   "execution_count": null,
   "metadata": {
    "colab": {},
    "colab_type": "code",
    "id": "kohbWWQ7Nnhr"
   },
   "outputs": [],
   "source": [
    "import os\n",
    "\n",
    "os.rename('/content/data1_backup/california_housing_train.csv', '/content/data1_backup/california_housing_train_copy.csv')"
   ]
  },
  {
   "cell_type": "code",
   "execution_count": null,
   "metadata": {
    "colab": {},
    "colab_type": "code",
    "id": "9CmAC3oIN05Z"
   },
   "outputs": [],
   "source": []
  }
 ],
 "metadata": {
  "colab": {
   "collapsed_sections": [],
   "name": "Session2_Basic concepts 2 Working with files.ipynb",
   "provenance": [],
   "toc_visible": true
  },
  "kernelspec": {
   "display_name": "Python 3 (ipykernel)",
   "language": "python",
   "name": "python3"
  },
  "language_info": {
   "codemirror_mode": {
    "name": "ipython",
    "version": 3
   },
   "file_extension": ".py",
   "mimetype": "text/x-python",
   "name": "python",
   "nbconvert_exporter": "python",
   "pygments_lexer": "ipython3",
   "version": "3.9.7"
  }
 },
 "nbformat": 4,
 "nbformat_minor": 4
}
