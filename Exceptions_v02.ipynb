{
 "cells": [
  {
   "cell_type": "markdown",
   "metadata": {
    "colab_type": "text",
    "id": "duPCH4yX7-0y"
   },
   "source": [
    "#### Thay đổi trong notebook version 02\n",
    "- Thêm phần phân biệt error và exception\n",
    "- Thêm ví dụ syntax error\n",
    "- Thêm phần giải thích cho `assert`\n",
    "- Cập nhật link built-in exceptions với Python\n",
    " version 3.8\n",
    "- Thêm phần giải thích về `else`, `finally` trong `try...except`"
   ]
  },
  {
   "cell_type": "markdown",
   "metadata": {
    "colab_type": "text",
    "id": "DTqlG_g63nvB"
   },
   "source": [
    "## Exceptions là gì?\n"
   ]
  },
  {
   "cell_type": "markdown",
   "metadata": {
    "colab_type": "text",
    "id": "l2cP3MGHt_4b"
   },
   "source": [
    "- Errors vs Exceptions\n",
    "  - Error: lỗi cú pháp (syntax error)\n",
    "  - Exception: lỗi phát hiện khi thực thi (error detect in execution)\n",
    "- Khi code của bạn có lỗi (sai cú pháp, gọi đến hàm chưa được khai báo, hoặc làm một số việc mà Python không hiểu vv.) thì Python sẽ thực hiện 2 việc sau:\n",
    "  - **Dừng** chương trình đang chạy\n",
    "  - Trả ra 1 loại dữ liệu gọi là **exception**"
   ]
  },
  {
   "cell_type": "code",
   "execution_count": null,
   "metadata": {
    "colab": {
     "base_uri": "https://localhost:8080/",
     "height": 131
    },
    "colab_type": "code",
    "id": "R0vIhZ895vZO",
    "outputId": "15d35a69-c951-4b0c-da49-0eaaee52fe76"
   },
   "outputs": [],
   "source": [
    "# Ví dụ syntax error\n",
    "print('error')"
   ]
  },
  {
   "cell_type": "code",
   "execution_count": null,
   "metadata": {
    "colab": {
     "base_uri": "https://localhost:8080/",
     "height": 183
    },
    "colab_type": "code",
    "id": "yV7cirWju229",
    "outputId": "4b6f632f-6504-49db-807d-8b81f8c60006"
   },
   "outputs": [],
   "source": [
    "# Ví dụ exception\n",
    "num = 0\n",
    "2 / num"
   ]
  },
  {
   "cell_type": "code",
   "execution_count": null,
   "metadata": {
    "colab": {
     "base_uri": "https://localhost:8080/",
     "height": 218
    },
    "colab_type": "code",
    "id": "gihPE1zvviMn",
    "outputId": "4fbc7aca-1389-422a-b446-230b58be934c"
   },
   "outputs": [],
   "source": [
    "response = {\n",
    "    'data': {\n",
    "        'id': '123',\n",
    "        'name': 'fpt',\n",
    "        'addr': '17 duy tan'\n",
    "    }\n",
    "}\n",
    "\n",
    "address = response['data']['address']\n",
    "address"
   ]
  },
  {
   "cell_type": "markdown",
   "metadata": {
    "colab_type": "text",
    "id": "FUv-FcTyws9M"
   },
   "source": [
    "## Làm thế nào để handle exceptions?"
   ]
  },
  {
   "cell_type": "markdown",
   "metadata": {
    "colab_type": "text",
    "id": "nxxAjqdfxm_f"
   },
   "source": [
    "Dùng keyword `try` và `except`\n",
    "- `try` bắt đầu một code block mới\n",
    "- đoạn codde có khả năng lỗi sẽ được đặt bên trong `try`\n",
    "- bên trong `except` sẽ là code được thực thi khi code bên trong `try` có lỗi"
   ]
  },
  {
   "cell_type": "code",
   "execution_count": null,
   "metadata": {
    "colab": {
     "base_uri": "https://localhost:8080/",
     "height": 201
    },
    "colab_type": "code",
    "id": "elWHGBmzvzbl",
    "outputId": "0acaedf1-0a71-4415-f0f8-43fed853f8ae"
   },
   "outputs": [],
   "source": [
    "# Without try...except\n",
    "num = 0\n",
    "2 / num\n",
    "print('The end') # không được in ra"
   ]
  },
  {
   "cell_type": "code",
   "execution_count": null,
   "metadata": {
    "colab": {
     "base_uri": "https://localhost:8080/",
     "height": 35
    },
    "colab_type": "code",
    "id": "ll7XCryByk2K",
    "outputId": "693e53c1-766a-4ad0-8b74-272b2ef6555f"
   },
   "outputs": [],
   "source": [
    "# With try...except\n",
    "num = 0\n",
    "try:\n",
    "  2 / num\n",
    "except:\n",
    "  pass\n",
    "print('The end') # được in ra"
   ]
  },
  {
   "cell_type": "markdown",
   "metadata": {
    "colab_type": "text",
    "id": "c04xVEI8zG63"
   },
   "source": [
    "### Lưu ý 1: Đoạn code bên dưới dòng code bị lỗi sẽ không được thực thi"
   ]
  },
  {
   "cell_type": "code",
   "execution_count": null,
   "metadata": {
    "colab": {
     "base_uri": "https://localhost:8080/",
     "height": 69
    },
    "colab_type": "code",
    "id": "uI97zdUTyx9i",
    "outputId": "0c987392-8864-4e64-da84-246ee1a1e25b"
   },
   "outputs": [],
   "source": [
    "try:\n",
    "    print(\"1\")\n",
    "    x = 1 / 0\n",
    "    print(\"2\")\n",
    "except:\n",
    "    print(\"Có gì đó sai sai...\")\n",
    "\n",
    "print(\"3\")"
   ]
  },
  {
   "cell_type": "markdown",
   "metadata": {
    "colab_type": "text",
    "id": "to4GnDQDzudD"
   },
   "source": [
    "### Lưu ý 2: Sử dụng nhiều `except` để handle nhiều lỗi khác nhau"
   ]
  },
  {
   "cell_type": "code",
   "execution_count": null,
   "metadata": {
    "colab": {
     "base_uri": "https://localhost:8080/",
     "height": 52
    },
    "colab_type": "code",
    "id": "mNSm4TdPzcRE",
    "outputId": "663bb9cf-cef2-4a03-9b39-4bde7ca46bc6"
   },
   "outputs": [],
   "source": [
    "try:\n",
    "    x = int(input(\"Nhập vào một số khác 0:\"))\n",
    "    y = 1 / x\n",
    "    print(y)\n",
    "except ZeroDivisionError:\n",
    "    print(\"Vui lòng không nhập số 0.\")\n",
    "except ValueError:\n",
    "    print(\"Vui lòng chỉ nhập số.\")\n",
    "except:\n",
    "    print(\"Có gì đó sai sai...\")\n",
    "\n",
    "print(\"THE END.\")"
   ]
  },
  {
   "cell_type": "markdown",
   "metadata": {
    "colab_type": "text",
    "id": "2FXolYlk1Xnl"
   },
   "source": [
    "### Lưu ý 3: Các lỗi chung chung (general error) nên được để sau, các lỗi cụ thể nên được đặt trước\n",
    "- Python có 63 built-in exceptions theo cấu trúc tree-shaped hierarchy\n",
    "- Ví dụ `ZeroDivisionError` -> `ArithmeticError` -> `Exception` -> `BaseException`"
   ]
  },
  {
   "cell_type": "code",
   "execution_count": null,
   "metadata": {
    "colab": {
     "base_uri": "https://localhost:8080/",
     "height": 35
    },
    "colab_type": "code",
    "id": "mYa8lU-J0a-3",
    "outputId": "13dbb084-66e2-486d-85ff-dffc1ae5453a"
   },
   "outputs": [],
   "source": [
    "try:\n",
    "    1 / 0\n",
    "except ArithmeticError:\n",
    "    print('ArithmeticError')\n",
    "except ZeroDivisionError:\n",
    "    print(\"ZeroDivisionError\")"
   ]
  },
  {
   "cell_type": "code",
   "execution_count": null,
   "metadata": {
    "colab": {
     "base_uri": "https://localhost:8080/",
     "height": 34
    },
    "colab_type": "code",
    "id": "xckR3dqL3QVo",
    "outputId": "1cbfdcb2-2b53-4fca-ba87-fd005291bbcf"
   },
   "outputs": [],
   "source": [
    "try:\n",
    "    1 / 0\n",
    "except ZeroDivisionError:\n",
    "    print(\"ZeroDivisionError\")\n",
    "except ArithmeticError:\n",
    "    print('ArithmeticError')\n",
    "except:\n",
    "    print('General Error')"
   ]
  },
  {
   "cell_type": "markdown",
   "metadata": {
    "colab_type": "text",
    "id": "MgN7sYCm9JT2"
   },
   "source": [
    "### Lưu ý 4: Lỗi cú pháp"
   ]
  },
  {
   "cell_type": "code",
   "execution_count": null,
   "metadata": {
    "colab": {
     "base_uri": "https://localhost:8080/",
     "height": 131
    },
    "colab_type": "code",
    "id": "dY-ihlzg9VgF",
    "outputId": "1e8bc2a7-e31d-4a18-f300-61ff02e8f9f4"
   },
   "outputs": [],
   "source": [
    "try:\n",
    "  print('Line 1')\n",
    "  print('Syntax Error')\n",
    "  ]\n",
    "except:\n",
    "  pass"
   ]
  },
  {
   "cell_type": "markdown",
   "metadata": {
    "colab_type": "text",
    "id": "hmUGcvS24J-3"
   },
   "source": [
    "### `assert`\n",
    "- Raise AssertionError khi biểu thức sau nó bằng False\n",
    "- Không làm gì cả khi biếu thức sau nó bằng True"
   ]
  },
  {
   "cell_type": "code",
   "execution_count": null,
   "metadata": {
    "colab": {
     "base_uri": "https://localhost:8080/",
     "height": 185
    },
    "colab_type": "code",
    "id": "4AVWnw503ooM",
    "outputId": "3a19d399-5c8c-4f11-9e92-94cb30da651e"
   },
   "outputs": [],
   "source": [
    "assert 10 == 6 + 3"
   ]
  },
  {
   "cell_type": "code",
   "execution_count": null,
   "metadata": {
    "colab": {},
    "colab_type": "code",
    "id": "cDm7J0gfp6ur"
   },
   "outputs": [],
   "source": [
    "assert 1"
   ]
  },
  {
   "cell_type": "code",
   "execution_count": null,
   "metadata": {
    "colab": {
     "base_uri": "https://localhost:8080/",
     "height": 185
    },
    "colab_type": "code",
    "id": "yh937b-IxD5r",
    "outputId": "5ad37cd3-68ce-4788-a136-9c532a300e1e"
   },
   "outputs": [],
   "source": [
    "assert 0"
   ]
  },
  {
   "cell_type": "code",
   "execution_count": null,
   "metadata": {
    "colab": {},
    "colab_type": "code",
    "id": "490l9J_iKrEs"
   },
   "outputs": [],
   "source": [
    "assert ham(x) == 1"
   ]
  },
  {
   "cell_type": "markdown",
   "metadata": {
    "colab_type": "text",
    "id": "tQZ9xO8m5LRJ"
   },
   "source": [
    "Đọc thêm về Python built-in Exceptions: https://docs.python.org/3.8/library/exceptions.html"
   ]
  },
  {
   "cell_type": "markdown",
   "metadata": {
    "colab_type": "text",
    "id": "28zi4iogHIAM"
   },
   "source": [
    "## Else, Finally trong Try...Except ?"
   ]
  },
  {
   "cell_type": "markdown",
   "metadata": {
    "colab_type": "text",
    "id": "MAGxg3Rg-X6_"
   },
   "source": [
    "- Đoạn code bên trong `else` sẽ được thực thi CHỈ KHI đoạn code trong `try` **không** raise exceptions.\n",
    "- Đoạn code bên trong `finally` sẽ LUÔN được thực thi bết kể đoạn code trong `try` có raise exceptions hay không.\n",
    "- Nếu có exceptions chưa được handle thì sẽ được re-raise sau khi code trong `finally` thực thi\n",
    "\n",
    "```\n",
    "try:\n",
    "    # đoạn code có thể raise exceptions\n",
    "except:\n",
    "    # đoạn code sẽ được thực thi khi có exceptions\n",
    "else:\n",
    "    # đoạn code sẽ được thực thi khi không có exceptions\n",
    "finally:\n",
    "    # đoạn code sẽ luôn được thực thi\n",
    "```\n",
    "\n"
   ]
  },
  {
   "cell_type": "code",
   "execution_count": null,
   "metadata": {
    "colab": {},
    "colab_type": "code",
    "id": "GqGuQEANHKx5"
   },
   "outputs": [],
   "source": [
    "try:\n",
    "    age=int(input('Nhập vào tuổi của bạn: '))\n",
    "except ValueError:\n",
    "    print ('Giá trị nhập vào không phải là số.')\n",
    "else:\n",
    "    if age <= 16:\n",
    "        print('Bạn quá trẻ để tham gia sự kiện.')\n",
    "    else:\n",
    "        print('Mời bạn vào tham gia sự kiện.')\n",
    "finally:\n",
    "    print('Goodbye!')"
   ]
  },
  {
   "cell_type": "code",
   "execution_count": null,
   "metadata": {
    "colab": {},
    "colab_type": "code",
    "id": "momGNGqsAx-u"
   },
   "outputs": [],
   "source": [
    "try:\n",
    "    age=int(input('Nhập vào tuổi của bạn: '))\n",
    "except ValueError:\n",
    "    print ('Giá trị nhập vào không phải là string.')\n",
    "except TypeError:\n",
    "    print ('Giá trị nhập vào không phải là số.')\n",
    "else:\n",
    "    if age <= 16:\n",
    "        print('Bạn quá trẻ để tham gia sự kiện.')\n",
    "    else:\n",
    "        print('Mời bạn vào tham gia sự kiện.')\n",
    "finally:\n",
    "    print('Goodbye!')"
   ]
  }
 ],
 "metadata": {
  "colab": {
   "collapsed_sections": [
    "DTqlG_g63nvB",
    "FUv-FcTyws9M",
    "c04xVEI8zG63",
    "to4GnDQDzudD",
    "2FXolYlk1Xnl",
    "MgN7sYCm9JT2"
   ],
   "name": "Python_Exceptions_v02.ipynb",
   "provenance": []
  },
  "kernelspec": {
   "display_name": "Python 3 (ipykernel)",
   "language": "python",
   "name": "python3"
  },
  "language_info": {
   "codemirror_mode": {
    "name": "ipython",
    "version": 3
   },
   "file_extension": ".py",
   "mimetype": "text/x-python",
   "name": "python",
   "nbconvert_exporter": "python",
   "pygments_lexer": "ipython3",
   "version": "3.9.7"
  }
 },
 "nbformat": 4,
 "nbformat_minor": 4
}
