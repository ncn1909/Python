{
 "cells": [
  {
   "cell_type": "markdown",
   "metadata": {
    "colab_type": "text",
    "id": "znLIL9ZiugqS"
   },
   "source": [
    "# List"
   ]
  },
  {
   "cell_type": "code",
   "execution_count": 1,
   "metadata": {
    "colab": {
     "base_uri": "https://localhost:8080/",
     "height": 34
    },
    "colab_type": "code",
    "id": "N9kxqvULqvHk",
    "outputId": "bf581801-af5c-4264-c5bd-5568d2e1df8d"
   },
   "outputs": [
    {
     "name": "stdout",
     "output_type": "stream",
     "text": [
      "['foo', 'bar', 'baz', 'qux']\n"
     ]
    }
   ],
   "source": [
    "a = ['foo', 'bar', 'baz', 'qux']\n",
    "print(a)"
   ]
  },
  {
   "cell_type": "markdown",
   "metadata": {
    "colab_type": "text",
    "id": "IRsXjYQdxH2b"
   },
   "source": [
    "****"
   ]
  },
  {
   "cell_type": "markdown",
   "metadata": {
    "colab_type": "text",
    "id": "VDiq6-Rqul7t"
   },
   "source": [
    "## Lists are ordered"
   ]
  },
  {
   "cell_type": "code",
   "execution_count": 2,
   "metadata": {
    "colab": {
     "base_uri": "https://localhost:8080/",
     "height": 34
    },
    "colab_type": "code",
    "id": "0G_s6OhXrErJ",
    "outputId": "95444fc6-1125-4594-fd29-8b881d1fefa1"
   },
   "outputs": [
    {
     "data": {
      "text/plain": [
       "False"
      ]
     },
     "execution_count": 2,
     "metadata": {},
     "output_type": "execute_result"
    }
   ],
   "source": [
    "a = ['a', 'b', 'c', 'd']\n",
    "b = ['b', 'a', 'd', 'c']\n",
    "a == b"
   ]
  },
  {
   "cell_type": "code",
   "execution_count": null,
   "metadata": {},
   "outputs": [],
   "source": [
    "a = ['a', 'b', 'c', 'd']\n",
    "b = sorted(['b', 'a', 'd', 'c'])\n",
    "a == b"
   ]
  },
  {
   "cell_type": "markdown",
   "metadata": {
    "colab_type": "text",
    "id": "ucB-kPM8ylx-"
   },
   "source": [
    "## Lists Can Contain Arbitrary Objects"
   ]
  },
  {
   "cell_type": "code",
   "execution_count": 3,
   "metadata": {
    "colab": {},
    "colab_type": "code",
    "id": "xG3B0aHhxG7D"
   },
   "outputs": [
    {
     "data": {
      "text/plain": [
       "[21.42, 'foobar', 3, 4, 'bark', False, 3.14159]"
      ]
     },
     "execution_count": 3,
     "metadata": {},
     "output_type": "execute_result"
    }
   ],
   "source": [
    "a = [21.42, 'foobar', 3, 4, 'bark', False, 3.14159]\n",
    "a"
   ]
  },
  {
   "cell_type": "code",
   "execution_count": 5,
   "metadata": {
    "colab": {},
    "colab_type": "code",
    "id": "OevOBWk8yuDr"
   },
   "outputs": [
    {
     "name": "stdout",
     "output_type": "stream",
     "text": [
      "[1, <class 'int'>, <function foo at 0x7f8869471dc0>, <module 'numpy' from '/Users/nguyenchinguyen/Documents/Anaconda/anaconda3/lib/python3.8/site-packages/numpy/__init__.py'>]\n"
     ]
    }
   ],
   "source": [
    "def foo():\n",
    "  pass\n",
    "\n",
    "import numpy as np\n",
    "\n",
    "list_a = [1, int, foo, np]\n",
    "print(list_a)"
   ]
  },
  {
   "cell_type": "markdown",
   "metadata": {
    "colab_type": "text",
    "id": "hn2aAjYu0g9i"
   },
   "source": [
    "## List Elements Can Be Accessed by Index"
   ]
  },
  {
   "cell_type": "markdown",
   "metadata": {
    "colab_type": "text",
    "id": "L7YRzA0avOEl"
   },
   "source": [
    "![list_index.webp](data:image/webp;base64,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)"
   ]
  },
  {
   "cell_type": "code",
   "execution_count": 6,
   "metadata": {
    "colab": {
     "base_uri": "https://localhost:8080/",
     "height": 51
    },
    "colab_type": "code",
    "id": "BYkioKCQ0hgf",
    "outputId": "49d8f6f0-9ecd-4e52-f300-8b494df81adc"
   },
   "outputs": [
    {
     "name": "stdout",
     "output_type": "stream",
     "text": [
      "foo\n",
      "corge\n"
     ]
    }
   ],
   "source": [
    "a = ['foo', 'bar', 'baz', 'qux', 'quux', 'corge']\n",
    "print(a[0])\n",
    "print(a[-1])\n"
   ]
  },
  {
   "cell_type": "markdown",
   "metadata": {
    "colab_type": "text",
    "id": "9YJ3VANUvh85"
   },
   "source": [
    "### Slicing also works"
   ]
  },
  {
   "cell_type": "code",
   "execution_count": 7,
   "metadata": {
    "colab": {
     "base_uri": "https://localhost:8080/",
     "height": 51
    },
    "colab_type": "code",
    "id": "C_Y9k1UB0lwq",
    "outputId": "b48dec8b-e35e-440b-ad60-d16c71052682"
   },
   "outputs": [
    {
     "name": "stdout",
     "output_type": "stream",
     "text": [
      "['foo', 'bar']\n",
      "['qux', 'quux']\n"
     ]
    }
   ],
   "source": [
    "a = ['foo', 'bar', 'baz', 'qux', 'quux', 'corge']\n",
    "print(a[0:2])\n",
    "print(a[-3:-1])"
   ]
  },
  {
   "cell_type": "markdown",
   "metadata": {
    "colab_type": "text",
    "id": "FgCkVu5JvtOx"
   },
   "source": [
    "\n",
    "\n",
    "> Both positive and negative indices can be specified\n",
    "\n"
   ]
  },
  {
   "cell_type": "code",
   "execution_count": 8,
   "metadata": {
    "colab": {
     "base_uri": "https://localhost:8080/",
     "height": 68
    },
    "colab_type": "code",
    "id": "mFxymumD1vig",
    "outputId": "a8996872-2e6c-4da7-fc33-d08d21b998d0"
   },
   "outputs": [
    {
     "name": "stdout",
     "output_type": "stream",
     "text": [
      "['foo', 'bar', 'baz', 'qux'] ['foo', 'bar', 'baz', 'qux']\n",
      "['baz', 'qux', 'quux', 'corge'] ['baz', 'qux', 'quux', 'corge']\n"
     ]
    },
    {
     "data": {
      "text/plain": [
       "True"
      ]
     },
     "execution_count": 8,
     "metadata": {},
     "output_type": "execute_result"
    }
   ],
   "source": [
    "print(a[:4], a[0:4])\n",
    "print(a[2:], a[2:len(a)])\n",
    "\n",
    "a[:4] + a[4:]\n",
    "a[:4] + a[4:] == a"
   ]
  },
  {
   "cell_type": "markdown",
   "metadata": {
    "colab_type": "text",
    "id": "OBYXagkZv3KF"
   },
   "source": [
    "\n",
    "\n",
    "> Omitting the first index starts the slice at the beginning of the list, and omitting the second index extends the slice to the end of the list\n",
    "\n"
   ]
  },
  {
   "cell_type": "code",
   "execution_count": 9,
   "metadata": {
    "colab": {
     "base_uri": "https://localhost:8080/",
     "height": 68
    },
    "colab_type": "code",
    "id": "ZM1WvbZrv61_",
    "outputId": "726d805e-11ae-42bb-b209-202eae914a89"
   },
   "outputs": [
    {
     "name": "stdout",
     "output_type": "stream",
     "text": [
      "['foo', 'bar', 'baz', 'qux'] ['foo', 'bar', 'baz', 'qux']\n",
      "['baz', 'qux', 'quux', 'corge'] ['baz', 'qux', 'quux', 'corge']\n"
     ]
    },
    {
     "data": {
      "text/plain": [
       "True"
      ]
     },
     "execution_count": 9,
     "metadata": {},
     "output_type": "execute_result"
    }
   ],
   "source": [
    "print(a[:4], a[0:4])\n",
    "print(a[2:], a[2:len(a)])\n",
    "a[:4] + a[4:]\n",
    "a[:4] + a[4:] == a"
   ]
  },
  {
   "cell_type": "markdown",
   "metadata": {
    "colab_type": "text",
    "id": "9Wj9FlKWuRAy"
   },
   "source": [
    "\n",
    "\n",
    "> You can specify a stride—either positive or negative:\n",
    "\n"
   ]
  },
  {
   "cell_type": "code",
   "execution_count": 16,
   "metadata": {
    "colab": {
     "base_uri": "https://localhost:8080/",
     "height": 68
    },
    "colab_type": "code",
    "id": "4b0xsLgg2uP_",
    "outputId": "372645c3-2127-457c-883a-fc6bd0dda63d"
   },
   "outputs": [
    {
     "name": "stdout",
     "output_type": "stream",
     "text": [
      "['foo', 'baz', 'quux']\n",
      "['bar', 'qux', 'corge']\n",
      "['corge', 'quux', 'qux', 'baz']\n"
     ]
    }
   ],
   "source": [
    "print(a[0:6:2])\n",
    "print(a[1:6:2])\n",
    "print(a[9:1:-1])"
   ]
  },
  {
   "cell_type": "markdown",
   "metadata": {
    "colab_type": "text",
    "id": "rX6S4znYxIFh"
   },
   "source": [
    "\n",
    "\n",
    "> The syntax for reversing a list works the same way it does for strings:\n",
    "\n"
   ]
  },
  {
   "cell_type": "code",
   "execution_count": 17,
   "metadata": {
    "colab": {
     "base_uri": "https://localhost:8080/",
     "height": 34
    },
    "colab_type": "code",
    "id": "h6OlfMRUuSva",
    "outputId": "3ccfd111-ff5d-40eb-d4db-0efc3fd4b714"
   },
   "outputs": [
    {
     "data": {
      "text/plain": [
       "['corge', 'quux', 'qux', 'baz', 'bar', 'foo']"
      ]
     },
     "execution_count": 17,
     "metadata": {},
     "output_type": "execute_result"
    }
   ],
   "source": [
    "a[::-1]"
   ]
  },
  {
   "cell_type": "markdown",
   "metadata": {
    "colab_type": "text",
    "id": "rhUFuEwBxuJW"
   },
   "source": [
    "### Several Python operators and built-in functions"
   ]
  },
  {
   "cell_type": "markdown",
   "metadata": {
    "colab_type": "text",
    "id": "sRwia_R_x4Xq"
   },
   "source": [
    "\n",
    "\n",
    "*   The in and not in operators\n",
    "\n"
   ]
  },
  {
   "cell_type": "code",
   "execution_count": 18,
   "metadata": {
    "colab": {
     "base_uri": "https://localhost:8080/",
     "height": 34
    },
    "colab_type": "code",
    "id": "ngengbgTxOeA",
    "outputId": "5ed6340b-78ab-4e17-d89b-979109a37aa0"
   },
   "outputs": [
    {
     "data": {
      "text/plain": [
       "True"
      ]
     },
     "execution_count": 18,
     "metadata": {},
     "output_type": "execute_result"
    }
   ],
   "source": [
    "'qux' in a"
   ]
  },
  {
   "cell_type": "code",
   "execution_count": 19,
   "metadata": {
    "colab": {
     "base_uri": "https://localhost:8080/",
     "height": 34
    },
    "colab_type": "code",
    "id": "5CeuVeDpx-65",
    "outputId": "e1365401-b10b-40f6-90aa-429e2314ac8c"
   },
   "outputs": [
    {
     "data": {
      "text/plain": [
       "False"
      ]
     },
     "execution_count": 19,
     "metadata": {},
     "output_type": "execute_result"
    }
   ],
   "source": [
    "'xyz' in a"
   ]
  },
  {
   "cell_type": "markdown",
   "metadata": {
    "colab_type": "text",
    "id": "_MXKcQJTyD1A"
   },
   "source": [
    "\n",
    "\n",
    "*   The concatenation (+) and replication (*) operators:\n",
    "\n"
   ]
  },
  {
   "cell_type": "code",
   "execution_count": null,
   "metadata": {
    "colab": {
     "base_uri": "https://localhost:8080/",
     "height": 34
    },
    "colab_type": "code",
    "id": "nrpaIN9yyA2w",
    "outputId": "d31f0b32-fa64-4b7b-94b7-2bc46a39e1e1"
   },
   "outputs": [],
   "source": [
    "a"
   ]
  },
  {
   "cell_type": "code",
   "execution_count": 23,
   "metadata": {
    "colab": {
     "base_uri": "https://localhost:8080/",
     "height": 34
    },
    "colab_type": "code",
    "id": "w14wbMkVyIVh",
    "outputId": "9dbca7e2-5d94-40d6-9c6d-85d9f2a4e9a1"
   },
   "outputs": [
    {
     "data": {
      "text/plain": [
       "['foo', 'bar', 'baz', 'qux', 'quux', 'corge', 'fpt', 'fsoft']"
      ]
     },
     "execution_count": 23,
     "metadata": {},
     "output_type": "execute_result"
    }
   ],
   "source": [
    "a = a + ['fpt', 'fsoft']\n",
    "a"
   ]
  },
  {
   "cell_type": "code",
   "execution_count": 24,
   "metadata": {
    "colab": {
     "base_uri": "https://localhost:8080/",
     "height": 357
    },
    "colab_type": "code",
    "id": "MIYtjyxkyL1p",
    "outputId": "8833c9a7-95f7-4ae2-f56f-a6457bfd794d"
   },
   "outputs": [
    {
     "data": {
      "text/plain": [
       "['foo',\n",
       " 'bar',\n",
       " 'baz',\n",
       " 'qux',\n",
       " 'quux',\n",
       " 'corge',\n",
       " 'fpt',\n",
       " 'fsoft',\n",
       " 'foo',\n",
       " 'bar',\n",
       " 'baz',\n",
       " 'qux',\n",
       " 'quux',\n",
       " 'corge',\n",
       " 'fpt',\n",
       " 'fsoft']"
      ]
     },
     "execution_count": 24,
     "metadata": {},
     "output_type": "execute_result"
    }
   ],
   "source": [
    "a*2"
   ]
  },
  {
   "cell_type": "markdown",
   "metadata": {
    "colab_type": "text",
    "id": "hrmRp5ZbyV1I"
   },
   "source": [
    "\n",
    "\n",
    "*   The len(), min(), and max() functions:\n",
    "\n"
   ]
  },
  {
   "cell_type": "code",
   "execution_count": 28,
   "metadata": {
    "colab": {
     "base_uri": "https://localhost:8080/",
     "height": 34
    },
    "colab_type": "code",
    "id": "b-hl1PoKyONY",
    "outputId": "af986c56-14ac-4247-8284-ad4f2e41846f"
   },
   "outputs": [
    {
     "data": {
      "text/plain": [
       "['foo', 'bar', 'baz', 'qux', 'quux', 'corge', 'fpt', 'fsoft']"
      ]
     },
     "execution_count": 28,
     "metadata": {},
     "output_type": "execute_result"
    }
   ],
   "source": [
    "a"
   ]
  },
  {
   "cell_type": "code",
   "execution_count": 26,
   "metadata": {
    "colab": {
     "base_uri": "https://localhost:8080/",
     "height": 34
    },
    "colab_type": "code",
    "id": "rBBaUoNiyatR",
    "outputId": "7e455bcd-0925-4a7e-f19a-f93ca9f17d3e"
   },
   "outputs": [
    {
     "data": {
      "text/plain": [
       "8"
      ]
     },
     "execution_count": 26,
     "metadata": {},
     "output_type": "execute_result"
    }
   ],
   "source": [
    "len(a)"
   ]
  },
  {
   "cell_type": "code",
   "execution_count": 30,
   "metadata": {
    "colab": {
     "base_uri": "https://localhost:8080/",
     "height": 35
    },
    "colab_type": "code",
    "id": "FYDpQezbyb7I",
    "outputId": "979b2254-129b-4531-e970-1ac5af132832"
   },
   "outputs": [
    {
     "data": {
      "text/plain": [
       "'qux'"
      ]
     },
     "execution_count": 30,
     "metadata": {},
     "output_type": "execute_result"
    }
   ],
   "source": [
    "max(a)"
   ]
  },
  {
   "cell_type": "code",
   "execution_count": 31,
   "metadata": {
    "colab": {
     "base_uri": "https://localhost:8080/",
     "height": 35
    },
    "colab_type": "code",
    "id": "IaQ9us2BycsH",
    "outputId": "e4e019cb-649a-4e60-8d6a-621b32176602"
   },
   "outputs": [
    {
     "data": {
      "text/plain": [
       "'bar'"
      ]
     },
     "execution_count": 31,
     "metadata": {},
     "output_type": "execute_result"
    }
   ],
   "source": [
    "min(a)"
   ]
  },
  {
   "cell_type": "code",
   "execution_count": 29,
   "metadata": {},
   "outputs": [
    {
     "data": {
      "text/plain": [
       "['bar', 'baz', 'corge', 'foo', 'fpt', 'fsoft', 'quux', 'qux']"
      ]
     },
     "execution_count": 29,
     "metadata": {},
     "output_type": "execute_result"
    }
   ],
   "source": [
    "a = sorted(a)\n",
    "a"
   ]
  },
  {
   "cell_type": "markdown",
   "metadata": {
    "colab_type": "text",
    "id": "NBaffx3Dyrsf"
   },
   "source": [
    "## Lists Can Be Nested"
   ]
  },
  {
   "cell_type": "code",
   "execution_count": 53,
   "metadata": {
    "colab": {
     "base_uri": "https://localhost:8080/",
     "height": 34
    },
    "colab_type": "code",
    "id": "3DAT0zYyydtX",
    "outputId": "eee3f25d-ba7d-45ce-df6f-c8690d4a3487"
   },
   "outputs": [
    {
     "name": "stderr",
     "output_type": "stream",
     "text": [
      "c:\\users\\pc\\anaconda3\\envs\\ai_tf210\\lib\\site-packages\\ipykernel_launcher.py:3: VisibleDeprecationWarning: Creating an ndarray from ragged nested sequences (which is a list-or-tuple of lists-or-tuples-or ndarrays with different lengths or shapes) is deprecated. If you meant to do this, you must specify 'dtype=object' when creating the ndarray\n",
      "  This is separate from the ipykernel package so we can avoid doing imports until\n"
     ]
    },
    {
     "data": {
      "text/plain": [
       "'1'"
      ]
     },
     "execution_count": 53,
     "metadata": {},
     "output_type": "execute_result"
    }
   ],
   "source": [
    "import numpy as np\n",
    "\n",
    "x = np.array(['a', ['bb', ['ccc', 'ddd', ['aa', ['2', ['1']]], 'ee', 'ff']], 'g', ['hh', 'ii'], 'j'])\n",
    "x[1][1][2][1][1][0]"
   ]
  },
  {
   "cell_type": "markdown",
   "metadata": {
    "colab_type": "text",
    "id": "ZPS3jIx-zskd"
   },
   "source": [
    "\n",
    "\n",
    "> To access the items in a sublist, simply append an additional index:\n",
    "\n",
    "\n",
    "\n"
   ]
  },
  {
   "cell_type": "code",
   "execution_count": null,
   "metadata": {
    "colab": {
     "base_uri": "https://localhost:8080/",
     "height": 35
    },
    "colab_type": "code",
    "id": "O8W8OfVUzdGY",
    "outputId": "e95974f3-31ee-4980-eb86-24b17c5b3f9e"
   },
   "outputs": [],
   "source": [
    "x[1][0]"
   ]
  },
  {
   "cell_type": "markdown",
   "metadata": {
    "colab_type": "text",
    "id": "2tBE_Itjz9ix"
   },
   "source": [
    "## Lists Are Mutable"
   ]
  },
  {
   "cell_type": "markdown",
   "metadata": {
    "colab_type": "text",
    "id": "5Fsu8Y8B0CrJ"
   },
   "source": [
    "\n",
    "\n",
    "\n",
    "*   Modifying a Single List Value\n",
    "\n",
    "\n",
    "\n"
   ]
  },
  {
   "cell_type": "code",
   "execution_count": 54,
   "metadata": {
    "colab": {
     "base_uri": "https://localhost:8080/",
     "height": 34
    },
    "colab_type": "code",
    "id": "TweZPOiMzw_Y",
    "outputId": "d14167aa-a72c-4911-f7eb-17aefae1a601"
   },
   "outputs": [
    {
     "data": {
      "text/plain": [
       "['foo', 'bar', 'x', 'qux', 10, 'corge']"
      ]
     },
     "execution_count": 54,
     "metadata": {},
     "output_type": "execute_result"
    }
   ],
   "source": [
    "a = ['foo', 'bar', 'baz', 'qux', 'quux', 'corge']\n",
    "a[2] = 'x'\n",
    "a[-2] = 10\n",
    "a"
   ]
  },
  {
   "cell_type": "markdown",
   "metadata": {
    "colab_type": "text",
    "id": "EmVJZ33d0Zq6"
   },
   "source": [
    "\n",
    "\n",
    "> A list item can be deleted with the del command\n",
    "\n"
   ]
  },
  {
   "cell_type": "code",
   "execution_count": 70,
   "metadata": {
    "colab": {},
    "colab_type": "code",
    "id": "lrYsLN77z8Dx"
   },
   "outputs": [],
   "source": [
    "a = ['foo', 'bar', 'baz', 'qux', 'quux', 'corge']"
   ]
  },
  {
   "cell_type": "code",
   "execution_count": 71,
   "metadata": {
    "colab": {},
    "colab_type": "code",
    "id": "4_bCQfwe0eZK"
   },
   "outputs": [],
   "source": [
    "del a[5]"
   ]
  },
  {
   "cell_type": "code",
   "execution_count": 72,
   "metadata": {
    "colab": {
     "base_uri": "https://localhost:8080/",
     "height": 34
    },
    "colab_type": "code",
    "id": "kHO958TT0g1w",
    "outputId": "9e50c765-2a20-429d-84ff-a8c7257131c9"
   },
   "outputs": [
    {
     "data": {
      "text/plain": [
       "['foo', 'bar', 'baz', 'qux', 'quux']"
      ]
     },
     "execution_count": 72,
     "metadata": {},
     "output_type": "execute_result"
    }
   ],
   "source": [
    "a"
   ]
  },
  {
   "cell_type": "code",
   "execution_count": 74,
   "metadata": {},
   "outputs": [
    {
     "data": {
      "text/plain": [
       "'3.7.7 (default, Apr 15 2020, 05:09:04) [MSC v.1916 64 bit (AMD64)]'"
      ]
     },
     "execution_count": 74,
     "metadata": {},
     "output_type": "execute_result"
    }
   ],
   "source": [
    "import sys\n",
    "sys.version"
   ]
  },
  {
   "cell_type": "markdown",
   "metadata": {
    "colab_type": "text",
    "id": "H45k8L3E0rYZ"
   },
   "source": [
    "\n",
    "\n",
    "*   Modifying Multiple List Values\n",
    "\n",
    "\n",
    "\n",
    "> a[m:n] = \\<iterable\\>\n",
    "\n",
    "\n",
    "\n"
   ]
  },
  {
   "cell_type": "code",
   "execution_count": 69,
   "metadata": {
    "colab": {
     "base_uri": "https://localhost:8080/",
     "height": 51
    },
    "colab_type": "code",
    "id": "Xcd_SOTO0hqH",
    "outputId": "7fc10516-9ffa-4fd4-8dc7-ca55fad251b2"
   },
   "outputs": [
    {
     "name": "stdout",
     "output_type": "stream",
     "text": [
      "['bar', 'baz', 'qux']\n",
      "['foo', 0.5, 0.1, 55, 33, 231, 1213, 'quux', 'corge']\n"
     ]
    }
   ],
   "source": [
    "a = ['foo', 'bar', 'baz', 'qux', 'quux', 'corge']\n",
    "print(a[1:4])\n",
    "a[1:4] = [0.5, 0.1, 55, 33, 231, 1213]\n",
    "print(a)"
   ]
  },
  {
   "cell_type": "code",
   "execution_count": 10,
   "metadata": {
    "colab": {},
    "colab_type": "code",
    "id": "Yvacvodw1O1a"
   },
   "outputs": [],
   "source": [
    "a[1:6] = 'empty'"
   ]
  },
  {
   "cell_type": "code",
   "execution_count": 11,
   "metadata": {
    "colab": {
     "base_uri": "https://localhost:8080/",
     "height": 34
    },
    "colab_type": "code",
    "id": "Xialkbsg1WvZ",
    "outputId": "fb4cfaeb-3061-4082-d18d-acb513500515"
   },
   "outputs": [
    {
     "data": {
      "text/plain": [
       "['foo', 'e', 'm', 'p', 't', 'y']"
      ]
     },
     "execution_count": 11,
     "metadata": {},
     "output_type": "execute_result"
    }
   ],
   "source": [
    "a"
   ]
  },
  {
   "cell_type": "code",
   "execution_count": null,
   "metadata": {
    "colab": {},
    "colab_type": "code",
    "id": "jYa_8h6H1YEQ"
   },
   "outputs": [],
   "source": [
    "a[1:6] = ['empty']"
   ]
  },
  {
   "cell_type": "code",
   "execution_count": null,
   "metadata": {
    "colab": {
     "base_uri": "https://localhost:8080/",
     "height": 34
    },
    "colab_type": "code",
    "id": "vVxcS7ZT1kyg",
    "outputId": "a06ad729-7ffb-48b0-fbd0-10416cedf939"
   },
   "outputs": [],
   "source": [
    "a"
   ]
  },
  {
   "cell_type": "markdown",
   "metadata": {
    "colab_type": "text",
    "id": "_0B2gUqF37dX"
   },
   "source": [
    "## Methods That Modify a List"
   ]
  },
  {
   "cell_type": "markdown",
   "metadata": {
    "colab_type": "text",
    "id": "JonINfuQ3_UC"
   },
   "source": [
    "\n",
    "\n",
    "### a.append(\\<obj>)\n",
    "\n",
    "\n",
    "\n",
    "\n"
   ]
  },
  {
   "cell_type": "code",
   "execution_count": 12,
   "metadata": {
    "colab": {
     "base_uri": "https://localhost:8080/",
     "height": 34
    },
    "colab_type": "code",
    "id": "1A4R4qBO1lRB",
    "outputId": "08b2a5fa-0705-41f3-a35b-32cadcbdb4b6"
   },
   "outputs": [
    {
     "data": {
      "text/plain": [
       "['a', 'b', 123]"
      ]
     },
     "execution_count": 12,
     "metadata": {},
     "output_type": "execute_result"
    }
   ],
   "source": [
    "a = ['a', 'b']\n",
    "a.append(123)\n",
    "a"
   ]
  },
  {
   "cell_type": "markdown",
   "metadata": {
    "colab_type": "text",
    "id": "tZaVX3mO4pZ7"
   },
   "source": []
  },
  {
   "cell_type": "code",
   "execution_count": null,
   "metadata": {
    "colab": {
     "base_uri": "https://localhost:8080/",
     "height": 34
    },
    "colab_type": "code",
    "id": "alstSNC74IIY",
    "outputId": "01926be3-0ccd-4000-f903-cf02c6e0f467"
   },
   "outputs": [],
   "source": [
    "a = ['a', 'b']\n",
    "a + [1, 2, 3]\n",
    "a"
   ]
  },
  {
   "cell_type": "markdown",
   "metadata": {
    "colab_type": "text",
    "id": "cI4q2sjj4xgg"
   },
   "source": [
    "\n",
    "\n",
    "### a.extend(\\<iterable>)\n",
    "\n"
   ]
  },
  {
   "cell_type": "code",
   "execution_count": null,
   "metadata": {
    "colab": {},
    "colab_type": "code",
    "id": "VzrbO9qi5C6u"
   },
   "outputs": [],
   "source": []
  },
  {
   "cell_type": "code",
   "execution_count": 13,
   "metadata": {
    "colab": {
     "base_uri": "https://localhost:8080/",
     "height": 34
    },
    "colab_type": "code",
    "id": "rM2G29Hx4vcg",
    "outputId": "aa7e6901-7332-4996-e812-6515e75585d2"
   },
   "outputs": [
    {
     "data": {
      "text/plain": [
       "['a', 'b', 1, 2, 3]"
      ]
     },
     "execution_count": 13,
     "metadata": {},
     "output_type": "execute_result"
    }
   ],
   "source": [
    "a = ['a', 'b']\n",
    "a.extend([1, 2, 3])\n",
    "a"
   ]
  },
  {
   "cell_type": "code",
   "execution_count": null,
   "metadata": {},
   "outputs": [],
   "source": []
  },
  {
   "cell_type": "code",
   "execution_count": 77,
   "metadata": {},
   "outputs": [
    {
     "data": {
      "text/plain": [
       "['a', 'b', 1, 2, 3, 1, 2, 3, 1, 2, 3]"
      ]
     },
     "execution_count": 77,
     "metadata": {},
     "output_type": "execute_result"
    }
   ],
   "source": [
    "a = a + [1, 2, 3]\n",
    "a"
   ]
  },
  {
   "cell_type": "code",
   "execution_count": null,
   "metadata": {
    "colab": {
     "base_uri": "https://localhost:8080/",
     "height": 34
    },
    "colab_type": "code",
    "id": "9r62YuQa4sK8",
    "outputId": "4b681911-16ae-406b-9682-9de74012c3d6"
   },
   "outputs": [],
   "source": [
    "a = ['a', 'b']\n",
    "a += [1, 2, 3] # a =  a + [1, 2, 3]\n",
    "a"
   ]
  },
  {
   "cell_type": "markdown",
   "metadata": {
    "colab_type": "text",
    "id": "vLB7vJxQ5JdN"
   },
   "source": [
    "\n",
    "\n",
    "### a.insert(\\<index>, \\<obj>)\n",
    "\n"
   ]
  },
  {
   "cell_type": "code",
   "execution_count": 78,
   "metadata": {
    "colab": {
     "base_uri": "https://localhost:8080/",
     "height": 34
    },
    "colab_type": "code",
    "id": "HyKpur585P1w",
    "outputId": "c94a0ab5-c59a-4dfd-8f7c-b7f831904838"
   },
   "outputs": [
    {
     "data": {
      "text/plain": [
       "['foo', 'bar', 'baz', 3.14159, 'qux', 'quux', 'corge']"
      ]
     },
     "execution_count": 78,
     "metadata": {},
     "output_type": "execute_result"
    }
   ],
   "source": [
    "a = ['foo', 'bar', 'baz', 'qux', 'quux', 'corge']\n",
    "a.insert(3, 3.14159)\n",
    "a"
   ]
  },
  {
   "cell_type": "code",
   "execution_count": 14,
   "metadata": {},
   "outputs": [
    {
     "data": {
      "text/plain": [
       "['foo', 'bar', 'baz', 3.14159, 'qux', 'quux', 'corge']"
      ]
     },
     "execution_count": 14,
     "metadata": {},
     "output_type": "execute_result"
    }
   ],
   "source": [
    "a = ['foo', 'bar', 'baz', 'qux', 'quux', 'corge']\n",
    "a.insert(3, 3.14159)\n",
    "a"
   ]
  },
  {
   "cell_type": "markdown",
   "metadata": {
    "colab_type": "text",
    "id": "4wxll3Pe5x7i"
   },
   "source": [
    "### a.remove(\\<obj>)"
   ]
  },
  {
   "cell_type": "code",
   "execution_count": 15,
   "metadata": {
    "colab": {
     "base_uri": "https://localhost:8080/",
     "height": 34
    },
    "colab_type": "code",
    "id": "_2xRd3T35VjI",
    "outputId": "e6c7da9e-c727-495f-e8e5-5781ef33b403"
   },
   "outputs": [
    {
     "data": {
      "text/plain": [
       "['foo', 'bar', 'qux', 'quux', 'corge']"
      ]
     },
     "execution_count": 15,
     "metadata": {},
     "output_type": "execute_result"
    }
   ],
   "source": [
    "a = ['foo', 'bar', 'baz', 'qux', 'quux', 'corge']\n",
    "a.remove('baz')\n",
    "a"
   ]
  },
  {
   "cell_type": "markdown",
   "metadata": {
    "colab_type": "text",
    "id": "atci7-l86GNM"
   },
   "source": [
    "### a.pop(index=-1)"
   ]
  },
  {
   "cell_type": "code",
   "execution_count": 20,
   "metadata": {
    "colab": {
     "base_uri": "https://localhost:8080/",
     "height": 51
    },
    "colab_type": "code",
    "id": "5ql51WJq58AU",
    "outputId": "a7b927ab-3a91-4534-c6b8-818aff554cf9"
   },
   "outputs": [
    {
     "name": "stdout",
     "output_type": "stream",
     "text": [
      "corge\n",
      "['foo', 'bar', 'baz', 'qux', 'quux']\n"
     ]
    }
   ],
   "source": [
    "a = ['foo', 'bar', 'baz', 'qux', 'quux', 'corge']\n",
    "print(a.pop())\n",
    "print(a)"
   ]
  },
  {
   "cell_type": "code",
   "execution_count": 26,
   "metadata": {
    "colab": {
     "base_uri": "https://localhost:8080/",
     "height": 35
    },
    "colab_type": "code",
    "id": "LEimRS0v6MVp",
    "outputId": "3864fe8c-2bf3-4757-f22e-8613f9d9d596"
   },
   "outputs": [
    {
     "data": {
      "text/plain": [
       "'quux'"
      ]
     },
     "execution_count": 26,
     "metadata": {},
     "output_type": "execute_result"
    }
   ],
   "source": [
    "a.pop(1)\n"
   ]
  },
  {
   "cell_type": "code",
   "execution_count": 23,
   "metadata": {},
   "outputs": [
    {
     "data": {
      "text/plain": [
       "['foo', 'qux', 'quux']"
      ]
     },
     "execution_count": 23,
     "metadata": {},
     "output_type": "execute_result"
    }
   ],
   "source": [
    "a"
   ]
  },
  {
   "cell_type": "code",
   "execution_count": 30,
   "metadata": {
    "colab": {
     "base_uri": "https://localhost:8080/",
     "height": 35
    },
    "colab_type": "code",
    "id": "qJUIAlj56O4Y",
    "outputId": "76925428-886d-4464-a70a-92be63812aee"
   },
   "outputs": [
    {
     "ename": "IndexError",
     "evalue": "pop from empty list",
     "output_type": "error",
     "traceback": [
      "\u001b[0;31m---------------------------------------------------------------------------\u001b[0m",
      "\u001b[0;31mIndexError\u001b[0m                                Traceback (most recent call last)",
      "\u001b[0;32m<ipython-input-30-57a9ed364e4c>\u001b[0m in \u001b[0;36m<module>\u001b[0;34m\u001b[0m\n\u001b[0;32m----> 1\u001b[0;31m \u001b[0ma\u001b[0m\u001b[0;34m.\u001b[0m\u001b[0mpop\u001b[0m\u001b[0;34m(\u001b[0m\u001b[0;34m-\u001b[0m\u001b[0;36m3\u001b[0m\u001b[0;34m)\u001b[0m\u001b[0;34m\u001b[0m\u001b[0;34m\u001b[0m\u001b[0m\n\u001b[0m",
      "\u001b[0;31mIndexError\u001b[0m: pop from empty list"
     ]
    }
   ],
   "source": [
    "a.pop(-3)"
   ]
  },
  {
   "cell_type": "code",
   "execution_count": null,
   "metadata": {
    "colab": {},
    "colab_type": "code",
    "id": "uR29awUX6YMA"
   },
   "outputs": [],
   "source": []
  },
  {
   "cell_type": "markdown",
   "metadata": {
    "colab_type": "text",
    "id": "zQMNMqKb7EFM"
   },
   "source": [
    "# Tuples"
   ]
  },
  {
   "cell_type": "markdown",
   "metadata": {
    "colab_type": "text",
    "id": "Dv3G83TP-NjF"
   },
   "source": [
    "## Defining and Using Tuples"
   ]
  },
  {
   "cell_type": "code",
   "execution_count": 109,
   "metadata": {
    "colab": {},
    "colab_type": "code",
    "id": "caUxlqd3-GDc"
   },
   "outputs": [],
   "source": [
    "t = ('foo', 'bar', 'baz', 'qux', 'quux', 'corge')"
   ]
  },
  {
   "cell_type": "code",
   "execution_count": 98,
   "metadata": {},
   "outputs": [
    {
     "data": {
      "text/plain": [
       "tuple"
      ]
     },
     "execution_count": 98,
     "metadata": {},
     "output_type": "execute_result"
    }
   ],
   "source": [
    "t = ()\n",
    "type(t)"
   ]
  },
  {
   "cell_type": "code",
   "execution_count": 103,
   "metadata": {
    "colab": {
     "base_uri": "https://localhost:8080/",
     "height": 34
    },
    "colab_type": "code",
    "id": "cqaaUVFS-Ifp",
    "outputId": "5ae79661-8cb7-426f-9c47-08808fda53b5"
   },
   "outputs": [
    {
     "data": {
      "text/plain": [
       "tuple"
      ]
     },
     "execution_count": 103,
     "metadata": {},
     "output_type": "execute_result"
    }
   ],
   "source": [
    "type(t)"
   ]
  },
  {
   "cell_type": "code",
   "execution_count": 112,
   "metadata": {
    "colab": {
     "base_uri": "https://localhost:8080/",
     "height": 35
    },
    "colab_type": "code",
    "id": "-xk6RvW4-JyZ",
    "outputId": "9dde95d5-490d-496c-b688-0af918e51cb6"
   },
   "outputs": [
    {
     "data": {
      "text/plain": [
       "list"
      ]
     },
     "execution_count": 112,
     "metadata": {},
     "output_type": "execute_result"
    }
   ],
   "source": [
    "t = list(t)\n",
    "type(t)"
   ]
  },
  {
   "cell_type": "code",
   "execution_count": null,
   "metadata": {
    "colab": {
     "base_uri": "https://localhost:8080/",
     "height": 34
    },
    "colab_type": "code",
    "id": "IxL6dOCt-Urp",
    "outputId": "b940fae2-14bc-47e8-a57a-5e101ece1f42"
   },
   "outputs": [],
   "source": [
    "t[::-1]"
   ]
  },
  {
   "cell_type": "markdown",
   "metadata": {
    "colab_type": "text",
    "id": "1zNToivs-b1z"
   },
   "source": [
    "\n",
    "\n",
    "> Tuples are immutable.\n",
    "\n"
   ]
  },
  {
   "cell_type": "code",
   "execution_count": null,
   "metadata": {
    "colab": {
     "base_uri": "https://localhost:8080/",
     "height": 163
    },
    "colab_type": "code",
    "id": "dbZriyFM-WWA",
    "outputId": "c30104c9-ac1d-4d48-cc95-e829a1988dea"
   },
   "outputs": [],
   "source": [
    "t[2] = 'Bark!'"
   ]
  },
  {
   "cell_type": "markdown",
   "metadata": {
    "colab_type": "text",
    "id": "M4FEGxGE-pIk"
   },
   "source": [
    "\n",
    "\n",
    "> What happens when you try to define a tuple with one item\n",
    "\n"
   ]
  },
  {
   "cell_type": "code",
   "execution_count": 113,
   "metadata": {
    "colab": {
     "base_uri": "https://localhost:8080/",
     "height": 34
    },
    "colab_type": "code",
    "id": "w7I3vScQ-fHL",
    "outputId": "d74675e0-bb54-4cad-f262-47d9371bf704"
   },
   "outputs": [
    {
     "data": {
      "text/plain": [
       "int"
      ]
     },
     "execution_count": 113,
     "metadata": {},
     "output_type": "execute_result"
    }
   ],
   "source": [
    "t = (234)\n",
    "type(t)"
   ]
  },
  {
   "cell_type": "code",
   "execution_count": 114,
   "metadata": {
    "colab": {
     "base_uri": "https://localhost:8080/",
     "height": 34
    },
    "colab_type": "code",
    "id": "fEh1uu_L-t7x",
    "outputId": "5619d015-985b-4867-a464-bf6b33a49004"
   },
   "outputs": [
    {
     "data": {
      "text/plain": [
       "tuple"
      ]
     },
     "execution_count": 114,
     "metadata": {},
     "output_type": "execute_result"
    }
   ],
   "source": [
    "t = (234, )\n",
    "type(t)"
   ]
  },
  {
   "cell_type": "markdown",
   "metadata": {
    "colab_type": "text",
    "id": "YhfCWgcD_M4l"
   },
   "source": [
    "## Tuple Assignment, Packing, and Unpacking"
   ]
  },
  {
   "cell_type": "markdown",
   "metadata": {
    "colab_type": "text",
    "id": "E6g5tbLd_QjO"
   },
   "source": [
    "\n",
    "\n",
    "*   Tuple Packing\n",
    "\n"
   ]
  },
  {
   "cell_type": "code",
   "execution_count": 115,
   "metadata": {
    "colab": {},
    "colab_type": "code",
    "id": "eURa1eAI-x45"
   },
   "outputs": [],
   "source": [
    "t = ('foo', 'bar', 'baz', 'qux')"
   ]
  },
  {
   "cell_type": "markdown",
   "metadata": {
    "colab_type": "text",
    "id": "qFJUqQiE_jXe"
   },
   "source": [
    "\n",
    "\n",
    "*   Tuple Unpacking\n",
    "\n"
   ]
  },
  {
   "cell_type": "code",
   "execution_count": 120,
   "metadata": {
    "colab": {},
    "colab_type": "code",
    "id": "Ggh0pJYG_WGR"
   },
   "outputs": [],
   "source": [
    "(s1, s2, s3, s4) = t"
   ]
  },
  {
   "cell_type": "code",
   "execution_count": 118,
   "metadata": {
    "colab": {
     "base_uri": "https://localhost:8080/",
     "height": 35
    },
    "colab_type": "code",
    "id": "0MRoRjfE_pRB",
    "outputId": "20e52b8a-865b-4d09-e535-56621cc0ecc8"
   },
   "outputs": [
    {
     "data": {
      "text/plain": [
       "'foo'"
      ]
     },
     "execution_count": 118,
     "metadata": {},
     "output_type": "execute_result"
    }
   ],
   "source": [
    "s1"
   ]
  },
  {
   "cell_type": "markdown",
   "metadata": {
    "colab_type": "text",
    "id": "1WKJnlPgCxew"
   },
   "source": [
    "# Dictionary"
   ]
  },
  {
   "cell_type": "markdown",
   "metadata": {
    "colab_type": "text",
    "id": "lXbkcJIqEXyG"
   },
   "source": [
    "## Defining a Dictionary"
   ]
  },
  {
   "cell_type": "code",
   "execution_count": null,
   "metadata": {
    "colab": {
     "base_uri": "https://localhost:8080/",
     "height": 52
    },
    "colab_type": "code",
    "id": "adxmGsQVCzKN",
    "outputId": "03b918f3-49b1-4899-8e82-eb731edb3804"
   },
   "outputs": [],
   "source": [
    "'''\n",
    "d = {\n",
    "    <key>: <value>,\n",
    "    <key>: <value>,\n",
    "      .\n",
    "      .\n",
    "      .\n",
    "    <key>: <value>\n",
    "}\n",
    "'''"
   ]
  },
  {
   "cell_type": "code",
   "execution_count": 31,
   "metadata": {
    "colab": {},
    "colab_type": "code",
    "id": "A4zFxG-fE2Fh"
   },
   "outputs": [],
   "source": [
    "thisdict = {\n",
    "  \"brand\": \"Ford\",\n",
    "  \"model\": \"Mustang\",\n",
    "  \"year\": 1964\n",
    "}"
   ]
  },
  {
   "cell_type": "code",
   "execution_count": 32,
   "metadata": {
    "colab": {},
    "colab_type": "code",
    "id": "xxYJmdObFBGq"
   },
   "outputs": [
    {
     "data": {
      "text/plain": [
       "'\\nd = dict([\\n    (<key>, <value>),\\n    (<key>, <value),\\n      .\\n      .\\n      .\\n    (<key>, <value>)\\n])\\n'"
      ]
     },
     "execution_count": 32,
     "metadata": {},
     "output_type": "execute_result"
    }
   ],
   "source": [
    "'''\n",
    "d = dict([\n",
    "    (<key>, <value>),\n",
    "    (<key>, <value),\n",
    "      .\n",
    "      .\n",
    "      .\n",
    "    (<key>, <value>)\n",
    "])\n",
    "'''"
   ]
  },
  {
   "cell_type": "code",
   "execution_count": 133,
   "metadata": {
    "colab": {},
    "colab_type": "code",
    "id": "caU2ZMEiFPwI"
   },
   "outputs": [],
   "source": [
    "thisdict = dict([(\"brand\", \"Ford\"),\n",
    "  (\"model\", \"Mustang\"),\n",
    "  (\"year\", 1964)])"
   ]
  },
  {
   "cell_type": "code",
   "execution_count": 33,
   "metadata": {},
   "outputs": [],
   "source": [
    "d = [(\"brand\", \"Ford\"),\n",
    "  (\"model\", \"Mustang\"),\n",
    "  (\"year\", 1964)]"
   ]
  },
  {
   "cell_type": "code",
   "execution_count": 34,
   "metadata": {},
   "outputs": [
    {
     "data": {
      "text/plain": [
       "('brand', 'Ford')"
      ]
     },
     "execution_count": 34,
     "metadata": {},
     "output_type": "execute_result"
    }
   ],
   "source": [
    "d[0]"
   ]
  },
  {
   "cell_type": "code",
   "execution_count": 35,
   "metadata": {},
   "outputs": [
    {
     "data": {
      "text/plain": [
       "dict"
      ]
     },
     "execution_count": 35,
     "metadata": {},
     "output_type": "execute_result"
    }
   ],
   "source": [
    "thisdict = dict()\n",
    "type(thisdict)"
   ]
  },
  {
   "cell_type": "code",
   "execution_count": 36,
   "metadata": {
    "colab": {
     "base_uri": "https://localhost:8080/",
     "height": 34
    },
    "colab_type": "code",
    "id": "HwME_8jnFbpR",
    "outputId": "badfaf8c-f118-44ea-c102-b17243bff6fb"
   },
   "outputs": [
    {
     "data": {
      "text/plain": [
       "{}"
      ]
     },
     "execution_count": 36,
     "metadata": {},
     "output_type": "execute_result"
    }
   ],
   "source": [
    "thisdict"
   ]
  },
  {
   "cell_type": "markdown",
   "metadata": {
    "colab_type": "text",
    "id": "EcEjGzu6Q8hl"
   },
   "source": [
    "## Accessing Dictionary Values"
   ]
  },
  {
   "cell_type": "code",
   "execution_count": 135,
   "metadata": {
    "colab": {
     "base_uri": "https://localhost:8080/",
     "height": 35
    },
    "colab_type": "code",
    "id": "UhDxz6wWFdAi",
    "outputId": "6fc08e52-c396-44b7-e327-9a9a429e20b8"
   },
   "outputs": [
    {
     "data": {
      "text/plain": [
       "1964"
      ]
     },
     "execution_count": 135,
     "metadata": {},
     "output_type": "execute_result"
    }
   ],
   "source": [
    "thisdict['year']"
   ]
  },
  {
   "cell_type": "code",
   "execution_count": 137,
   "metadata": {},
   "outputs": [
    {
     "data": {
      "text/plain": [
       "{0: 'a', 1: 'b', 2: 'c'}"
      ]
     },
     "execution_count": 137,
     "metadata": {},
     "output_type": "execute_result"
    }
   ],
   "source": [
    "list_ = ['a', 'b', 'c']\n",
    "dict(enumerate(list_))"
   ]
  },
  {
   "cell_type": "code",
   "execution_count": 138,
   "metadata": {},
   "outputs": [
    {
     "name": "stdout",
     "output_type": "stream",
     "text": [
      "0 a\n",
      "1 b\n",
      "2 c\n"
     ]
    }
   ],
   "source": [
    "for i, element in enumerate(list_):\n",
    "    print(i, element)"
   ]
  },
  {
   "cell_type": "code",
   "execution_count": null,
   "metadata": {
    "colab": {
     "base_uri": "https://localhost:8080/",
     "height": 34
    },
    "colab_type": "code",
    "id": "4XIFp1mgRBi7",
    "outputId": "18b1dba6-5837-4678-ae0b-6b023887fe87"
   },
   "outputs": [],
   "source": [
    "person = {}\n",
    "print(type(person))\n",
    "# <class 'dict'>\n",
    "\n",
    "person['fname'] = 'Joe'\n",
    "person['lname'] = 'Fonebone'\n",
    "person['age'] = 51\n",
    "person['spouse'] = 'Edna'\n",
    "person['children'] = ['Ralph', 'Betty', 'Joey']\n",
    "person['pets'] = {'dog': 'Fido', 'cat': 'Sox'}"
   ]
  },
  {
   "cell_type": "markdown",
   "metadata": {
    "colab_type": "text",
    "id": "WEZLwxX6TQY2"
   },
   "source": [
    "## Operators and Built-in Functions"
   ]
  },
  {
   "cell_type": "code",
   "execution_count": 139,
   "metadata": {
    "colab": {
     "base_uri": "https://localhost:8080/",
     "height": 51
    },
    "colab_type": "code",
    "id": "XW0cCqY7TPiy",
    "outputId": "bcfcc12f-7976-45d9-b6a7-b9dca22ceea2"
   },
   "outputs": [
    {
     "name": "stdout",
     "output_type": "stream",
     "text": [
      "True\n",
      "False\n"
     ]
    }
   ],
   "source": [
    "thisdict = {\n",
    "  \"brand\": \"Ford\",\n",
    "  \"model\": \"Mustang\",\n",
    "  \"year\": 1964\n",
    "}\n",
    "print('brand' in thisdict)\n",
    "print('uuu' in thisdict)\n"
   ]
  },
  {
   "cell_type": "markdown",
   "metadata": {
    "colab_type": "text",
    "id": "TIsg5VnuT2rN"
   },
   "source": [
    "## Built-in Dictionary Methods"
   ]
  },
  {
   "cell_type": "markdown",
   "metadata": {
    "colab_type": "text",
    "id": "dINmWkfnT5Pm"
   },
   "source": [
    "### d.clear()"
   ]
  },
  {
   "cell_type": "code",
   "execution_count": 140,
   "metadata": {
    "colab": {},
    "colab_type": "code",
    "id": "NZMjk1BFTawJ"
   },
   "outputs": [],
   "source": [
    "d = {'a': 10, 'b': 20, 'c': 30}"
   ]
  },
  {
   "cell_type": "code",
   "execution_count": 37,
   "metadata": {
    "colab": {
     "base_uri": "https://localhost:8080/",
     "height": 34
    },
    "colab_type": "code",
    "id": "8vNw8iSOT9U1",
    "outputId": "15fe2a00-7820-4b1a-8754-10abfa9916c4"
   },
   "outputs": [
    {
     "data": {
      "text/plain": [
       "[]"
      ]
     },
     "execution_count": 37,
     "metadata": {},
     "output_type": "execute_result"
    }
   ],
   "source": [
    "d.clear()\n",
    "d"
   ]
  },
  {
   "cell_type": "code",
   "execution_count": null,
   "metadata": {},
   "outputs": [],
   "source": []
  },
  {
   "cell_type": "markdown",
   "metadata": {
    "colab_type": "text",
    "id": "dcdfA2gJUDu0"
   },
   "source": [
    "### d.get(\\<key>[, \\<default>])"
   ]
  },
  {
   "cell_type": "code",
   "execution_count": 42,
   "metadata": {
    "colab": {
     "base_uri": "https://localhost:8080/",
     "height": 51
    },
    "colab_type": "code",
    "id": "RPomxgPBUAnC",
    "outputId": "0452082b-216e-4e1e-cde9-e4680a09db4f"
   },
   "outputs": [
    {
     "name": "stdout",
     "output_type": "stream",
     "text": [
      "10\n",
      "20\n"
     ]
    }
   ],
   "source": [
    "d = {'a': 10, 'b': 20, 'c': 30}\n",
    "\n",
    "print(d.get('a'))\n",
    "print(d.get('b'))"
   ]
  },
  {
   "cell_type": "markdown",
   "metadata": {
    "colab_type": "text",
    "id": "I1E9-V3YURi3"
   },
   "source": [
    "With default value"
   ]
  },
  {
   "cell_type": "code",
   "execution_count": 43,
   "metadata": {
    "colab": {
     "base_uri": "https://localhost:8080/",
     "height": 34
    },
    "colab_type": "code",
    "id": "8NjuqfO7UMqT",
    "outputId": "6c3d0107-b812-4826-e582-85dc87936c35"
   },
   "outputs": [
    {
     "name": "stdout",
     "output_type": "stream",
     "text": [
      "-1\n"
     ]
    }
   ],
   "source": [
    "print(d.get('z', -1))"
   ]
  },
  {
   "cell_type": "code",
   "execution_count": 44,
   "metadata": {},
   "outputs": [
    {
     "data": {
      "text/plain": [
       "-1"
      ]
     },
     "execution_count": 44,
     "metadata": {},
     "output_type": "execute_result"
    }
   ],
   "source": [
    "d.get('z', -1)"
   ]
  },
  {
   "cell_type": "code",
   "execution_count": 45,
   "metadata": {},
   "outputs": [
    {
     "data": {
      "text/plain": [
       "10"
      ]
     },
     "execution_count": 45,
     "metadata": {},
     "output_type": "execute_result"
    }
   ],
   "source": [
    "d['a']"
   ]
  },
  {
   "cell_type": "markdown",
   "metadata": {
    "colab_type": "text",
    "id": "nlsfUAkcUXUB"
   },
   "source": [
    "### d.items()"
   ]
  },
  {
   "cell_type": "code",
   "execution_count": 141,
   "metadata": {
    "colab": {
     "base_uri": "https://localhost:8080/",
     "height": 34
    },
    "colab_type": "code",
    "id": "CfpkWE8eUQzp",
    "outputId": "739f6417-883c-4fd2-a6c4-f07832b5e2e3"
   },
   "outputs": [
    {
     "data": {
      "text/plain": [
       "[('a', 10), ('b', 20), ('c', 30)]"
      ]
     },
     "execution_count": 141,
     "metadata": {},
     "output_type": "execute_result"
    }
   ],
   "source": [
    "list(d.items())"
   ]
  },
  {
   "cell_type": "code",
   "execution_count": 46,
   "metadata": {
    "colab": {
     "base_uri": "https://localhost:8080/",
     "height": 34
    },
    "colab_type": "code",
    "id": "hE-kKzBaUb6K",
    "outputId": "4d422d88-c3d0-40ad-8608-5ff3ea54afdb"
   },
   "outputs": [
    {
     "data": {
      "text/plain": [
       "20"
      ]
     },
     "execution_count": 46,
     "metadata": {},
     "output_type": "execute_result"
    }
   ],
   "source": [
    "list(d.items())[1][1]"
   ]
  },
  {
   "cell_type": "markdown",
   "metadata": {
    "colab_type": "text",
    "id": "JlkziY4LUhxN"
   },
   "source": [
    "### d.keys()"
   ]
  },
  {
   "cell_type": "code",
   "execution_count": 47,
   "metadata": {
    "colab": {
     "base_uri": "https://localhost:8080/",
     "height": 34
    },
    "colab_type": "code",
    "id": "QGlB7mc0UgZ6",
    "outputId": "a09a7abe-c130-4f7e-e500-1ece32a94630"
   },
   "outputs": [
    {
     "data": {
      "text/plain": [
       "['a', 'b', 'c']"
      ]
     },
     "execution_count": 47,
     "metadata": {},
     "output_type": "execute_result"
    }
   ],
   "source": [
    "list(d.keys())"
   ]
  },
  {
   "cell_type": "markdown",
   "metadata": {
    "colab_type": "text",
    "id": "ps59b0xCUpmJ"
   },
   "source": [
    "### d.values()"
   ]
  },
  {
   "cell_type": "code",
   "execution_count": 48,
   "metadata": {
    "colab": {
     "base_uri": "https://localhost:8080/",
     "height": 34
    },
    "colab_type": "code",
    "id": "EGml7LzKUlyL",
    "outputId": "1ea1f4d8-af28-403d-c3a5-f42c460b12bc"
   },
   "outputs": [
    {
     "data": {
      "text/plain": [
       "[10, 20, 30]"
      ]
     },
     "execution_count": 48,
     "metadata": {},
     "output_type": "execute_result"
    }
   ],
   "source": [
    "list(d.values())"
   ]
  },
  {
   "cell_type": "code",
   "execution_count": 49,
   "metadata": {
    "colab": {
     "base_uri": "https://localhost:8080/",
     "height": 34
    },
    "colab_type": "code",
    "id": "_szlIgR0Ushz",
    "outputId": "c459cf74-c30e-4748-ec55-a6803bcb71ec"
   },
   "outputs": [
    {
     "data": {
      "text/plain": [
       "dict_values"
      ]
     },
     "execution_count": 49,
     "metadata": {},
     "output_type": "execute_result"
    }
   ],
   "source": [
    "type(d.values())"
   ]
  },
  {
   "cell_type": "markdown",
   "metadata": {
    "colab_type": "text",
    "id": "LkTZK_pJUzj1"
   },
   "source": [
    "### d.pop(\\<key>[, \\<default>])"
   ]
  },
  {
   "cell_type": "code",
   "execution_count": 50,
   "metadata": {
    "colab": {
     "base_uri": "https://localhost:8080/",
     "height": 34
    },
    "colab_type": "code",
    "id": "YVijOJGIUun6",
    "outputId": "77e5ef40-26c3-4f06-97fd-d2bbda0c568e"
   },
   "outputs": [
    {
     "data": {
      "text/plain": [
       "20"
      ]
     },
     "execution_count": 50,
     "metadata": {},
     "output_type": "execute_result"
    }
   ],
   "source": [
    "d.pop('b')"
   ]
  },
  {
   "cell_type": "code",
   "execution_count": 51,
   "metadata": {
    "colab": {
     "base_uri": "https://localhost:8080/",
     "height": 34
    },
    "colab_type": "code",
    "id": "-TIhTxKVU3XK",
    "outputId": "5a393b0b-7e8f-45ed-cb51-d4cfa8526bf3"
   },
   "outputs": [
    {
     "data": {
      "text/plain": [
       "{'a': 10, 'c': 30}"
      ]
     },
     "execution_count": 51,
     "metadata": {},
     "output_type": "execute_result"
    }
   ],
   "source": [
    "d"
   ]
  },
  {
   "cell_type": "markdown",
   "metadata": {
    "colab_type": "text",
    "id": "Tr14LVJcU9C4"
   },
   "source": [
    "### d.popitem()"
   ]
  },
  {
   "cell_type": "code",
   "execution_count": 52,
   "metadata": {
    "colab": {
     "base_uri": "https://localhost:8080/",
     "height": 34
    },
    "colab_type": "code",
    "id": "cLfzqd1HU4Wk",
    "outputId": "8efde18b-658c-4fa4-8894-5e087b3e31a5"
   },
   "outputs": [
    {
     "data": {
      "text/plain": [
       "('c', 30)"
      ]
     },
     "execution_count": 52,
     "metadata": {},
     "output_type": "execute_result"
    }
   ],
   "source": [
    "d.popitem()"
   ]
  },
  {
   "cell_type": "code",
   "execution_count": 53,
   "metadata": {},
   "outputs": [
    {
     "data": {
      "text/plain": [
       "{'a': 10}"
      ]
     },
     "execution_count": 53,
     "metadata": {},
     "output_type": "execute_result"
    }
   ],
   "source": [
    "d"
   ]
  },
  {
   "cell_type": "markdown",
   "metadata": {
    "colab_type": "text",
    "id": "6txyPTEqVGTv"
   },
   "source": [
    "### d.update(\\<obj>)"
   ]
  },
  {
   "cell_type": "markdown",
   "metadata": {
    "colab_type": "text",
    "id": "LBDDdcmPVPcO"
   },
   "source": [
    "\n",
    "\n",
    "> If <obj> is a dictionary, d.update(<obj>) merges the entries from <obj> into d. For each key in <obj>:\n",
    "\n",
    "* If the key is not present in d, the key-value pair from <obj> is added to d.\n",
    "* If the key is already present in d, the corresponding value in d for that key is updated to the value from <obj>.\n",
    "\n"
   ]
  },
  {
   "cell_type": "code",
   "execution_count": 54,
   "metadata": {
    "colab": {
     "base_uri": "https://localhost:8080/",
     "height": 34
    },
    "colab_type": "code",
    "id": "NlAHdr9SU_Zi",
    "outputId": "d904a75f-8c68-48f2-9cb1-05cd0de9da1b"
   },
   "outputs": [
    {
     "data": {
      "text/plain": [
       "{'a': 10, 'b': 200, 'c': 30, 'd': 400}"
      ]
     },
     "execution_count": 54,
     "metadata": {},
     "output_type": "execute_result"
    }
   ],
   "source": [
    "d1 = {'a': 10, 'b': 20, 'c': 30}\n",
    "d2 = {'b': 200, 'd': 400}\n",
    "d1.update(d2)\n",
    "d1"
   ]
  },
  {
   "cell_type": "code",
   "execution_count": null,
   "metadata": {
    "colab": {},
    "colab_type": "code",
    "id": "klN8BFhfVbws"
   },
   "outputs": [],
   "source": [
    "d1.update([('b', 200), ('d', 400)])"
   ]
  },
  {
   "cell_type": "code",
   "execution_count": null,
   "metadata": {
    "colab": {
     "base_uri": "https://localhost:8080/",
     "height": 34
    },
    "colab_type": "code",
    "id": "G63I334fVmas",
    "outputId": "fe9d6b10-06d4-465d-9be4-752d3e43a42f"
   },
   "outputs": [],
   "source": [
    "d1"
   ]
  },
  {
   "cell_type": "code",
   "execution_count": null,
   "metadata": {
    "colab": {},
    "colab_type": "code",
    "id": "qBO5M4BJVnFi"
   },
   "outputs": [],
   "source": []
  }
 ],
 "metadata": {
  "colab": {
   "collapsed_sections": [
    "rhUFuEwBxuJW",
    "JonINfuQ3_UC",
    "cI4q2sjj4xgg",
    "vLB7vJxQ5JdN",
    "4wxll3Pe5x7i",
    "atci7-l86GNM"
   ],
   "name": "Session2_Basic concepts 2",
   "provenance": [],
   "toc_visible": true
  },
  "kernelspec": {
   "display_name": "Python 3 (ipykernel)",
   "language": "python",
   "name": "python3"
  },
  "language_info": {
   "codemirror_mode": {
    "name": "ipython",
    "version": 3
   },
   "file_extension": ".py",
   "mimetype": "text/x-python",
   "name": "python",
   "nbconvert_exporter": "python",
   "pygments_lexer": "ipython3",
   "version": "3.9.7"
  }
 },
 "nbformat": 4,
 "nbformat_minor": 4
}
