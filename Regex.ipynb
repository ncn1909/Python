{
 "cells": [
  {
   "cell_type": "markdown",
   "metadata": {
    "colab_type": "text",
    "id": "ioGKwNSH4eHG"
   },
   "source": [
    "<h1 align=\"center\">Python regular expression</h1>"
   ]
  },
  {
   "cell_type": "markdown",
   "metadata": {
    "colab_type": "text",
    "id": "u6paaX104eHI"
   },
   "source": [
    "<center><img src=\"https://learnbyexample.github.io/images/books/pyregex_example.png\" alt=\"Regex example\" /></center>"
   ]
  },
  {
   "cell_type": "markdown",
   "metadata": {
    "colab_type": "text",
    "id": "A03BPcRq4eHJ"
   },
   "source": [
    "# <center>re module functions</center>"
   ]
  },
  {
   "cell_type": "code",
   "execution_count": 3,
   "metadata": {
    "colab": {},
    "colab_type": "code",
    "id": "M3RcA6Am4eHK",
    "pycharm": {
     "is_executing": false
    }
   },
   "outputs": [],
   "source": [
    "import re"
   ]
  },
  {
   "cell_type": "markdown",
   "metadata": {
    "colab_type": "text",
    "id": "Mw6wthru4eHP"
   },
   "source": [
    "### The function definitions are given below:"
   ]
  },
  {
   "cell_type": "markdown",
   "metadata": {
    "colab_type": "text",
    "id": "ADqaATAI4eHQ"
   },
   "source": [
    "- re.search(pattern, string, flags=0)\n",
    "- re.compile(pattern, flags=0)\n",
    "- re.sub(pattern, repl, string, count=0, flags=0)\n",
    "- re.escape(pattern)\n",
    "- re.split(pattern, string, maxsplit=0, flags=0)\n",
    "- re.findall(pattern, string, flags=0)\n",
    "- re.finditer(pattern, string, flags=0)\n",
    "- re.subn(pattern, repl, string, count=0, flags=0)"
   ]
  },
  {
   "cell_type": "markdown",
   "metadata": {
    "colab_type": "text",
    "id": "IVLpPHBw4eHR"
   },
   "source": [
    "### **1. Example for ``re.search``**\n"
   ]
  },
  {
   "cell_type": "code",
   "execution_count": 4,
   "metadata": {
    "colab": {},
    "colab_type": "code",
    "id": "nlL7Itj-4eHU",
    "pycharm": {
     "is_executing": false
    }
   },
   "outputs": [],
   "source": [
    "sentence = 'This is a sample string'"
   ]
  },
  {
   "cell_type": "code",
   "execution_count": 5,
   "metadata": {
    "colab": {
     "base_uri": "https://localhost:8080/",
     "height": 34
    },
    "colab_type": "code",
    "id": "v6_RvkPS4eHe",
    "outputId": "e4257c03-1628-4f00-9872-bb323993dfb0",
    "pycharm": {
     "is_executing": false
    }
   },
   "outputs": [
    {
     "data": {
      "text/plain": [
       "re.Match"
      ]
     },
     "execution_count": 5,
     "metadata": {},
     "output_type": "execute_result"
    }
   ],
   "source": [
    "# check if 'sentence' contains the pattern described by RE argument\n",
    "type(re.search(r'is', sentence))"
   ]
  },
  {
   "cell_type": "code",
   "execution_count": 9,
   "metadata": {},
   "outputs": [
    {
     "data": {
      "text/plain": [
       "True"
      ]
     },
     "execution_count": 9,
     "metadata": {},
     "output_type": "execute_result"
    }
   ],
   "source": [
    "bool(re.search(r'is',sentence))"
   ]
  },
  {
   "cell_type": "code",
   "execution_count": 8,
   "metadata": {},
   "outputs": [
    {
     "data": {
      "text/plain": [
       "<re.Match object; span=(2, 4), match='is'>"
      ]
     },
     "execution_count": 8,
     "metadata": {},
     "output_type": "execute_result"
    }
   ],
   "source": [
    "# (2,4) <=> index at 2, 3\n",
    "re.search(r'is', sentence)"
   ]
  },
  {
   "cell_type": "code",
   "execution_count": 10,
   "metadata": {
    "colab": {
     "base_uri": "https://localhost:8080/",
     "height": 34
    },
    "colab_type": "code",
    "id": "auveVcJOG_sp",
    "outputId": "c1612dc9-9bc6-490e-ac50-5b085d7ac2b5"
   },
   "outputs": [
    {
     "data": {
      "text/plain": [
       "<re.Match object; span=(1, 9), match='bc ac ad'>"
      ]
     },
     "execution_count": 10,
     "metadata": {},
     "output_type": "execute_result"
    }
   ],
   "source": [
    "# * => kí tự trước lặp 0 hoặc nhiều lần\n",
    "# . => bất kì kí tự nào ngoại trừ \\n\n",
    "re.search(r'b.*d', 'abc ac adc abbbc')"
   ]
  },
  {
   "cell_type": "code",
   "execution_count": 11,
   "metadata": {
    "colab": {},
    "colab_type": "code",
    "id": "KyMV5T893feC"
   },
   "outputs": [
    {
     "data": {
      "text/plain": [
       "<re.Match object; span=(5, 16), match='is a sample'>"
      ]
     },
     "execution_count": 11,
     "metadata": {},
     "output_type": "execute_result"
    }
   ],
   "source": [
    "# () Khớp 1 nhóm kí tự đồng thời và nhớ kết quả khớp\n",
    "# \\b Ký tự thuộc a-z hoặc A-Z hoặc 0-9 hoặc _\n",
    "match = re.search(r'\\b(is).*(ple)', sentence)\n",
    "match"
   ]
  },
  {
   "cell_type": "code",
   "execution_count": 12,
   "metadata": {},
   "outputs": [
    {
     "data": {
      "text/plain": [
       "<re.Match object; span=(2, 16), match='is is a sample'>"
      ]
     },
     "execution_count": 12,
     "metadata": {},
     "output_type": "execute_result"
    }
   ],
   "source": [
    "# () Khớp 1 nhóm kí tự đồng thời và nhớ kết quả khớp\n",
    "# \\bX biên bắt đầu = X\n",
    "match = re.search(r'(is).*(ple)', sentence)\n",
    "match"
   ]
  },
  {
   "cell_type": "code",
   "execution_count": 13,
   "metadata": {
    "colab": {
     "base_uri": "https://localhost:8080/",
     "height": 34
    },
    "colab_type": "code",
    "id": "ihwUIMEJ3rjh",
    "outputId": "1331a6e8-234b-44d4-a87c-29ca029e9f96"
   },
   "outputs": [
    {
     "data": {
      "text/plain": [
       "'is is a sample'"
      ]
     },
     "execution_count": 13,
     "metadata": {},
     "output_type": "execute_result"
    }
   ],
   "source": [
    "match.group()"
   ]
  },
  {
   "cell_type": "code",
   "execution_count": 14,
   "metadata": {
    "colab": {
     "base_uri": "https://localhost:8080/",
     "height": 34
    },
    "colab_type": "code",
    "id": "Mn6loUZh3wab",
    "outputId": "0e85e691-d77a-47f1-d3dd-b4c63a5f8a0b"
   },
   "outputs": [
    {
     "data": {
      "text/plain": [
       "('is', 'ple')"
      ]
     },
     "execution_count": 14,
     "metadata": {},
     "output_type": "execute_result"
    }
   ],
   "source": [
    "match.groups()"
   ]
  },
  {
   "cell_type": "code",
   "execution_count": null,
   "metadata": {
    "colab": {
     "base_uri": "https://localhost:8080/",
     "height": 34
    },
    "colab_type": "code",
    "id": "KS-EsoVf4eHl",
    "outputId": "a960c70a-3bda-4df5-959a-d3a825bf06e0",
    "pycharm": {
     "is_executing": false
    }
   },
   "outputs": [],
   "source": [
    "# ignore case while searching for a match\n",
    "bool(re.search(r'this', sentence, flags=re.I))"
   ]
  },
  {
   "cell_type": "code",
   "execution_count": null,
   "metadata": {},
   "outputs": [],
   "source": [
    "# No output\n",
    "re.search(r'this', sentence)"
   ]
  },
  {
   "cell_type": "code",
   "execution_count": null,
   "metadata": {},
   "outputs": [],
   "source": [
    "re.search(r'this', sentence, flags=re.I)"
   ]
  },
  {
   "cell_type": "code",
   "execution_count": null,
   "metadata": {
    "colab": {
     "base_uri": "https://localhost:8080/",
     "height": 34
    },
    "colab_type": "code",
    "id": "v-brFKn34eHr",
    "outputId": "b814597a-1895-4cc7-807b-2fab6b8d111a",
    "pycharm": {
     "is_executing": false
    }
   },
   "outputs": [],
   "source": [
    "bool(re.search(r'xyz', sentence))"
   ]
  },
  {
   "cell_type": "code",
   "execution_count": null,
   "metadata": {
    "colab": {
     "base_uri": "https://localhost:8080/",
     "height": 34
    },
    "colab_type": "code",
    "id": "2Bupq1Ml4eHv",
    "outputId": "249b66fd-9367-46df-89c7-1bb76c5bc2e7",
    "pycharm": {
     "is_executing": false
    }
   },
   "outputs": [],
   "source": [
    "# re.search output can be directly used in conditional expressions\n",
    "if re.search(r'ring', sentence):\n",
    "    print('True')"
   ]
  },
  {
   "cell_type": "code",
   "execution_count": null,
   "metadata": {
    "colab": {
     "base_uri": "https://localhost:8080/",
     "height": 34
    },
    "colab_type": "code",
    "id": "zg0VImvN4eIq",
    "outputId": "8497ecbb-a8d7-4a65-e498-93a67ff4957d",
    "pycharm": {
     "is_executing": false,
     "name": "#%% \n"
    }
   },
   "outputs": [],
   "source": [
    "# \\w =>Thay thế cho [a-zA-Z0-9]\n",
    "# ()\\1 khớp và đồng thời nhớ kết quả\n",
    "# * => Không có hoặc có nhiều lần 1 kí tự  \n",
    "words = ['The effort', 'flee', 'facade', 'oddball', 'rat', 'tool']\n",
    "[w for w in words if re.search(r'\\b\\w*(\\w)\\1\\w*\\b', w)]"
   ]
  },
  {
   "cell_type": "code",
   "execution_count": null,
   "metadata": {},
   "outputs": [],
   "source": [
    "words = ['effort', 'flee', 'facade', 'oddball', 'rat', 'tool']\n",
    "[w for w in words if re.search(r'\\b\\w*(\\w)\\1\\w(\\w)\\2\\w*\\b', w)]"
   ]
  },
  {
   "cell_type": "code",
   "execution_count": null,
   "metadata": {
    "colab": {
     "base_uri": "https://localhost:8080/",
     "height": 34
    },
    "colab_type": "code",
    "id": "unhP0UmtNJgs",
    "outputId": "ba47cc9b-84bc-4a1d-b068-d09fecf6e60c"
   },
   "outputs": [],
   "source": [
    "words = ['effort', 'flee', 'facade', 'oddballkk', 'rat', 'tool']\n",
    "[w for w in words if re.search(r'\\b\\w*(\\w)\\1\\w*(\\w)\\2(\\w)\\3\\w*\\b', w)]"
   ]
  },
  {
   "cell_type": "code",
   "execution_count": null,
   "metadata": {
    "colab": {
     "base_uri": "https://localhost:8080/"
    },
    "colab_type": "code",
    "id": "_O7ISwNOLX8W",
    "outputId": "c5302bc4-7b71-4a19-fe28-bbfd1310c9b5"
   },
   "outputs": [],
   "source": [
    "test = re.findall(r'\\d{2, 3}')"
   ]
  },
  {
   "cell_type": "markdown",
   "metadata": {
    "colab_type": "text",
    "id": "mQ19HqQA4eH7"
   },
   "source": [
    "### Use raw byte strings if input is of byte data type"
   ]
  },
  {
   "cell_type": "code",
   "execution_count": null,
   "metadata": {
    "colab": {},
    "colab_type": "code",
    "id": "UpTcQf954eH8",
    "pycharm": {
     "is_executing": false
    }
   },
   "outputs": [],
   "source": [
    "bool(re.search(rb'is', b'This is a sample string'))"
   ]
  },
  {
   "cell_type": "markdown",
   "metadata": {
    "colab_type": "text",
    "id": "RibpYMRF4eH_"
   },
   "source": [
    "## Difference between string and line anchors"
   ]
  },
  {
   "cell_type": "markdown",
   "metadata": {
    "colab_type": "text",
    "id": "xQT2GJm64eIA"
   },
   "source": [
    "### - string anchors"
   ]
  },
  {
   "cell_type": "code",
   "execution_count": null,
   "metadata": {
    "colab": {},
    "colab_type": "code",
    "id": "LK4KzuTz4eIA",
    "pycharm": {
     "is_executing": false
    }
   },
   "outputs": [],
   "source": [
    "# ^ => bắt đầu\n",
    "# $ => Kết thúc\n",
    "bool(re.search(r'^par$', 'spare\\npar\\ndare'))\n"
   ]
  },
  {
   "cell_type": "code",
   "execution_count": null,
   "metadata": {},
   "outputs": [],
   "source": [
    "# ^ => bắt đầu\n",
    "# $ => Kết thúc\n",
    "bool(re.search(r'^par$', 'par\\n'))"
   ]
  },
  {
   "cell_type": "code",
   "execution_count": null,
   "metadata": {},
   "outputs": [],
   "source": [
    "# ^ => bắt đầu\n",
    "# $ => Kết thúc\n",
    "bool(re.search(r'^par$', 'par\\t'))"
   ]
  },
  {
   "cell_type": "code",
   "execution_count": null,
   "metadata": {},
   "outputs": [],
   "source": [
    "re.search(r'^par$', 'spare\\npar\\ndare')"
   ]
  },
  {
   "cell_type": "markdown",
   "metadata": {
    "colab_type": "text",
    "id": "ESOryG0-4eIJ"
   },
   "source": [
    "### - line anchors"
   ]
  },
  {
   "cell_type": "code",
   "execution_count": null,
   "metadata": {
    "colab": {},
    "colab_type": "code",
    "id": "Szfk76R54eIJ",
    "pycharm": {
     "is_executing": false
    }
   },
   "outputs": [],
   "source": [
    "# line anchors => Khớp vị trí chứ không khớp chuỗi\n",
    "bool(re.search(r'^par$', 'spare\\npar\\ndare', flags=re.M))"
   ]
  },
  {
   "cell_type": "code",
   "execution_count": null,
   "metadata": {},
   "outputs": [],
   "source": [
    "bool(re.search(r'^par$', 'spar\\npar\\ndare', flags=re.M))"
   ]
  },
  {
   "cell_type": "code",
   "execution_count": null,
   "metadata": {},
   "outputs": [],
   "source": [
    "re.search(r'^par$', 'spare\\npar\\ndare', flags=re.M)"
   ]
  },
  {
   "cell_type": "code",
   "execution_count": null,
   "metadata": {},
   "outputs": [],
   "source": [
    "re.search(r'^par$', 'par\\ndare', flags=re.M)"
   ]
  },
  {
   "cell_type": "markdown",
   "metadata": {
    "colab_type": "text",
    "id": "vkzt5HUt4eIM"
   },
   "source": [
    "### **1. Example for ``re.findall``**"
   ]
  },
  {
   "cell_type": "code",
   "execution_count": null,
   "metadata": {
    "colab": {},
    "colab_type": "code",
    "id": "r6biVT1P4eIM",
    "pycharm": {
     "is_executing": false
    }
   },
   "outputs": [],
   "source": [
    "# ? Kí tự trước lặp không hoặc 1 lần\n",
    "re.findall(r'\\bs?pare?\\b', 'par spar apparent spare part pare')"
   ]
  },
  {
   "cell_type": "code",
   "execution_count": null,
   "metadata": {
    "colab": {},
    "colab_type": "code",
    "id": "SFUHER1r4eIP",
    "pycharm": {
     "is_executing": false
    }
   },
   "outputs": [],
   "source": [
    "# 0 => có số hoặc không => \n",
    "re.findall(r'\\b0*[1-9]\\d{1,3}.\\d{1,3}\\b', '0501 035 154 12 26 98234')"
   ]
  },
  {
   "cell_type": "code",
   "execution_count": null,
   "metadata": {
    "colab": {},
    "colab_type": "code",
    "id": "vIO0rdXa4eIR",
    "pycharm": {
     "is_executing": false
    }
   },
   "outputs": [],
   "source": [
    "# Lặp lại 0 hoặc nhiều lần\n",
    "re.findall(r'(x*):(y*)', 'xx:yyy x: x:yy :y')"
   ]
  },
  {
   "cell_type": "code",
   "execution_count": null,
   "metadata": {
    "colab": {},
    "colab_type": "code",
    "id": "udO-CK774eIT",
    "pycharm": {
     "is_executing": false
    }
   },
   "outputs": [],
   "source": [
    "re.findall(r'\\b\\w*(?:ách|au)\\b', 'bao giờ mới hết cách ly để anh em ta gặp nhau')"
   ]
  },
  {
   "cell_type": "code",
   "execution_count": null,
   "metadata": {},
   "outputs": [],
   "source": [
    "re.findall(r'\\b\\w(?:ách|au)\\b', 'bao giờ mới hết cách ly để anh em ta gặp nhau')"
   ]
  },
  {
   "cell_type": "markdown",
   "metadata": {
    "colab_type": "text",
    "id": "fK_DuX3H4eIg"
   },
   "source": [
    "### **2. Example for ``re.split``**"
   ]
  },
  {
   "cell_type": "code",
   "execution_count": null,
   "metadata": {
    "colab": {},
    "colab_type": "code",
    "id": "FjIGFwgR4eIh",
    "pycharm": {
     "is_executing": false
    }
   },
   "outputs": [],
   "source": [
    "# X+ Kí tự X có thể lặp 1 hoặc nhiều lần\n",
    "# \\D => Thay thế cho [^0-9]\n",
    "re.split(r'\\D+', 'Sample123string42with777numbers')"
   ]
  },
  {
   "cell_type": "code",
   "execution_count": null,
   "metadata": {},
   "outputs": [],
   "source": [
    "# \\d => Thay thế cho [0-9]\n",
    "re.split(r'\\d+', 'Sample123string42with777numbers')"
   ]
  },
  {
   "cell_type": "code",
   "execution_count": null,
   "metadata": {
    "colab": {},
    "colab_type": "code",
    "id": "TTTiRdw94eIj",
    "pycharm": {
     "is_executing": false
    }
   },
   "outputs": [],
   "source": [
    "# \\s kí tự khoảng trắng có cả \\f, \\n, \\t\n",
    "re.split(r'[\\d\\s]+', '**1\\f2\\n3star\\t7 77\\r**')"
   ]
  },
  {
   "cell_type": "code",
   "execution_count": null,
   "metadata": {
    "colab": {},
    "colab_type": "code",
    "id": "NNRBwj8s4eIl",
    "pycharm": {
     "is_executing": false
    }
   },
   "outputs": [],
   "source": [
    "# () => get it\n",
    "re.split(r'(\\d+)', 'Sample123string42with777numbers')"
   ]
  },
  {
   "cell_type": "code",
   "execution_count": null,
   "metadata": {
    "colab": {},
    "colab_type": "code",
    "id": "xd4hg22_4eIo",
    "pycharm": {
     "is_executing": false
    }
   },
   "outputs": [],
   "source": [
    "# | either or\n",
    "re.split(r'(hand(?:y|ful))', '123handed42handy777handful500')"
   ]
  },
  {
   "cell_type": "code",
   "execution_count": null,
   "metadata": {
    "colab": {},
    "colab_type": "code",
    "collapsed": false,
    "id": "Y9mIvWvt4eIt",
    "jupyter": {
     "outputs_hidden": false
    },
    "pycharm": {
     "is_executing": false,
     "name": "#%%\n"
    }
   },
   "outputs": [],
   "source": [
    "words = ['effort', 'flee', 'facade', 'oddball', 'rat', 'tool']\n",
    "ff = re.findall(r'\\b\\w*(\\w)\\1\\w*\\b', words[0])\n",
    "print(ff)"
   ]
  },
  {
   "cell_type": "markdown",
   "metadata": {
    "colab_type": "text",
    "id": "kMKwSJI-4eJE",
    "pycharm": {
     "name": "#%% md\n"
    }
   },
   "source": [
    "### **3. Example for ``re.finditer``**\n"
   ]
  },
  {
   "cell_type": "code",
   "execution_count": null,
   "metadata": {
    "colab": {},
    "colab_type": "code",
    "collapsed": false,
    "id": "c8kHfYdF4eJE",
    "jupyter": {
     "outputs_hidden": false
    },
    "pycharm": {
     "is_executing": false,
     "name": "#%%\n"
    }
   },
   "outputs": [],
   "source": [
    "# numbers < 350\n",
    "m_iter = re.finditer(r'[0-9]+', '45 349 651 593 4 204')\n",
    "[m for m in m_iter]"
   ]
  },
  {
   "cell_type": "code",
   "execution_count": null,
   "metadata": {
    "colab": {},
    "colab_type": "code",
    "collapsed": false,
    "id": "ObsuTein4eJH",
    "jupyter": {
     "outputs_hidden": false
    },
    "pycharm": {
     "is_executing": false,
     "name": "#%%\n"
    }
   },
   "outputs": [],
   "source": [
    "# + => Kí tự trước xuất hiện 1 hoặc nhiều lần\n",
    "m_iter = re.finditer(r'[0-9]+', '45 349 651 593 4 204')\n",
    "[m[0] for m in m_iter if int(m[0])<350]"
   ]
  },
  {
   "cell_type": "code",
   "execution_count": null,
   "metadata": {
    "colab": {},
    "colab_type": "code",
    "collapsed": false,
    "id": "aD4UvgIX4eJK",
    "jupyter": {
     "outputs_hidden": false
    },
    "pycharm": {
     "is_executing": false,
     "name": "#%%\n"
    }
   },
   "outputs": [],
   "source": [
    "# start and end+1 index of each matching portion\n",
    "m_iter = re.finditer(r'ab+c', 'abc ac adc abbbc')\n",
    "[m for m in m_iter]"
   ]
  },
  {
   "cell_type": "code",
   "execution_count": null,
   "metadata": {
    "colab": {},
    "colab_type": "code",
    "collapsed": false,
    "id": "9WoxgCC84eJM",
    "jupyter": {
     "outputs_hidden": false
    },
    "pycharm": {
     "is_executing": false,
     "name": "#%%\n"
    }
   },
   "outputs": [],
   "source": [
    "m_iter = re.finditer(r'ab+c', 'abc ac adc abbbc')\n",
    "for m in m_iter:\n",
    "     print(m.span())"
   ]
  },
  {
   "cell_type": "markdown",
   "metadata": {
    "colab_type": "text",
    "id": "jFsN5pj-4eJP",
    "pycharm": {
     "name": "#%% md\n"
    }
   },
   "source": [
    "### **4. Example for ``re.sub``**\n"
   ]
  },
  {
   "cell_type": "code",
   "execution_count": null,
   "metadata": {
    "colab": {},
    "colab_type": "code",
    "collapsed": false,
    "id": "FrIGSG504eJP",
    "jupyter": {
     "outputs_hidden": false
    },
    "pycharm": {
     "is_executing": false,
     "name": "#%%\n"
    }
   },
   "outputs": [],
   "source": [
    "ip_lines = \"catapults\\nconcatenate\\ncat\""
   ]
  },
  {
   "cell_type": "code",
   "execution_count": null,
   "metadata": {
    "colab": {},
    "colab_type": "code",
    "collapsed": false,
    "id": "sMGIp2zH4eJT",
    "jupyter": {
     "outputs_hidden": false
    },
    "pycharm": {
     "is_executing": false,
     "name": "#%%\n"
    }
   },
   "outputs": [],
   "source": [
    "# ^: starting word\n",
    "# re.sub => replace\n",
    "# line anchors => khớp vị trí\n",
    "print(re.sub(r'^', r'* ', ip_lines, flags=re.M))\n"
   ]
  },
  {
   "cell_type": "code",
   "execution_count": null,
   "metadata": {},
   "outputs": [],
   "source": [
    "# ^: starting word\n",
    "# re.sub => replace\n",
    "# line anchors => khớp vị trí\n",
    "print(re.sub(r'^', r'* ', ip_lines))"
   ]
  },
  {
   "cell_type": "code",
   "execution_count": null,
   "metadata": {
    "colab": {},
    "colab_type": "code",
    "collapsed": false,
    "id": "x4H4AfJk4eJV",
    "jupyter": {
     "outputs_hidden": false
    },
    "pycharm": {
     "is_executing": false,
     "name": "#%%\n"
    }
   },
   "outputs": [],
   "source": [
    "# replace 'par' only at start of word\n",
    "# \\b biên, khác vị trí bắt dầu và kết thúc\n",
    "re.sub(r'\\bpar', r'X', 'par spar apparent spare part')"
   ]
  },
  {
   "cell_type": "code",
   "execution_count": null,
   "metadata": {},
   "outputs": [],
   "source": [
    "# replace 'par' all \"par\" words\n",
    "re.sub(r'par', r'X', 'par spar apparent spare part')"
   ]
  },
  {
   "cell_type": "code",
   "execution_count": null,
   "metadata": {
    "colab": {},
    "colab_type": "code",
    "collapsed": false,
    "id": "-eJqY3da4eJd",
    "jupyter": {
     "outputs_hidden": false
    },
    "pycharm": {
     "is_executing": false,
     "name": "#%%\n"
    }
   },
   "outputs": [],
   "source": [
    "# same as: r'part|parrot|parent'\n",
    "# X? => X xuất hiện 0 hoặc 1 lần\n",
    "re.sub(r'par(en|ro)?t', r'X', 'par part parrot parent')\n"
   ]
  },
  {
   "cell_type": "code",
   "execution_count": null,
   "metadata": {
    "colab": {},
    "colab_type": "code",
    "collapsed": false,
    "id": "GNmxHsbm4eJg",
    "jupyter": {
     "outputs_hidden": false
    },
    "pycharm": {
     "is_executing": false,
     "name": "#%%\n"
    }
   },
   "outputs": [],
   "source": [
    "# remove first two columns where : is delimiter\n",
    "re.sub(r'\\A([^:]+:){2}', r'', ' foo:123:bar:baz', count=1)"
   ]
  },
  {
   "cell_type": "code",
   "execution_count": null,
   "metadata": {
    "colab": {},
    "colab_type": "code",
    "collapsed": false,
    "id": "dz3vM5kW4eJl",
    "jupyter": {
     "outputs_hidden": false
    },
    "pycharm": {
     "is_executing": false,
     "name": "#%%\n"
    }
   },
   "outputs": [],
   "source": [
    "# backreferencing in replacement section\n",
    "# remove any number of consecutive duplicate words separated by space\n",
    "re.sub(r'\\b(\\w+)(\\s+\\1)+\\b', r'\\1', 'aa a aa a a 42 f_1 f_1 f_13.14')"
   ]
  },
  {
   "cell_type": "code",
   "execution_count": null,
   "metadata": {
    "colab": {},
    "colab_type": "code",
    "collapsed": false,
    "id": "sXa_hF3B4eJn",
    "jupyter": {
     "outputs_hidden": false
    },
    "pycharm": {
     "is_executing": false,
     "name": "#%%\n"
    }
   },
   "outputs": [],
   "source": [
    "# add something around the matched strings\n",
    "re.sub(r'(\\d+)', r'(\\g<0>0)', '52 apples and 31 mangoes')\n"
   ]
  },
  {
   "cell_type": "code",
   "execution_count": null,
   "metadata": {
    "colab": {},
    "colab_type": "code",
    "collapsed": false,
    "id": "HexdNqoj4eJr",
    "jupyter": {
     "outputs_hidden": false
    },
    "pycharm": {
     "is_executing": false,
     "name": "#%%\n"
    }
   },
   "outputs": [],
   "source": [
    "# swap words that are separated by a comma\n",
    "re.sub(r'(\\w+),(\\w+)', r'\\2,\\1', 'good,bad 42,24')\n"
   ]
  },
  {
   "cell_type": "markdown",
   "metadata": {
    "colab_type": "text",
    "id": "Hr6KC6j0_cgZ"
   },
   "source": [
    "### **5. Quick test**\n",
    "Cho chuỗi sau:\n",
    "``Sau khi dịch covid-19 bùng phát giá dầu giảm 10.5%, giá điện giảm 15%, giá khẩu trang tăng 300%``\n",
    "Trích xuất phần trăm tăng và giảm"
   ]
  },
  {
   "cell_type": "code",
   "execution_count": 4,
   "metadata": {
    "colab": {},
    "colab_type": "code",
    "id": "Lqktp_k2_pzX"
   },
   "outputs": [],
   "source": [
    "text = u'Sau khi dịch covid-19 bùng phát giá dầu giảm 10.5%, giá điện giảm 15%, giá khẩu trang tăng 300%'"
   ]
  },
  {
   "cell_type": "code",
   "execution_count": 5,
   "metadata": {},
   "outputs": [],
   "source": [
    "import re"
   ]
  },
  {
   "cell_type": "code",
   "execution_count": null,
   "metadata": {
    "colab": {},
    "colab_type": "code",
    "id": "_cDwlspECjmF"
   },
   "outputs": [],
   "source": [
    "# liệt kê danh sách phần trăm giảm\n"
   ]
  },
  {
   "cell_type": "code",
   "execution_count": null,
   "metadata": {},
   "outputs": [],
   "source": []
  },
  {
   "cell_type": "code",
   "execution_count": null,
   "metadata": {
    "colab": {},
    "colab_type": "code",
    "id": "SdV2-PowCytd"
   },
   "outputs": [],
   "source": [
    "# liệt kê danh sách phần trăm tăng\n"
   ]
  },
  {
   "cell_type": "code",
   "execution_count": 6,
   "metadata": {},
   "outputs": [
    {
     "data": {
      "text/plain": [
       "['giá dầu giảm 10.5%, giá điện giảm 15%, giá khẩu trang tăng 300%']"
      ]
     },
     "execution_count": 6,
     "metadata": {},
     "output_type": "execute_result"
    }
   ],
   "source": [
    "re.findall(r'gi(?:á)\\s.*\\%', text)"
   ]
  },
  {
   "cell_type": "code",
   "execution_count": 7,
   "metadata": {},
   "outputs": [
    {
     "data": {
      "text/plain": [
       "['giá dầu giảm 10.5%, giá điện giảm 15%, giá khẩu trang tăng 300%']"
      ]
     },
     "execution_count": 7,
     "metadata": {},
     "output_type": "execute_result"
    }
   ],
   "source": [
    "re.findall(r'\\bgi(?:á)\\s.*[^\\w]', text)"
   ]
  },
  {
   "cell_type": "markdown",
   "metadata": {
    "colab_type": "text",
    "id": "pD2-du2Oc-Or"
   },
   "source": []
  },
  {
   "cell_type": "code",
   "execution_count": null,
   "metadata": {
    "colab": {},
    "colab_type": "code",
    "id": "Z75PKXk3cuPp"
   },
   "outputs": [],
   "source": [
    "tt = u'tăng từ 10%. tăng 10.5%. giảm còn 10%'\n"
   ]
  },
  {
   "cell_type": "code",
   "execution_count": null,
   "metadata": {
    "colab": {},
    "colab_type": "code",
    "id": "dgcRLzSic4Gk"
   },
   "outputs": [],
   "source": []
  }
 ],
 "metadata": {
  "colab": {
   "collapsed_sections": [
    "kMKwSJI-4eJE"
   ],
   "name": "regex_cheatsheet.ipynb",
   "provenance": [],
   "toc_visible": true
  },
  "kernelspec": {
   "display_name": "Python 3",
   "language": "python",
   "name": "python3"
  },
  "language_info": {
   "codemirror_mode": {
    "name": "ipython",
    "version": 3
   },
   "file_extension": ".py",
   "mimetype": "text/x-python",
   "name": "python",
   "nbconvert_exporter": "python",
   "pygments_lexer": "ipython3",
   "version": "3.8.5"
  },
  "pycharm": {
   "stem_cell": {
    "cell_type": "raw",
    "metadata": {
     "collapsed": false
    },
    "source": []
   }
  }
 },
 "nbformat": 4,
 "nbformat_minor": 4
}
