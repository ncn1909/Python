{
 "cells": [
  {
   "cell_type": "code",
   "execution_count": 5,
   "metadata": {},
   "outputs": [],
   "source": [
    "from bs4 import BeautifulSoup as bs\n",
    "import requests\n",
    "import re\n",
    "import pandas as pd"
   ]
  },
  {
   "cell_type": "code",
   "execution_count": 6,
   "metadata": {},
   "outputs": [],
   "source": [
    "URL = \"https://dantri.com.vn/su-kien.htm\""
   ]
  },
  {
   "cell_type": "code",
   "execution_count": 7,
   "metadata": {},
   "outputs": [],
   "source": [
    "\n",
    "def get_all_post():\n",
    "    r = requests.get(URL)\n",
    "    news_urls = []\n",
    "    soup = bs(r.text,\"lxml\")\n",
    "    for item in soup.select(\"h3.news-item__title>a\"):\n",
    "        url = item['href']\n",
    "        news_urls.append(url)\n",
    "    return news_urls\n",
    "\n",
    "def get_news_detail(url):\n",
    "    r = requests.get(url)\n",
    "    soup = bs(r.text,\"lxml\")\n",
    "    title = soup.select_one(\"h1\").text.strip()\n",
    "    description = soup.find(\"meta\",attrs = {\"name\":\"description\"}).get(\"content\", \"\").strip()\n",
    "    script_date = re.sub(r'\\n+',' ',str(soup.select_one(\"script\")))\n",
    "    publish_time = re.sub(r'.+\"published_date\":\"([^\"]+)?\".+',r'\\1',script_date).strip()\n",
    "    return title, description, publish_time\n",
    "title = []\n",
    "description = []\n",
    "publish_time = []\n",
    "link = []\n",
    "df = pd.DataFrame()\n",
    "for url in get_all_post():\n",
    "    full_url = url\n",
    "    if full_url.startswith('/'):\n",
    "        full_url = 'https://dantri.com.vn'+ url\n",
    "    t, d, p = get_news_detail(full_url)\n",
    "    if t:\n",
    "        title.append(t)\n",
    "        description.append(d)\n",
    "        publish_time.append(p)\n",
    "        link.append(url)\n",
    "df[\"Title\"] = title\n",
    "df[\"Description\"] = description\n",
    "df[\"Publish_Time\"] = publish_time\n",
    "df[\"Link\"] = link\n",
    "df.to_csv('articles.csv')\n",
    "    "
   ]
  },
  {
   "cell_type": "code",
   "execution_count": null,
   "metadata": {},
   "outputs": [],
   "source": []
  },
  {
   "cell_type": "code",
   "execution_count": null,
   "metadata": {},
   "outputs": [],
   "source": []
  }
 ],
 "metadata": {
  "kernelspec": {
   "display_name": "Python 3 (ipykernel)",
   "language": "python",
   "name": "python3"
  },
  "language_info": {
   "codemirror_mode": {
    "name": "ipython",
    "version": 3
   },
   "file_extension": ".py",
   "mimetype": "text/x-python",
   "name": "python",
   "nbconvert_exporter": "python",
   "pygments_lexer": "ipython3",
   "version": "3.9.7"
  }
 },
 "nbformat": 4,
 "nbformat_minor": 4
}
